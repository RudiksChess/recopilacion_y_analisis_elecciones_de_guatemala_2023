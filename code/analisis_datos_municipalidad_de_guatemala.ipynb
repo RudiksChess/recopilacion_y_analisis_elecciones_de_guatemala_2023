{
 "cells": [
  {
   "cell_type": "code",
   "execution_count": 510,
   "metadata": {
    "collapsed": true,
    "ExecuteTime": {
     "end_time": "2023-07-03T03:44:26.449593Z",
     "start_time": "2023-07-03T03:44:26.444895Z"
    }
   },
   "outputs": [],
   "source": [
    "import numpy as np\n",
    "import pandas as pd\n",
    "import csv\n",
    "from io import StringIO # import StringIO module\n",
    "import glob\n",
    "import os"
   ]
  },
  {
   "cell_type": "code",
   "execution_count": 511,
   "outputs": [],
   "source": [
    "def get_df_5_partidos(link):\n",
    "\n",
    "    with open(link, \"r\") as f:\n",
    "        text = f.read() # read the file as a string\n",
    "\n",
    "    # replace the substring in the whole string\n",
    "    text = text.replace('COMPROMISO,', 'COMPROMISO')\n",
    "    text = text.replace('COMPROMISO.', 'COMPROMISO')\n",
    "\n",
    "    # convert the string to a list of lines\n",
    "    rows = text.splitlines()\n",
    "\n",
    "    start = [i for i, s in enumerate(rows) if \"Código ,Nombre\" in s][0]\n",
    "\n",
    "    data = rows[start:]\n",
    "\n",
    "    # join the data lines into a single string\n",
    "    data_str = '\\n'.join(data)\n",
    "\n",
    "    # convert the data string to a StringIO object\n",
    "    data_io = StringIO(data_str)\n",
    "\n",
    "    # read the data into a dataframe with comma separator\n",
    "    df = pd.read_csv(data_io, sep=',',dtype=str,  names=['col1', 'col2', 'col3', 'col4', 'col5', 'col6','col7', 'col8', 'col9','col10'], quoting=csv.QUOTE_NONE)\n",
    "    df = df.iloc[1:25].copy()\n",
    "    lenght = len(df.columns)\n",
    "    result = df.iloc[:,2].fillna('')\n",
    "\n",
    "    for i in range(3,lenght):\n",
    "        result = result + df.iloc[:,i].fillna('')\n",
    "    eliminate_special_characters = {' ':'', '\\.':'','/':'1','o':'0','O':'0', ':':'','C':'0','-':'', 'X':'','a':'9',\n",
    "                                    '\\(':'','\\)':'','I':'1', 'U':'0', 'G':'6','D':'0','S':'5','B':'8','E':'8','A':'4',\n",
    "                                    'b':'6','s':'5','\\#':'4', '\\+':'7', 'Q':'0', \"\\\\\\\\\":'1', 'H':'4', '&':'8', '\\>':'',\n",
    "                                    '\\$':'5', 'x':'','\\?':'3', 'J':'','T':'7', 'n':'6', 't':'7','\\<':'5', '\\}':'3',\n",
    "                                    'Z':'2'}\n",
    "    df[\"votos_ocr\"] = result.replace(eliminate_special_characters, regex=True)\n",
    "    df = df[[\"col1\",\"votos_ocr\"]].copy()\n",
    "    df.columns = [\"codigo\",\"votos_ocr\"]\n",
    "    #df_final = df[df[\"codigo\"].str.contains(\"23\") |df[\"codigo\"].str.contains(\"15\")|df[\"codigo\"].str.contains(\"41\")|df[\"codigo\"].str.contains(\"88\")|df[\"codigo\"].str.contains(\"20\") ].copy()\n",
    "\n",
    "    df_final = df[df[\"codigo\"].str.contains(\"41\") |df[\"codigo\"].str.contains(\"20\") ].copy()\n",
    "\n",
    "    df_final[\"codigo\"] = df_final[\"codigo\"].str.rstrip()\n",
    "    change_numebers = {\"23\":\"TODOS\",\"15\":\"UNE\",\"41\":\"VALOR UNIONISTA\",\"88\":\"FOPPA X LA CIUDAD\",\"20\":\"CREO\"}\n",
    "    df_final[\"codigo\"] = df_final[\"codigo\"].replace(change_numebers)\n",
    "\n",
    "    return df_final"
   ],
   "metadata": {
    "collapsed": false,
    "ExecuteTime": {
     "end_time": "2023-07-03T03:44:28.407866Z",
     "start_time": "2023-07-03T03:44:28.400795Z"
    }
   }
  },
  {
   "cell_type": "markdown",
   "source": [],
   "metadata": {
    "collapsed": false
   }
  },
  {
   "cell_type": "markdown",
   "source": [],
   "metadata": {
    "collapsed": false
   }
  },
  {
   "cell_type": "code",
   "execution_count": 512,
   "outputs": [],
   "source": [
    "directorio_de_archivos = glob.glob(\"/Users/rudikrompich/Git/recopilacion_y_analisis_elecciones_de_guatemala_2023/final_data/elecciones_2023/corporacion_municipal/distrito_central_csv/*.*\")"
   ],
   "metadata": {
    "collapsed": false,
    "ExecuteTime": {
     "end_time": "2023-07-03T03:44:31.007360Z",
     "start_time": "2023-07-03T03:44:31.002025Z"
    }
   }
  },
  {
   "cell_type": "code",
   "execution_count": 513,
   "outputs": [],
   "source": [
    "cantidad_errores = 0\n",
    "df_general_ocr = pd.DataFrame()\n",
    "for archivo in directorio_de_archivos:\n",
    "    filename = os.path.basename(archivo).split(\".\")[0]\n",
    "    name_separated = filename.split(\"_\")\n",
    "    centro = name_separated[2]\n",
    "    mesa = name_separated[4]\n",
    "\n",
    "    try:\n",
    "        df_individual = get_df_5_partidos(archivo)\n",
    "        df_individual[\"centro\"] = centro\n",
    "        df_individual[\"mesa\"] = mesa\n",
    "        df_individual[\"centro\"] = df_individual[\"centro\"].astype(int)\n",
    "        df_individual[\"mesa\"] = df_individual[\"mesa\"].astype(int)\n",
    "        df_general_ocr = pd.concat([df_general_ocr,df_individual])\n",
    "    except:\n",
    "        print(archivo)\n",
    "        cantidad_errores = cantidad_errores + 1"
   ],
   "metadata": {
    "collapsed": false,
    "ExecuteTime": {
     "end_time": "2023-07-03T03:44:39.866583Z",
     "start_time": "2023-07-03T03:44:31.359428Z"
    }
   }
  },
  {
   "cell_type": "code",
   "execution_count": 514,
   "outputs": [
    {
     "data": {
      "text/plain": "0"
     },
     "execution_count": 514,
     "metadata": {},
     "output_type": "execute_result"
    }
   ],
   "source": [
    "cantidad_errores"
   ],
   "metadata": {
    "collapsed": false,
    "ExecuteTime": {
     "end_time": "2023-07-03T03:44:39.870264Z",
     "start_time": "2023-07-03T03:44:39.867238Z"
    }
   }
  },
  {
   "cell_type": "code",
   "execution_count": 515,
   "outputs": [
    {
     "data": {
      "text/plain": "             codigo votos_ocr  centro  mesa\n3   VALOR UNIONISTA        64      53   693\n24             CREO       039      53   693\n3   VALOR UNIONISTA       815      72   933\n24             CREO       058      72   933\n3   VALOR UNIONISTA        41     111  1512\n..              ...       ...     ...   ...\n24             CREO       051      81  1034\n3   VALOR UNIONISTA       076      70   892\n24             CREO       064      70   892\n3   VALOR UNIONISTA        18      29   366\n24             CREO       019      29   366\n\n[4028 rows x 4 columns]",
      "text/html": "<div>\n<style scoped>\n    .dataframe tbody tr th:only-of-type {\n        vertical-align: middle;\n    }\n\n    .dataframe tbody tr th {\n        vertical-align: top;\n    }\n\n    .dataframe thead th {\n        text-align: right;\n    }\n</style>\n<table border=\"1\" class=\"dataframe\">\n  <thead>\n    <tr style=\"text-align: right;\">\n      <th></th>\n      <th>codigo</th>\n      <th>votos_ocr</th>\n      <th>centro</th>\n      <th>mesa</th>\n    </tr>\n  </thead>\n  <tbody>\n    <tr>\n      <th>3</th>\n      <td>VALOR UNIONISTA</td>\n      <td>64</td>\n      <td>53</td>\n      <td>693</td>\n    </tr>\n    <tr>\n      <th>24</th>\n      <td>CREO</td>\n      <td>039</td>\n      <td>53</td>\n      <td>693</td>\n    </tr>\n    <tr>\n      <th>3</th>\n      <td>VALOR UNIONISTA</td>\n      <td>815</td>\n      <td>72</td>\n      <td>933</td>\n    </tr>\n    <tr>\n      <th>24</th>\n      <td>CREO</td>\n      <td>058</td>\n      <td>72</td>\n      <td>933</td>\n    </tr>\n    <tr>\n      <th>3</th>\n      <td>VALOR UNIONISTA</td>\n      <td>41</td>\n      <td>111</td>\n      <td>1512</td>\n    </tr>\n    <tr>\n      <th>...</th>\n      <td>...</td>\n      <td>...</td>\n      <td>...</td>\n      <td>...</td>\n    </tr>\n    <tr>\n      <th>24</th>\n      <td>CREO</td>\n      <td>051</td>\n      <td>81</td>\n      <td>1034</td>\n    </tr>\n    <tr>\n      <th>3</th>\n      <td>VALOR UNIONISTA</td>\n      <td>076</td>\n      <td>70</td>\n      <td>892</td>\n    </tr>\n    <tr>\n      <th>24</th>\n      <td>CREO</td>\n      <td>064</td>\n      <td>70</td>\n      <td>892</td>\n    </tr>\n    <tr>\n      <th>3</th>\n      <td>VALOR UNIONISTA</td>\n      <td>18</td>\n      <td>29</td>\n      <td>366</td>\n    </tr>\n    <tr>\n      <th>24</th>\n      <td>CREO</td>\n      <td>019</td>\n      <td>29</td>\n      <td>366</td>\n    </tr>\n  </tbody>\n</table>\n<p>4028 rows × 4 columns</p>\n</div>"
     },
     "execution_count": 515,
     "metadata": {},
     "output_type": "execute_result"
    }
   ],
   "source": [
    "df_general_ocr"
   ],
   "metadata": {
    "collapsed": false,
    "ExecuteTime": {
     "end_time": "2023-07-03T03:44:39.875289Z",
     "start_time": "2023-07-03T03:44:39.872608Z"
    }
   }
  },
  {
   "cell_type": "markdown",
   "source": [
    "# Datos del TSE del sistema TREP"
   ],
   "metadata": {
    "collapsed": false
   }
  },
  {
   "cell_type": "code",
   "execution_count": 516,
   "outputs": [
    {
     "data": {
      "text/plain": "       centro  mesa codigo  votos_trep\n0           1     1  TODOS           9\n1           1     2  TODOS          14\n2           1     3  TODOS          10\n3           1     4  TODOS           9\n4           2     5  TODOS           7\n...       ...   ...    ...         ...\n48547     152  2019   CREO           2\n48548     152  2020   CREO           1\n48549     152  2021   CREO           2\n48550     152  2022   CREO           4\n48551     152  2023   CREO           0\n\n[48552 rows x 4 columns]",
      "text/html": "<div>\n<style scoped>\n    .dataframe tbody tr th:only-of-type {\n        vertical-align: middle;\n    }\n\n    .dataframe tbody tr th {\n        vertical-align: top;\n    }\n\n    .dataframe thead th {\n        text-align: right;\n    }\n</style>\n<table border=\"1\" class=\"dataframe\">\n  <thead>\n    <tr style=\"text-align: right;\">\n      <th></th>\n      <th>centro</th>\n      <th>mesa</th>\n      <th>codigo</th>\n      <th>votos_trep</th>\n    </tr>\n  </thead>\n  <tbody>\n    <tr>\n      <th>0</th>\n      <td>1</td>\n      <td>1</td>\n      <td>TODOS</td>\n      <td>9</td>\n    </tr>\n    <tr>\n      <th>1</th>\n      <td>1</td>\n      <td>2</td>\n      <td>TODOS</td>\n      <td>14</td>\n    </tr>\n    <tr>\n      <th>2</th>\n      <td>1</td>\n      <td>3</td>\n      <td>TODOS</td>\n      <td>10</td>\n    </tr>\n    <tr>\n      <th>3</th>\n      <td>1</td>\n      <td>4</td>\n      <td>TODOS</td>\n      <td>9</td>\n    </tr>\n    <tr>\n      <th>4</th>\n      <td>2</td>\n      <td>5</td>\n      <td>TODOS</td>\n      <td>7</td>\n    </tr>\n    <tr>\n      <th>...</th>\n      <td>...</td>\n      <td>...</td>\n      <td>...</td>\n      <td>...</td>\n    </tr>\n    <tr>\n      <th>48547</th>\n      <td>152</td>\n      <td>2019</td>\n      <td>CREO</td>\n      <td>2</td>\n    </tr>\n    <tr>\n      <th>48548</th>\n      <td>152</td>\n      <td>2020</td>\n      <td>CREO</td>\n      <td>1</td>\n    </tr>\n    <tr>\n      <th>48549</th>\n      <td>152</td>\n      <td>2021</td>\n      <td>CREO</td>\n      <td>2</td>\n    </tr>\n    <tr>\n      <th>48550</th>\n      <td>152</td>\n      <td>2022</td>\n      <td>CREO</td>\n      <td>4</td>\n    </tr>\n    <tr>\n      <th>48551</th>\n      <td>152</td>\n      <td>2023</td>\n      <td>CREO</td>\n      <td>0</td>\n    </tr>\n  </tbody>\n</table>\n<p>48552 rows × 4 columns</p>\n</div>"
     },
     "execution_count": 516,
     "metadata": {},
     "output_type": "execute_result"
    }
   ],
   "source": [
    "df_complete_trep = pd.read_csv(\"/Users/rudikrompich/Git/recopilacion_y_analisis_elecciones_de_guatemala_2023/data_sistema_trep/4-CORPORACIÓN/gtm2023_e4d00m01.csv\", sep=\",\",skiprows=4)\n",
    "df_complete_trep = df_complete_trep.iloc[:,:31].copy().drop(columns=[\"DEPARTAMENTO\", \"ID_DEPARTAMENTO\", \"MUNICIPIO\", \"ID_MUNICIPIO\", \"PADRÓN\"])\n",
    "df_complete_trep = pd.melt(df_complete_trep, id_vars=[\"CENTRO_DE_VOTACIÓN\", \"MESA\"], value_vars=df_complete_trep.columns[2:], var_name=\"codigo\", value_name=\"votos_trep\")\n",
    "\n",
    "df_complete_trep[\"votos_trep\"] = df_complete_trep[\"votos_trep\"].replace(\"--\", 0)\n",
    "df_complete_trep[\"votos_trep\"] = df_complete_trep[\"votos_trep\"].astype(int)\n",
    "df_complete_trep.columns = ['centro', 'mesa', 'codigo', 'votos_trep']\n",
    "df_complete_trep"
   ],
   "metadata": {
    "collapsed": false,
    "ExecuteTime": {
     "end_time": "2023-07-03T03:44:39.906156Z",
     "start_time": "2023-07-03T03:44:39.877048Z"
    }
   }
  },
  {
   "cell_type": "markdown",
   "source": [
    "# Merge"
   ],
   "metadata": {
    "collapsed": false
   }
  },
  {
   "cell_type": "code",
   "execution_count": 579,
   "outputs": [],
   "source": [
    "def check_votos(row):\n",
    "  # convert votos_ocr column to int if possible, otherwise return \"Incorrect\"\n",
    "  try:\n",
    "    row[\"votos_ocr\"] = int(row[\"votos_ocr\"])\n",
    "  except ValueError:\n",
    "    return \"Incorrect\"\n",
    "\n",
    "  # compare votos_ocr and votos_trep columns and return \"correct\" if they match, otherwise return \"Incorrect\"\n",
    "  if row[\"votos_ocr\"] == row[\"votos_trep\"]:\n",
    "    return \"correct\"\n",
    "  else:\n",
    "    return \"Incorrect\"\n",
    "\n",
    "def change_votos(row):\n",
    "  # convert votos_ocr column to int if possible, otherwise return \"Incorrect\"\n",
    "  try:\n",
    "    row[\"votos_ocr\"] = int(row[\"votos_ocr\"])\n",
    "  except ValueError:\n",
    "    return np.NaN\n",
    "\n",
    "  # compare votos_ocr and votos_trep columns and return \"correct\" if they match, otherwise return \"Incorrect\"\n",
    "  if row[\"votos_ocr\"] == row[\"votos_trep\"]:\n",
    "    return row[\"votos_trep\"]\n",
    "  else:\n",
    "    return np.NaN\n"
   ],
   "metadata": {
    "collapsed": false,
    "ExecuteTime": {
     "end_time": "2023-07-03T04:03:32.596241Z",
     "start_time": "2023-07-03T04:03:32.593744Z"
    }
   }
  },
  {
   "cell_type": "code",
   "execution_count": 589,
   "outputs": [],
   "source": [
    "df_completo_con_ocr_y_trep = pd.merge(df_general_ocr, df_complete_trep, on=[\"centro\", \"mesa\", \"codigo\"],how='left')\n",
    "df_completo_con_ocr_y_trep['votos_trep'] = df_completo_con_ocr_y_trep['votos_trep']\n",
    "\n",
    "df_completo_con_ocr_y_trep[\"result\"] = df_completo_con_ocr_y_trep.apply(check_votos, axis=1)\n",
    "df_completo_con_ocr_y_trep[\"votos_ocr_correcto\"] = df_completo_con_ocr_y_trep.apply(change_votos, axis=1)\n",
    "\n",
    "\n",
    "df_completo_con_ocr_y_trep.loc[df_completo_con_ocr_y_trep[\"result\"] == \"Incorrect\", \"votos_ocr\"] = df_completo_con_ocr_y_trep.loc[df_completo_con_ocr_y_trep[\"result\"] == \"Incorrect\", \"votos_ocr\"].replace({'1':''},regex=True)\n",
    "\n",
    "df_completo_con_ocr_y_trep[\"result\"] = df_completo_con_ocr_y_trep.apply(check_votos, axis=1)\n",
    "df_completo_con_ocr_y_trep[\"votos_ocr_correcto\"] = df_completo_con_ocr_y_trep.apply(change_votos, axis=1)\n",
    "\n",
    "df_completo_con_ocr_y_trep.sort_values(by=\"mesa\").reset_index(drop=True,inplace=True)\n",
    "df_completo_con_ocr_y_trep = df_completo_con_ocr_y_trep[['centro', 'mesa','codigo', 'result', 'votos_trep','votos_ocr','votos_ocr_correcto']].copy()"
   ],
   "metadata": {
    "collapsed": false,
    "ExecuteTime": {
     "end_time": "2023-07-03T04:12:17.768925Z",
     "start_time": "2023-07-03T04:12:17.581033Z"
    }
   }
  },
  {
   "cell_type": "code",
   "execution_count": 590,
   "outputs": [
    {
     "data": {
      "text/plain": "correct      3534\nIncorrect     494\nName: result, dtype: int64"
     },
     "execution_count": 590,
     "metadata": {},
     "output_type": "execute_result"
    }
   ],
   "source": [
    "df_completo_con_ocr_y_trep[\"result\"].value_counts()"
   ],
   "metadata": {
    "collapsed": false,
    "ExecuteTime": {
     "end_time": "2023-07-03T04:12:20.212272Z",
     "start_time": "2023-07-03T04:12:20.203895Z"
    }
   }
  },
  {
   "cell_type": "code",
   "execution_count": 591,
   "outputs": [],
   "source": [
    "df_completo_con_ocr_y_trep.to_excel('/Users/rudikrompich/Git/recopilacion_y_analisis_elecciones_de_guatemala_2023/data_analisis/errores_corporacion_municipal_distrito_central.xlsx',index=False)"
   ],
   "metadata": {
    "collapsed": false,
    "ExecuteTime": {
     "end_time": "2023-07-03T04:12:33.626469Z",
     "start_time": "2023-07-03T04:12:33.256068Z"
    }
   }
  },
  {
   "cell_type": "code",
   "execution_count": null,
   "outputs": [],
   "source": [],
   "metadata": {
    "collapsed": false
   }
  },
  {
   "cell_type": "code",
   "execution_count": null,
   "outputs": [],
   "source": [],
   "metadata": {
    "collapsed": false
   }
  }
 ],
 "metadata": {
  "kernelspec": {
   "display_name": "Python 3",
   "language": "python",
   "name": "python3"
  },
  "language_info": {
   "codemirror_mode": {
    "name": "ipython",
    "version": 2
   },
   "file_extension": ".py",
   "mimetype": "text/x-python",
   "name": "python",
   "nbconvert_exporter": "python",
   "pygments_lexer": "ipython2",
   "version": "2.7.6"
  }
 },
 "nbformat": 4,
 "nbformat_minor": 0
}
