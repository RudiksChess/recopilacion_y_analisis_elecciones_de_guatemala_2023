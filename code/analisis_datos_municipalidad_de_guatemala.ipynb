{
 "cells": [
  {
   "cell_type": "code",
   "execution_count": 730,
   "metadata": {
    "collapsed": true,
    "ExecuteTime": {
     "end_time": "2023-07-03T07:35:11.620074Z",
     "start_time": "2023-07-03T07:35:11.617846Z"
    }
   },
   "outputs": [],
   "source": [
    "import numpy as np\n",
    "import pandas as pd\n",
    "import csv\n",
    "from io import StringIO # import StringIO module\n",
    "import glob\n",
    "import os"
   ]
  },
  {
   "cell_type": "code",
   "execution_count": 731,
   "outputs": [],
   "source": [
    "def get_df_5_partidos(link):\n",
    "\n",
    "    with open(link, \"r\") as f:\n",
    "        text = f.read() # read the file as a string\n",
    "\n",
    "    # replace the substring in the whole string\n",
    "    text = text.replace('COMPROMISO,', 'COMPROMISO')\n",
    "    text = text.replace('COMPROMISO.', 'COMPROMISO')\n",
    "\n",
    "    # convert the string to a list of lines\n",
    "    rows = text.splitlines()\n",
    "\n",
    "    start = [i for i, s in enumerate(rows) if \"Código ,Nombre\" in s][0]\n",
    "\n",
    "    data = rows[start:]\n",
    "\n",
    "    # join the data lines into a single string\n",
    "    data_str = '\\n'.join(data)\n",
    "\n",
    "    # convert the data string to a StringIO object\n",
    "    data_io = StringIO(data_str)\n",
    "\n",
    "    # read the data into a dataframe with comma separator\n",
    "    df = pd.read_csv(data_io, sep=',',dtype=str,  names=['col1', 'col2', 'col3', 'col4', 'col5', 'col6','col7', 'col8', 'col9','col10'], quoting=csv.QUOTE_NONE)\n",
    "    df = df.iloc[1:25].copy()\n",
    "    lenght = len(df.columns)\n",
    "    result = df.iloc[:,2].fillna('')\n",
    "\n",
    "    for i in range(3,lenght):\n",
    "        result = result + df.iloc[:,i].fillna('')\n",
    "    eliminate_special_characters = {' ':'', '\\.':'','/':'1','o':'0','O':'0', ':':'','C':'0','-':'', 'X':'','a':'9',\n",
    "                                    '\\(':'','\\)':'','I':'1', 'U':'0', 'G':'6','D':'0','S':'5','B':'8','E':'8','A':'4',\n",
    "                                    'b':'6','s':'5','\\#':'4', '\\+':'7', 'Q':'0', \"\\\\\\\\\":'1', 'H':'4', '&':'8', '\\>':'',\n",
    "                                    '\\$':'5', 'x':'','\\?':'3', 'J':'','T':'7', 'n':'6', 't':'7','\\<':'5', '\\}':'3',\n",
    "                                    'Z':'2'}\n",
    "    df[\"votos_ocr\"] = result.replace(eliminate_special_characters, regex=True)\n",
    "    df = df[[\"col1\",\"votos_ocr\"]].copy()\n",
    "    df.columns = [\"codigo\",\"votos_ocr\"]\n",
    "    #df_final = df[df[\"codigo\"].str.contains(\"23\") |df[\"codigo\"].str.contains(\"15\")|df[\"codigo\"].str.contains(\"41\")|df[\"codigo\"].str.contains(\"88\")|df[\"codigo\"].str.contains(\"20\") ].copy()\n",
    "\n",
    "    df_final = df[df[\"codigo\"].str.contains(\"41\") |df[\"codigo\"].str.contains(\"20\") ].copy()\n",
    "\n",
    "    df_final[\"codigo\"] = df_final[\"codigo\"].str.rstrip()\n",
    "    change_numebers = {\"23\":\"TODOS\",\"15\":\"UNE\",\"41\":\"VALOR UNIONISTA\",\"88\":\"FOPPA X LA CIUDAD\",\"20\":\"CREO\"}\n",
    "    df_final[\"codigo\"] = df_final[\"codigo\"].replace(change_numebers)\n",
    "\n",
    "    return df_final"
   ],
   "metadata": {
    "collapsed": false,
    "ExecuteTime": {
     "end_time": "2023-07-03T07:35:11.866844Z",
     "start_time": "2023-07-03T07:35:11.862635Z"
    }
   }
  },
  {
   "cell_type": "markdown",
   "source": [],
   "metadata": {
    "collapsed": false
   }
  },
  {
   "cell_type": "markdown",
   "source": [],
   "metadata": {
    "collapsed": false
   }
  },
  {
   "cell_type": "code",
   "execution_count": 732,
   "outputs": [],
   "source": [
    "directorio_de_archivos = glob.glob(\"/Users/rudikrompich/Git/recopilacion_y_analisis_elecciones_de_guatemala_2023/final_data/elecciones_2023/corporacion_municipal/distrito_central_csv/*.*\")"
   ],
   "metadata": {
    "collapsed": false,
    "ExecuteTime": {
     "end_time": "2023-07-03T07:35:13.027276Z",
     "start_time": "2023-07-03T07:35:13.013766Z"
    }
   }
  },
  {
   "cell_type": "code",
   "execution_count": 733,
   "outputs": [
    {
     "data": {
      "text/plain": "2023"
     },
     "execution_count": 733,
     "metadata": {},
     "output_type": "execute_result"
    }
   ],
   "source": [
    "len(directorio_de_archivos)"
   ],
   "metadata": {
    "collapsed": false,
    "ExecuteTime": {
     "end_time": "2023-07-03T07:35:13.346932Z",
     "start_time": "2023-07-03T07:35:13.335130Z"
    }
   }
  },
  {
   "cell_type": "code",
   "execution_count": 734,
   "outputs": [],
   "source": [
    "cantidad_errores = 0\n",
    "df_general_ocr = pd.DataFrame()\n",
    "for archivo in directorio_de_archivos:\n",
    "    filename = os.path.basename(archivo).split(\".\")[0]\n",
    "    name_separated = filename.split(\"_\")\n",
    "    centro = name_separated[2]\n",
    "    mesa = name_separated[4]\n",
    "\n",
    "    try:\n",
    "        df_individual = get_df_5_partidos(archivo)\n",
    "        df_individual[\"centro\"] = centro\n",
    "        df_individual[\"mesa\"] = mesa\n",
    "        df_individual[\"centro\"] = df_individual[\"centro\"].astype(int)\n",
    "        df_individual[\"mesa\"] = df_individual[\"mesa\"].astype(int)\n",
    "        df_general_ocr = pd.concat([df_general_ocr,df_individual])\n",
    "    except:\n",
    "        print(archivo)\n",
    "        cantidad_errores = cantidad_errores + 1"
   ],
   "metadata": {
    "collapsed": false,
    "ExecuteTime": {
     "end_time": "2023-07-03T07:35:23.062204Z",
     "start_time": "2023-07-03T07:35:13.688754Z"
    }
   }
  },
  {
   "cell_type": "code",
   "execution_count": 735,
   "outputs": [
    {
     "data": {
      "text/plain": "             codigo votos_ocr  centro  mesa\n3   VALOR UNIONISTA        64      53   693\n24             CREO       039      53   693\n3   VALOR UNIONISTA       815      72   933\n24             CREO       058      72   933\n3   VALOR UNIONISTA        41     111  1512\n..              ...       ...     ...   ...\n24             CREO       051      81  1034\n3   VALOR UNIONISTA       076      70   892\n24             CREO       064      70   892\n3   VALOR UNIONISTA        18      29   366\n24             CREO       019      29   366\n\n[4046 rows x 4 columns]",
      "text/html": "<div>\n<style scoped>\n    .dataframe tbody tr th:only-of-type {\n        vertical-align: middle;\n    }\n\n    .dataframe tbody tr th {\n        vertical-align: top;\n    }\n\n    .dataframe thead th {\n        text-align: right;\n    }\n</style>\n<table border=\"1\" class=\"dataframe\">\n  <thead>\n    <tr style=\"text-align: right;\">\n      <th></th>\n      <th>codigo</th>\n      <th>votos_ocr</th>\n      <th>centro</th>\n      <th>mesa</th>\n    </tr>\n  </thead>\n  <tbody>\n    <tr>\n      <th>3</th>\n      <td>VALOR UNIONISTA</td>\n      <td>64</td>\n      <td>53</td>\n      <td>693</td>\n    </tr>\n    <tr>\n      <th>24</th>\n      <td>CREO</td>\n      <td>039</td>\n      <td>53</td>\n      <td>693</td>\n    </tr>\n    <tr>\n      <th>3</th>\n      <td>VALOR UNIONISTA</td>\n      <td>815</td>\n      <td>72</td>\n      <td>933</td>\n    </tr>\n    <tr>\n      <th>24</th>\n      <td>CREO</td>\n      <td>058</td>\n      <td>72</td>\n      <td>933</td>\n    </tr>\n    <tr>\n      <th>3</th>\n      <td>VALOR UNIONISTA</td>\n      <td>41</td>\n      <td>111</td>\n      <td>1512</td>\n    </tr>\n    <tr>\n      <th>...</th>\n      <td>...</td>\n      <td>...</td>\n      <td>...</td>\n      <td>...</td>\n    </tr>\n    <tr>\n      <th>24</th>\n      <td>CREO</td>\n      <td>051</td>\n      <td>81</td>\n      <td>1034</td>\n    </tr>\n    <tr>\n      <th>3</th>\n      <td>VALOR UNIONISTA</td>\n      <td>076</td>\n      <td>70</td>\n      <td>892</td>\n    </tr>\n    <tr>\n      <th>24</th>\n      <td>CREO</td>\n      <td>064</td>\n      <td>70</td>\n      <td>892</td>\n    </tr>\n    <tr>\n      <th>3</th>\n      <td>VALOR UNIONISTA</td>\n      <td>18</td>\n      <td>29</td>\n      <td>366</td>\n    </tr>\n    <tr>\n      <th>24</th>\n      <td>CREO</td>\n      <td>019</td>\n      <td>29</td>\n      <td>366</td>\n    </tr>\n  </tbody>\n</table>\n<p>4046 rows × 4 columns</p>\n</div>"
     },
     "execution_count": 735,
     "metadata": {},
     "output_type": "execute_result"
    }
   ],
   "source": [
    "df_general_ocr"
   ],
   "metadata": {
    "collapsed": false,
    "ExecuteTime": {
     "end_time": "2023-07-03T07:35:23.062539Z",
     "start_time": "2023-07-03T07:35:23.056063Z"
    }
   }
  },
  {
   "cell_type": "code",
   "execution_count": 736,
   "outputs": [
    {
     "data": {
      "text/plain": "set()"
     },
     "execution_count": 736,
     "metadata": {},
     "output_type": "execute_result"
    }
   ],
   "source": [
    "dataframe_generado = sorted(df_general_ocr[\"mesa\"].unique().tolist())\n",
    "\n",
    "all_numbers = set(range(1, 2024))\n",
    "\n",
    "missing_numbers = all_numbers - set(dataframe_generado)\n",
    "missing_numbers"
   ],
   "metadata": {
    "collapsed": false,
    "ExecuteTime": {
     "end_time": "2023-07-03T07:35:23.062913Z",
     "start_time": "2023-07-03T07:35:23.059839Z"
    }
   }
  },
  {
   "cell_type": "code",
   "execution_count": 737,
   "outputs": [
    {
     "data": {
      "text/plain": "[1,\n 2,\n 3,\n 4,\n 5,\n 6,\n 7,\n 8,\n 9,\n 10,\n 11,\n 12,\n 13,\n 14,\n 15,\n 16,\n 17,\n 18,\n 19,\n 20,\n 21,\n 22,\n 23,\n 24,\n 25,\n 26,\n 27,\n 28,\n 29,\n 30,\n 31,\n 32,\n 33,\n 34,\n 35,\n 36,\n 37,\n 38,\n 39,\n 40,\n 41,\n 42,\n 43,\n 44,\n 45,\n 46,\n 47,\n 48,\n 49,\n 50,\n 51,\n 52,\n 53,\n 54,\n 55,\n 56,\n 57,\n 58,\n 59,\n 60,\n 61,\n 62,\n 63,\n 64,\n 65,\n 66,\n 67,\n 68,\n 69,\n 70,\n 71,\n 72,\n 73,\n 74,\n 75,\n 76,\n 77,\n 78,\n 79,\n 80,\n 81,\n 82,\n 83,\n 84,\n 85,\n 86,\n 87,\n 88,\n 89,\n 90,\n 91,\n 92,\n 93,\n 94,\n 95,\n 96,\n 97,\n 98,\n 99,\n 100,\n 101,\n 102,\n 103,\n 104,\n 105,\n 106,\n 107,\n 108,\n 109,\n 110,\n 111,\n 112,\n 113,\n 114,\n 115,\n 116,\n 117,\n 118,\n 119,\n 120,\n 121,\n 122,\n 123,\n 124,\n 125,\n 126,\n 127,\n 128,\n 129,\n 130,\n 131,\n 132,\n 133,\n 134,\n 135,\n 136,\n 137,\n 138,\n 139,\n 140,\n 141,\n 142,\n 143,\n 144,\n 145,\n 146,\n 147,\n 148,\n 149,\n 150,\n 151,\n 152,\n 153,\n 154,\n 155,\n 156,\n 157,\n 158,\n 159,\n 160,\n 161,\n 162,\n 163,\n 164,\n 165,\n 166,\n 167,\n 168,\n 169,\n 170,\n 171,\n 172,\n 173,\n 174,\n 175,\n 176,\n 177,\n 178,\n 179,\n 180,\n 181,\n 182,\n 183,\n 184,\n 185,\n 186,\n 187,\n 188,\n 189,\n 190,\n 191,\n 192,\n 193,\n 194,\n 195,\n 196,\n 197,\n 198,\n 199,\n 200,\n 201,\n 202,\n 203,\n 204,\n 205,\n 206,\n 207,\n 208,\n 209,\n 210,\n 211,\n 212,\n 213,\n 214,\n 215,\n 216,\n 217,\n 218,\n 219,\n 220,\n 221,\n 222,\n 223,\n 224,\n 225,\n 226,\n 227,\n 228,\n 229,\n 230,\n 231,\n 232,\n 233,\n 234,\n 235,\n 236,\n 237,\n 238,\n 239,\n 240,\n 241,\n 242,\n 243,\n 244,\n 245,\n 246,\n 247,\n 248,\n 249,\n 250,\n 251,\n 252,\n 253,\n 254,\n 255,\n 256,\n 257,\n 258,\n 259,\n 260,\n 261,\n 262,\n 263,\n 264,\n 265,\n 266,\n 267,\n 268,\n 269,\n 270,\n 271,\n 272,\n 273,\n 274,\n 275,\n 276,\n 277,\n 278,\n 279,\n 280,\n 281,\n 282,\n 283,\n 284,\n 285,\n 286,\n 287,\n 288,\n 289,\n 290,\n 291,\n 292,\n 293,\n 294,\n 295,\n 296,\n 297,\n 298,\n 299,\n 300,\n 301,\n 302,\n 303,\n 304,\n 305,\n 306,\n 307,\n 308,\n 309,\n 310,\n 311,\n 312,\n 313,\n 314,\n 315,\n 316,\n 317,\n 318,\n 319,\n 320,\n 321,\n 322,\n 323,\n 324,\n 325,\n 326,\n 327,\n 328,\n 329,\n 330,\n 331,\n 332,\n 333,\n 334,\n 335,\n 336,\n 337,\n 338,\n 339,\n 340,\n 341,\n 342,\n 343,\n 344,\n 345,\n 346,\n 347,\n 348,\n 349,\n 350,\n 351,\n 352,\n 353,\n 354,\n 355,\n 356,\n 357,\n 358,\n 359,\n 360,\n 361,\n 362,\n 363,\n 364,\n 365,\n 366,\n 367,\n 368,\n 369,\n 370,\n 371,\n 372,\n 373,\n 374,\n 375,\n 376,\n 377,\n 378,\n 379,\n 380,\n 381,\n 382,\n 383,\n 384,\n 385,\n 386,\n 387,\n 388,\n 389,\n 390,\n 391,\n 392,\n 393,\n 394,\n 395,\n 396,\n 397,\n 398,\n 399,\n 400,\n 401,\n 402,\n 403,\n 404,\n 405,\n 406,\n 407,\n 408,\n 409,\n 410,\n 411,\n 412,\n 413,\n 414,\n 415,\n 416,\n 417,\n 418,\n 419,\n 420,\n 421,\n 422,\n 423,\n 424,\n 425,\n 426,\n 427,\n 428,\n 429,\n 430,\n 431,\n 432,\n 433,\n 434,\n 435,\n 436,\n 437,\n 438,\n 439,\n 440,\n 441,\n 442,\n 443,\n 444,\n 445,\n 446,\n 447,\n 448,\n 449,\n 450,\n 451,\n 452,\n 453,\n 454,\n 455,\n 456,\n 457,\n 458,\n 459,\n 460,\n 461,\n 462,\n 463,\n 464,\n 465,\n 466,\n 467,\n 468,\n 469,\n 470,\n 471,\n 472,\n 473,\n 474,\n 475,\n 476,\n 477,\n 478,\n 479,\n 480,\n 481,\n 482,\n 483,\n 484,\n 485,\n 486,\n 487,\n 488,\n 489,\n 490,\n 491,\n 492,\n 493,\n 494,\n 495,\n 496,\n 497,\n 498,\n 499,\n 500,\n 501,\n 502,\n 503,\n 504,\n 505,\n 506,\n 507,\n 508,\n 509,\n 510,\n 511,\n 512,\n 513,\n 514,\n 515,\n 516,\n 517,\n 518,\n 519,\n 520,\n 521,\n 522,\n 523,\n 524,\n 525,\n 526,\n 527,\n 528,\n 529,\n 530,\n 531,\n 532,\n 533,\n 534,\n 535,\n 536,\n 537,\n 538,\n 539,\n 540,\n 541,\n 542,\n 543,\n 544,\n 545,\n 546,\n 547,\n 548,\n 549,\n 550,\n 551,\n 552,\n 553,\n 554,\n 555,\n 556,\n 557,\n 558,\n 559,\n 560,\n 561,\n 562,\n 563,\n 564,\n 565,\n 566,\n 567,\n 568,\n 569,\n 570,\n 571,\n 572,\n 573,\n 574,\n 575,\n 576,\n 577,\n 578,\n 579,\n 580,\n 581,\n 582,\n 583,\n 584,\n 585,\n 586,\n 587,\n 588,\n 589,\n 590,\n 591,\n 592,\n 593,\n 594,\n 595,\n 596,\n 597,\n 598,\n 599,\n 600,\n 601,\n 602,\n 603,\n 604,\n 605,\n 606,\n 607,\n 608,\n 609,\n 610,\n 611,\n 612,\n 613,\n 614,\n 615,\n 616,\n 617,\n 618,\n 619,\n 620,\n 621,\n 622,\n 623,\n 624,\n 625,\n 626,\n 627,\n 628,\n 629,\n 630,\n 631,\n 632,\n 633,\n 634,\n 635,\n 636,\n 637,\n 638,\n 639,\n 640,\n 641,\n 642,\n 643,\n 644,\n 645,\n 646,\n 647,\n 648,\n 649,\n 650,\n 651,\n 652,\n 653,\n 654,\n 655,\n 656,\n 657,\n 658,\n 659,\n 660,\n 661,\n 662,\n 663,\n 664,\n 665,\n 666,\n 667,\n 668,\n 669,\n 670,\n 671,\n 672,\n 673,\n 674,\n 675,\n 676,\n 677,\n 678,\n 679,\n 680,\n 681,\n 682,\n 683,\n 684,\n 685,\n 686,\n 687,\n 688,\n 689,\n 690,\n 691,\n 692,\n 693,\n 694,\n 695,\n 696,\n 697,\n 698,\n 699,\n 700,\n 701,\n 702,\n 703,\n 704,\n 705,\n 706,\n 707,\n 708,\n 709,\n 710,\n 711,\n 712,\n 713,\n 714,\n 715,\n 716,\n 717,\n 718,\n 719,\n 720,\n 721,\n 722,\n 723,\n 724,\n 725,\n 726,\n 727,\n 728,\n 729,\n 730,\n 731,\n 732,\n 733,\n 734,\n 735,\n 736,\n 737,\n 738,\n 739,\n 740,\n 741,\n 742,\n 743,\n 744,\n 745,\n 746,\n 747,\n 748,\n 749,\n 750,\n 751,\n 752,\n 753,\n 754,\n 755,\n 756,\n 757,\n 758,\n 759,\n 760,\n 761,\n 762,\n 763,\n 764,\n 765,\n 766,\n 767,\n 768,\n 769,\n 770,\n 771,\n 772,\n 773,\n 774,\n 775,\n 776,\n 777,\n 778,\n 779,\n 780,\n 781,\n 782,\n 783,\n 784,\n 785,\n 786,\n 787,\n 788,\n 789,\n 790,\n 791,\n 792,\n 793,\n 794,\n 795,\n 796,\n 797,\n 798,\n 799,\n 800,\n 801,\n 802,\n 803,\n 804,\n 805,\n 806,\n 807,\n 808,\n 809,\n 810,\n 811,\n 812,\n 813,\n 814,\n 815,\n 816,\n 817,\n 818,\n 819,\n 820,\n 821,\n 822,\n 823,\n 824,\n 825,\n 826,\n 827,\n 828,\n 829,\n 830,\n 831,\n 832,\n 833,\n 834,\n 835,\n 836,\n 837,\n 838,\n 839,\n 840,\n 841,\n 842,\n 843,\n 844,\n 845,\n 846,\n 847,\n 848,\n 849,\n 850,\n 851,\n 852,\n 853,\n 854,\n 855,\n 856,\n 857,\n 858,\n 859,\n 860,\n 861,\n 862,\n 863,\n 864,\n 865,\n 866,\n 867,\n 868,\n 869,\n 870,\n 871,\n 872,\n 873,\n 874,\n 875,\n 876,\n 877,\n 878,\n 879,\n 880,\n 881,\n 882,\n 883,\n 884,\n 885,\n 886,\n 887,\n 888,\n 889,\n 890,\n 891,\n 892,\n 893,\n 894,\n 895,\n 896,\n 897,\n 898,\n 899,\n 900,\n 901,\n 902,\n 903,\n 904,\n 905,\n 906,\n 907,\n 908,\n 909,\n 910,\n 911,\n 912,\n 913,\n 914,\n 915,\n 916,\n 917,\n 918,\n 919,\n 920,\n 921,\n 922,\n 923,\n 924,\n 925,\n 926,\n 927,\n 928,\n 929,\n 930,\n 931,\n 932,\n 933,\n 934,\n 935,\n 936,\n 937,\n 938,\n 939,\n 940,\n 941,\n 942,\n 943,\n 944,\n 945,\n 946,\n 947,\n 948,\n 949,\n 950,\n 951,\n 952,\n 953,\n 954,\n 955,\n 956,\n 957,\n 958,\n 959,\n 960,\n 961,\n 962,\n 963,\n 964,\n 965,\n 966,\n 967,\n 968,\n 969,\n 970,\n 971,\n 972,\n 973,\n 974,\n 975,\n 976,\n 977,\n 978,\n 979,\n 980,\n 981,\n 982,\n 983,\n 984,\n 985,\n 986,\n 987,\n 988,\n 989,\n 990,\n 991,\n 992,\n 993,\n 994,\n 995,\n 996,\n 997,\n 998,\n 999,\n 1000,\n ...]"
     },
     "execution_count": 737,
     "metadata": {},
     "output_type": "execute_result"
    }
   ],
   "source": [
    "sorted(df_general_ocr[\"mesa\"].unique().tolist())"
   ],
   "metadata": {
    "collapsed": false,
    "ExecuteTime": {
     "end_time": "2023-07-03T07:35:23.070681Z",
     "start_time": "2023-07-03T07:35:23.063599Z"
    }
   }
  },
  {
   "cell_type": "code",
   "execution_count": 738,
   "outputs": [
    {
     "data": {
      "text/plain": "Empty DataFrame\nColumns: [codigo, votos_ocr, centro]\nIndex: []",
      "text/html": "<div>\n<style scoped>\n    .dataframe tbody tr th:only-of-type {\n        vertical-align: middle;\n    }\n\n    .dataframe tbody tr th {\n        vertical-align: top;\n    }\n\n    .dataframe thead th {\n        text-align: right;\n    }\n</style>\n<table border=\"1\" class=\"dataframe\">\n  <thead>\n    <tr style=\"text-align: right;\">\n      <th></th>\n      <th>codigo</th>\n      <th>votos_ocr</th>\n      <th>centro</th>\n    </tr>\n    <tr>\n      <th>mesa</th>\n      <th></th>\n      <th></th>\n      <th></th>\n    </tr>\n  </thead>\n  <tbody>\n  </tbody>\n</table>\n</div>"
     },
     "execution_count": 738,
     "metadata": {},
     "output_type": "execute_result"
    }
   ],
   "source": [
    "analisis = df_general_ocr.groupby([\"mesa\"]).count()\n",
    "analisis[analisis[\"codigo\"] != 2]"
   ],
   "metadata": {
    "collapsed": false,
    "ExecuteTime": {
     "end_time": "2023-07-03T07:35:23.075920Z",
     "start_time": "2023-07-03T07:35:23.071337Z"
    }
   }
  },
  {
   "cell_type": "markdown",
   "source": [
    "# Datos del TSE del sistema TREP"
   ],
   "metadata": {
    "collapsed": false
   }
  },
  {
   "cell_type": "code",
   "execution_count": 739,
   "outputs": [
    {
     "data": {
      "text/plain": "       centro  mesa codigo  votos_trep\n0           1     1  TODOS           9\n1           1     2  TODOS          14\n2           1     3  TODOS          10\n3           1     4  TODOS           9\n4           2     5  TODOS           7\n...       ...   ...    ...         ...\n48547     152  2019   CREO           2\n48548     152  2020   CREO           1\n48549     152  2021   CREO           2\n48550     152  2022   CREO           4\n48551     152  2023   CREO           0\n\n[48552 rows x 4 columns]",
      "text/html": "<div>\n<style scoped>\n    .dataframe tbody tr th:only-of-type {\n        vertical-align: middle;\n    }\n\n    .dataframe tbody tr th {\n        vertical-align: top;\n    }\n\n    .dataframe thead th {\n        text-align: right;\n    }\n</style>\n<table border=\"1\" class=\"dataframe\">\n  <thead>\n    <tr style=\"text-align: right;\">\n      <th></th>\n      <th>centro</th>\n      <th>mesa</th>\n      <th>codigo</th>\n      <th>votos_trep</th>\n    </tr>\n  </thead>\n  <tbody>\n    <tr>\n      <th>0</th>\n      <td>1</td>\n      <td>1</td>\n      <td>TODOS</td>\n      <td>9</td>\n    </tr>\n    <tr>\n      <th>1</th>\n      <td>1</td>\n      <td>2</td>\n      <td>TODOS</td>\n      <td>14</td>\n    </tr>\n    <tr>\n      <th>2</th>\n      <td>1</td>\n      <td>3</td>\n      <td>TODOS</td>\n      <td>10</td>\n    </tr>\n    <tr>\n      <th>3</th>\n      <td>1</td>\n      <td>4</td>\n      <td>TODOS</td>\n      <td>9</td>\n    </tr>\n    <tr>\n      <th>4</th>\n      <td>2</td>\n      <td>5</td>\n      <td>TODOS</td>\n      <td>7</td>\n    </tr>\n    <tr>\n      <th>...</th>\n      <td>...</td>\n      <td>...</td>\n      <td>...</td>\n      <td>...</td>\n    </tr>\n    <tr>\n      <th>48547</th>\n      <td>152</td>\n      <td>2019</td>\n      <td>CREO</td>\n      <td>2</td>\n    </tr>\n    <tr>\n      <th>48548</th>\n      <td>152</td>\n      <td>2020</td>\n      <td>CREO</td>\n      <td>1</td>\n    </tr>\n    <tr>\n      <th>48549</th>\n      <td>152</td>\n      <td>2021</td>\n      <td>CREO</td>\n      <td>2</td>\n    </tr>\n    <tr>\n      <th>48550</th>\n      <td>152</td>\n      <td>2022</td>\n      <td>CREO</td>\n      <td>4</td>\n    </tr>\n    <tr>\n      <th>48551</th>\n      <td>152</td>\n      <td>2023</td>\n      <td>CREO</td>\n      <td>0</td>\n    </tr>\n  </tbody>\n</table>\n<p>48552 rows × 4 columns</p>\n</div>"
     },
     "execution_count": 739,
     "metadata": {},
     "output_type": "execute_result"
    }
   ],
   "source": [
    "df_complete_trep = pd.read_csv(\"/Users/rudikrompich/Git/recopilacion_y_analisis_elecciones_de_guatemala_2023/data_sistema_trep/4-CORPORACIÓN/gtm2023_e4d00m01.csv\", sep=\",\",skiprows=4)\n",
    "df_complete_trep = df_complete_trep.iloc[:,:31].copy().drop(columns=[\"DEPARTAMENTO\", \"ID_DEPARTAMENTO\", \"MUNICIPIO\", \"ID_MUNICIPIO\", \"PADRÓN\"])\n",
    "df_complete_trep = pd.melt(df_complete_trep, id_vars=[\"CENTRO_DE_VOTACIÓN\", \"MESA\"], value_vars=df_complete_trep.columns[2:], var_name=\"codigo\", value_name=\"votos_trep\")\n",
    "\n",
    "df_complete_trep[\"votos_trep\"] = df_complete_trep[\"votos_trep\"].replace(\"--\", 0)\n",
    "df_complete_trep[\"votos_trep\"] = df_complete_trep[\"votos_trep\"].astype(int)\n",
    "df_complete_trep.columns = ['centro', 'mesa', 'codigo', 'votos_trep']\n",
    "df_complete_trep"
   ],
   "metadata": {
    "collapsed": false,
    "ExecuteTime": {
     "end_time": "2023-07-03T07:35:23.132582Z",
     "start_time": "2023-07-03T07:35:23.077882Z"
    }
   }
  },
  {
   "cell_type": "markdown",
   "source": [
    "# Merge"
   ],
   "metadata": {
    "collapsed": false
   }
  },
  {
   "cell_type": "code",
   "execution_count": 740,
   "outputs": [],
   "source": [
    "def check_votos(row):\n",
    "  # convert votos_ocr column to int if possible, otherwise return \"Incorrect\"\n",
    "  try:\n",
    "    row[\"votos_ocr\"] = int(row[\"votos_ocr\"])\n",
    "  except ValueError:\n",
    "    return \"Incorrect\"\n",
    "\n",
    "  # compare votos_ocr and votos_trep columns and return \"correct\" if they match, otherwise return \"Incorrect\"\n",
    "  if row[\"votos_ocr\"] == row[\"votos_trep\"]:\n",
    "    return \"correct\"\n",
    "  else:\n",
    "    return \"Incorrect\"\n",
    "\n",
    "def change_votos(row):\n",
    "  # convert votos_ocr column to int if possible, otherwise return \"Incorrect\"\n",
    "  try:\n",
    "    row[\"votos_ocr\"] = int(row[\"votos_ocr\"])\n",
    "  except ValueError:\n",
    "    return np.NaN\n",
    "\n",
    "  # compare votos_ocr and votos_trep columns and return \"correct\" if they match, otherwise return \"Incorrect\"\n",
    "  if row[\"votos_ocr\"] == row[\"votos_trep\"]:\n",
    "    return row[\"votos_trep\"]\n",
    "  else:\n",
    "    return np.NaN\n"
   ],
   "metadata": {
    "collapsed": false,
    "ExecuteTime": {
     "end_time": "2023-07-03T07:35:23.136204Z",
     "start_time": "2023-07-03T07:35:23.102038Z"
    }
   }
  },
  {
   "cell_type": "code",
   "execution_count": 741,
   "outputs": [],
   "source": [
    "df_completo_con_ocr_y_trep = pd.merge(df_general_ocr, df_complete_trep, on=[\"centro\", \"mesa\", \"codigo\"],how='left')\n",
    "df_completo_con_ocr_y_trep['votos_trep'] = df_completo_con_ocr_y_trep['votos_trep']\n",
    "\n",
    "df_completo_con_ocr_y_trep[\"result\"] = df_completo_con_ocr_y_trep.apply(check_votos, axis=1)\n",
    "df_completo_con_ocr_y_trep[\"votos_ocr_correcto\"] = df_completo_con_ocr_y_trep.apply(change_votos, axis=1)\n",
    "\n",
    "\n",
    "df_completo_con_ocr_y_trep.loc[df_completo_con_ocr_y_trep[\"result\"] == \"Incorrect\", \"votos_ocr\"] = df_completo_con_ocr_y_trep.loc[df_completo_con_ocr_y_trep[\"result\"] == \"Incorrect\", \"votos_ocr\"].replace({'1':''},regex=True)\n",
    "\n",
    "df_completo_con_ocr_y_trep[\"result\"] = df_completo_con_ocr_y_trep.apply(check_votos, axis=1)\n",
    "df_completo_con_ocr_y_trep[\"votos_ocr_correcto\"] = df_completo_con_ocr_y_trep.apply(change_votos, axis=1)\n",
    "\n",
    "df_completo_con_ocr_y_trep.sort_values(by=\"mesa\").reset_index(drop=True,inplace=True)\n",
    "df_completo_con_ocr_y_trep = df_completo_con_ocr_y_trep[['centro', 'mesa','codigo', 'result', 'votos_trep','votos_ocr','votos_ocr_correcto']].copy()"
   ],
   "metadata": {
    "collapsed": false,
    "ExecuteTime": {
     "end_time": "2023-07-03T07:35:23.282592Z",
     "start_time": "2023-07-03T07:35:23.105846Z"
    }
   }
  },
  {
   "cell_type": "code",
   "execution_count": 742,
   "outputs": [
    {
     "data": {
      "text/plain": "correct      3550\nIncorrect     496\nName: result, dtype: int64"
     },
     "execution_count": 742,
     "metadata": {},
     "output_type": "execute_result"
    }
   ],
   "source": [
    "df_completo_con_ocr_y_trep[\"result\"].value_counts()"
   ],
   "metadata": {
    "collapsed": false,
    "ExecuteTime": {
     "end_time": "2023-07-03T07:35:23.286098Z",
     "start_time": "2023-07-03T07:35:23.283445Z"
    }
   }
  },
  {
   "cell_type": "code",
   "execution_count": 743,
   "outputs": [],
   "source": [
    "df_completo_con_ocr_y_trep.to_excel('/Users/rudikrompich/Git/recopilacion_y_analisis_elecciones_de_guatemala_2023/data_analisis/errores_corporacion_municipal_distrito_central.xlsx',index=False)"
   ],
   "metadata": {
    "collapsed": false,
    "ExecuteTime": {
     "end_time": "2023-07-03T07:35:23.629328Z",
     "start_time": "2023-07-03T07:35:23.287975Z"
    }
   }
  },
  {
   "cell_type": "markdown",
   "source": [
    "# Análisis"
   ],
   "metadata": {
    "collapsed": false
   }
  },
  {
   "cell_type": "code",
   "execution_count": 744,
   "outputs": [
    {
     "data": {
      "text/plain": "      centro  mesa           codigo     result  votos_trep votos_ocr  \\\n0          2     9  VALOR UNIONISTA  Incorrect          52         5   \n1          2    10             CREO  Incorrect          47        04   \n2          2    11             CREO  Incorrect          57       NaN   \n3          2    11  VALOR UNIONISTA  Incorrect          65       NaN   \n4          2    16             CREO  Incorrect          59      0549   \n...      ...   ...              ...        ...         ...       ...   \n4041      85  1137  VALOR UNIONISTA    correct         127       127   \n4042      86  1138  VALOR UNIONISTA    correct         127       127   \n4043     152  2023             CREO  Incorrect           0       NaN   \n4044      83  1091  VALOR UNIONISTA    correct         132       132   \n4045      85  1125  VALOR UNIONISTA    correct         134       134   \n\n      votos_ocr_correcto comentario  \n0                     52        NaN  \n1                     47        NaN  \n2                     57        NaN  \n3                     65        NaN  \n4                     59        NaN  \n...                  ...        ...  \n4041                 127        NaN  \n4042                 127        NaN  \n4043                   0        NaN  \n4044                 132        NaN  \n4045                 134        NaN  \n\n[4046 rows x 8 columns]",
      "text/html": "<div>\n<style scoped>\n    .dataframe tbody tr th:only-of-type {\n        vertical-align: middle;\n    }\n\n    .dataframe tbody tr th {\n        vertical-align: top;\n    }\n\n    .dataframe thead th {\n        text-align: right;\n    }\n</style>\n<table border=\"1\" class=\"dataframe\">\n  <thead>\n    <tr style=\"text-align: right;\">\n      <th></th>\n      <th>centro</th>\n      <th>mesa</th>\n      <th>codigo</th>\n      <th>result</th>\n      <th>votos_trep</th>\n      <th>votos_ocr</th>\n      <th>votos_ocr_correcto</th>\n      <th>comentario</th>\n    </tr>\n  </thead>\n  <tbody>\n    <tr>\n      <th>0</th>\n      <td>2</td>\n      <td>9</td>\n      <td>VALOR UNIONISTA</td>\n      <td>Incorrect</td>\n      <td>52</td>\n      <td>5</td>\n      <td>52</td>\n      <td>NaN</td>\n    </tr>\n    <tr>\n      <th>1</th>\n      <td>2</td>\n      <td>10</td>\n      <td>CREO</td>\n      <td>Incorrect</td>\n      <td>47</td>\n      <td>04</td>\n      <td>47</td>\n      <td>NaN</td>\n    </tr>\n    <tr>\n      <th>2</th>\n      <td>2</td>\n      <td>11</td>\n      <td>CREO</td>\n      <td>Incorrect</td>\n      <td>57</td>\n      <td>NaN</td>\n      <td>57</td>\n      <td>NaN</td>\n    </tr>\n    <tr>\n      <th>3</th>\n      <td>2</td>\n      <td>11</td>\n      <td>VALOR UNIONISTA</td>\n      <td>Incorrect</td>\n      <td>65</td>\n      <td>NaN</td>\n      <td>65</td>\n      <td>NaN</td>\n    </tr>\n    <tr>\n      <th>4</th>\n      <td>2</td>\n      <td>16</td>\n      <td>CREO</td>\n      <td>Incorrect</td>\n      <td>59</td>\n      <td>0549</td>\n      <td>59</td>\n      <td>NaN</td>\n    </tr>\n    <tr>\n      <th>...</th>\n      <td>...</td>\n      <td>...</td>\n      <td>...</td>\n      <td>...</td>\n      <td>...</td>\n      <td>...</td>\n      <td>...</td>\n      <td>...</td>\n    </tr>\n    <tr>\n      <th>4041</th>\n      <td>85</td>\n      <td>1137</td>\n      <td>VALOR UNIONISTA</td>\n      <td>correct</td>\n      <td>127</td>\n      <td>127</td>\n      <td>127</td>\n      <td>NaN</td>\n    </tr>\n    <tr>\n      <th>4042</th>\n      <td>86</td>\n      <td>1138</td>\n      <td>VALOR UNIONISTA</td>\n      <td>correct</td>\n      <td>127</td>\n      <td>127</td>\n      <td>127</td>\n      <td>NaN</td>\n    </tr>\n    <tr>\n      <th>4043</th>\n      <td>152</td>\n      <td>2023</td>\n      <td>CREO</td>\n      <td>Incorrect</td>\n      <td>0</td>\n      <td>NaN</td>\n      <td>0</td>\n      <td>NaN</td>\n    </tr>\n    <tr>\n      <th>4044</th>\n      <td>83</td>\n      <td>1091</td>\n      <td>VALOR UNIONISTA</td>\n      <td>correct</td>\n      <td>132</td>\n      <td>132</td>\n      <td>132</td>\n      <td>NaN</td>\n    </tr>\n    <tr>\n      <th>4045</th>\n      <td>85</td>\n      <td>1125</td>\n      <td>VALOR UNIONISTA</td>\n      <td>correct</td>\n      <td>134</td>\n      <td>134</td>\n      <td>134</td>\n      <td>NaN</td>\n    </tr>\n  </tbody>\n</table>\n<p>4046 rows × 8 columns</p>\n</div>"
     },
     "execution_count": 744,
     "metadata": {},
     "output_type": "execute_result"
    }
   ],
   "source": [
    "df_analisis_con_correcciones = pd.read_excel(\"/Users/rudikrompich/Git/recopilacion_y_analisis_elecciones_de_guatemala_2023/data_analisis/arreglo_manual.xlsx\")\n",
    "df_analisis_con_correcciones"
   ],
   "metadata": {
    "collapsed": false,
    "ExecuteTime": {
     "end_time": "2023-07-03T07:35:23.780860Z",
     "start_time": "2023-07-03T07:35:23.629484Z"
    }
   }
  },
  {
   "cell_type": "code",
   "execution_count": 745,
   "outputs": [],
   "source": [
    "df_analisis_con_correcciones[\"diferencia\"] = df_analisis_con_correcciones[\"votos_trep\"] - df_analisis_con_correcciones[\"votos_ocr_correcto\"]\n"
   ],
   "metadata": {
    "collapsed": false,
    "ExecuteTime": {
     "end_time": "2023-07-03T07:35:23.783760Z",
     "start_time": "2023-07-03T07:35:23.781889Z"
    }
   }
  },
  {
   "cell_type": "code",
   "execution_count": 746,
   "outputs": [
    {
     "data": {
      "text/plain": "      centro  mesa           codigo     result  votos_trep votos_ocr  \\\n8         47   604             CREO    correct           0         0   \n22       102  1335             CREO    correct           1        01   \n32       152  2015             CREO  Incorrect           2        00   \n36        11   153  VALOR UNIONISTA  Incorrect          10       NaN   \n41        34   430  VALOR UNIONISTA  Incorrect          77       NaN   \n159       19   242  VALOR UNIONISTA  Incorrect           0       049   \n161       19   242             CREO  Incorrect           0       046   \n255       30   368  VALOR UNIONISTA  Incorrect           0         P   \n274       30   368             CREO  Incorrect           0       024   \n602       47   599  VALOR UNIONISTA  Incorrect           0       045   \n630       47   599             CREO  Incorrect           0       066   \n633       47   604  VALOR UNIONISTA  Incorrect           0        02   \n1738      75   953             CREO  Incorrect           0       NaN   \n2241      88  1157             CREO  Incorrect           7       NaN   \n2583     100  1319  VALOR UNIONISTA  Incorrect           0       NaN   \n2615     100  1319             CREO  Incorrect           0       NaN   \n3150     118  1649             CREO  Incorrect           0       NaN   \n3375     118  1649  VALOR UNIONISTA  Incorrect           0       670   \n3450     120  1688  VALOR UNIONISTA  Incorrect           0       037   \n3479     120  1688             CREO  Incorrect           0       065   \n3789     130  1834  VALOR UNIONISTA  Incorrect           0       003   \n3791     130  1834             CREO  Incorrect           0       005   \n\n      votos_ocr_correcto                                         comentario  \\\n8                     59  Se confundieron de papeleta lol https://www.tr...   \n22                    91  Este se arregló por medio del algoritmo en est...   \n32                     2                                    Gran desorden!    \n36                    10  No aparecen los datos para los primeros 6 part...   \n41                    77                                      Se digitó mal   \n159                   49                                                NaN   \n161                   45                                                NaN   \n255                   69                    Se confundieron de papeleta lol   \n274                   50                    Se confundieron de papeleta lol   \n602                   45                     Esta papeleta súper rara thoug   \n630                   66                     Esta papeleta súper rara thoug   \n633                   42  Se confundieron de papeleta lol https://www.tr...   \n1738                  60                                                NaN   \n2241                  67                                                NaN   \n2583                  39                                                NaN   \n2615                  53                                                NaN   \n3150                  69                                                NaN   \n3375                  66                                                NaN   \n3450                  37            ¿Acta ilegible? Se ve elegible para mí    \n3479                  65            ¿Acta ilegible? Se ve elegible para mí    \n3789                  12                                                NaN   \n3791                  20                                                NaN   \n\n      diferencia  \n8            -59  \n22           -90  \n32             0  \n36             0  \n41             0  \n159          -49  \n161          -45  \n255          -69  \n274          -50  \n602          -45  \n630          -66  \n633          -42  \n1738         -60  \n2241         -60  \n2583         -39  \n2615         -53  \n3150         -69  \n3375         -66  \n3450         -37  \n3479         -65  \n3789         -12  \n3791         -20  ",
      "text/html": "<div>\n<style scoped>\n    .dataframe tbody tr th:only-of-type {\n        vertical-align: middle;\n    }\n\n    .dataframe tbody tr th {\n        vertical-align: top;\n    }\n\n    .dataframe thead th {\n        text-align: right;\n    }\n</style>\n<table border=\"1\" class=\"dataframe\">\n  <thead>\n    <tr style=\"text-align: right;\">\n      <th></th>\n      <th>centro</th>\n      <th>mesa</th>\n      <th>codigo</th>\n      <th>result</th>\n      <th>votos_trep</th>\n      <th>votos_ocr</th>\n      <th>votos_ocr_correcto</th>\n      <th>comentario</th>\n      <th>diferencia</th>\n    </tr>\n  </thead>\n  <tbody>\n    <tr>\n      <th>8</th>\n      <td>47</td>\n      <td>604</td>\n      <td>CREO</td>\n      <td>correct</td>\n      <td>0</td>\n      <td>0</td>\n      <td>59</td>\n      <td>Se confundieron de papeleta lol https://www.tr...</td>\n      <td>-59</td>\n    </tr>\n    <tr>\n      <th>22</th>\n      <td>102</td>\n      <td>1335</td>\n      <td>CREO</td>\n      <td>correct</td>\n      <td>1</td>\n      <td>01</td>\n      <td>91</td>\n      <td>Este se arregló por medio del algoritmo en est...</td>\n      <td>-90</td>\n    </tr>\n    <tr>\n      <th>32</th>\n      <td>152</td>\n      <td>2015</td>\n      <td>CREO</td>\n      <td>Incorrect</td>\n      <td>2</td>\n      <td>00</td>\n      <td>2</td>\n      <td>Gran desorden!</td>\n      <td>0</td>\n    </tr>\n    <tr>\n      <th>36</th>\n      <td>11</td>\n      <td>153</td>\n      <td>VALOR UNIONISTA</td>\n      <td>Incorrect</td>\n      <td>10</td>\n      <td>NaN</td>\n      <td>10</td>\n      <td>No aparecen los datos para los primeros 6 part...</td>\n      <td>0</td>\n    </tr>\n    <tr>\n      <th>41</th>\n      <td>34</td>\n      <td>430</td>\n      <td>VALOR UNIONISTA</td>\n      <td>Incorrect</td>\n      <td>77</td>\n      <td>NaN</td>\n      <td>77</td>\n      <td>Se digitó mal</td>\n      <td>0</td>\n    </tr>\n    <tr>\n      <th>159</th>\n      <td>19</td>\n      <td>242</td>\n      <td>VALOR UNIONISTA</td>\n      <td>Incorrect</td>\n      <td>0</td>\n      <td>049</td>\n      <td>49</td>\n      <td>NaN</td>\n      <td>-49</td>\n    </tr>\n    <tr>\n      <th>161</th>\n      <td>19</td>\n      <td>242</td>\n      <td>CREO</td>\n      <td>Incorrect</td>\n      <td>0</td>\n      <td>046</td>\n      <td>45</td>\n      <td>NaN</td>\n      <td>-45</td>\n    </tr>\n    <tr>\n      <th>255</th>\n      <td>30</td>\n      <td>368</td>\n      <td>VALOR UNIONISTA</td>\n      <td>Incorrect</td>\n      <td>0</td>\n      <td>P</td>\n      <td>69</td>\n      <td>Se confundieron de papeleta lol</td>\n      <td>-69</td>\n    </tr>\n    <tr>\n      <th>274</th>\n      <td>30</td>\n      <td>368</td>\n      <td>CREO</td>\n      <td>Incorrect</td>\n      <td>0</td>\n      <td>024</td>\n      <td>50</td>\n      <td>Se confundieron de papeleta lol</td>\n      <td>-50</td>\n    </tr>\n    <tr>\n      <th>602</th>\n      <td>47</td>\n      <td>599</td>\n      <td>VALOR UNIONISTA</td>\n      <td>Incorrect</td>\n      <td>0</td>\n      <td>045</td>\n      <td>45</td>\n      <td>Esta papeleta súper rara thoug</td>\n      <td>-45</td>\n    </tr>\n    <tr>\n      <th>630</th>\n      <td>47</td>\n      <td>599</td>\n      <td>CREO</td>\n      <td>Incorrect</td>\n      <td>0</td>\n      <td>066</td>\n      <td>66</td>\n      <td>Esta papeleta súper rara thoug</td>\n      <td>-66</td>\n    </tr>\n    <tr>\n      <th>633</th>\n      <td>47</td>\n      <td>604</td>\n      <td>VALOR UNIONISTA</td>\n      <td>Incorrect</td>\n      <td>0</td>\n      <td>02</td>\n      <td>42</td>\n      <td>Se confundieron de papeleta lol https://www.tr...</td>\n      <td>-42</td>\n    </tr>\n    <tr>\n      <th>1738</th>\n      <td>75</td>\n      <td>953</td>\n      <td>CREO</td>\n      <td>Incorrect</td>\n      <td>0</td>\n      <td>NaN</td>\n      <td>60</td>\n      <td>NaN</td>\n      <td>-60</td>\n    </tr>\n    <tr>\n      <th>2241</th>\n      <td>88</td>\n      <td>1157</td>\n      <td>CREO</td>\n      <td>Incorrect</td>\n      <td>7</td>\n      <td>NaN</td>\n      <td>67</td>\n      <td>NaN</td>\n      <td>-60</td>\n    </tr>\n    <tr>\n      <th>2583</th>\n      <td>100</td>\n      <td>1319</td>\n      <td>VALOR UNIONISTA</td>\n      <td>Incorrect</td>\n      <td>0</td>\n      <td>NaN</td>\n      <td>39</td>\n      <td>NaN</td>\n      <td>-39</td>\n    </tr>\n    <tr>\n      <th>2615</th>\n      <td>100</td>\n      <td>1319</td>\n      <td>CREO</td>\n      <td>Incorrect</td>\n      <td>0</td>\n      <td>NaN</td>\n      <td>53</td>\n      <td>NaN</td>\n      <td>-53</td>\n    </tr>\n    <tr>\n      <th>3150</th>\n      <td>118</td>\n      <td>1649</td>\n      <td>CREO</td>\n      <td>Incorrect</td>\n      <td>0</td>\n      <td>NaN</td>\n      <td>69</td>\n      <td>NaN</td>\n      <td>-69</td>\n    </tr>\n    <tr>\n      <th>3375</th>\n      <td>118</td>\n      <td>1649</td>\n      <td>VALOR UNIONISTA</td>\n      <td>Incorrect</td>\n      <td>0</td>\n      <td>670</td>\n      <td>66</td>\n      <td>NaN</td>\n      <td>-66</td>\n    </tr>\n    <tr>\n      <th>3450</th>\n      <td>120</td>\n      <td>1688</td>\n      <td>VALOR UNIONISTA</td>\n      <td>Incorrect</td>\n      <td>0</td>\n      <td>037</td>\n      <td>37</td>\n      <td>¿Acta ilegible? Se ve elegible para mí</td>\n      <td>-37</td>\n    </tr>\n    <tr>\n      <th>3479</th>\n      <td>120</td>\n      <td>1688</td>\n      <td>CREO</td>\n      <td>Incorrect</td>\n      <td>0</td>\n      <td>065</td>\n      <td>65</td>\n      <td>¿Acta ilegible? Se ve elegible para mí</td>\n      <td>-65</td>\n    </tr>\n    <tr>\n      <th>3789</th>\n      <td>130</td>\n      <td>1834</td>\n      <td>VALOR UNIONISTA</td>\n      <td>Incorrect</td>\n      <td>0</td>\n      <td>003</td>\n      <td>12</td>\n      <td>NaN</td>\n      <td>-12</td>\n    </tr>\n    <tr>\n      <th>3791</th>\n      <td>130</td>\n      <td>1834</td>\n      <td>CREO</td>\n      <td>Incorrect</td>\n      <td>0</td>\n      <td>005</td>\n      <td>20</td>\n      <td>NaN</td>\n      <td>-20</td>\n    </tr>\n  </tbody>\n</table>\n</div>"
     },
     "execution_count": 746,
     "metadata": {},
     "output_type": "execute_result"
    }
   ],
   "source": [
    "df_final_diferencias = df_analisis_con_correcciones[(df_analisis_con_correcciones[\"diferencia\"] != 0) |(df_analisis_con_correcciones[\"comentario\"].notna())].copy()\n",
    "df_final_diferencias"
   ],
   "metadata": {
    "collapsed": false,
    "ExecuteTime": {
     "end_time": "2023-07-03T07:35:23.790642Z",
     "start_time": "2023-07-03T07:35:23.784480Z"
    }
   }
  },
  {
   "cell_type": "code",
   "execution_count": 747,
   "outputs": [
    {
     "name": "stderr",
     "output_type": "stream",
     "text": [
      "/var/folders/5x/zy_k3bv51t34gj2y4llrp6lw0000gn/T/ipykernel_23278/1411082501.py:1: FutureWarning: The default value of numeric_only in DataFrameGroupBy.sum is deprecated. In a future version, numeric_only will default to False. Either specify numeric_only or select only columns which should be valid for the function.\n",
      "  df_analisis_con_correcciones.groupby([\"codigo\"]).sum()\n"
     ]
    },
    {
     "data": {
      "text/plain": "                 centro     mesa  votos_trep  votos_ocr_correcto  diferencia\ncodigo                                                                      \nCREO             152812  2047276      105698              106335        -637\nVALOR UNIONISTA  152812  2047276      106220              106579        -359",
      "text/html": "<div>\n<style scoped>\n    .dataframe tbody tr th:only-of-type {\n        vertical-align: middle;\n    }\n\n    .dataframe tbody tr th {\n        vertical-align: top;\n    }\n\n    .dataframe thead th {\n        text-align: right;\n    }\n</style>\n<table border=\"1\" class=\"dataframe\">\n  <thead>\n    <tr style=\"text-align: right;\">\n      <th></th>\n      <th>centro</th>\n      <th>mesa</th>\n      <th>votos_trep</th>\n      <th>votos_ocr_correcto</th>\n      <th>diferencia</th>\n    </tr>\n    <tr>\n      <th>codigo</th>\n      <th></th>\n      <th></th>\n      <th></th>\n      <th></th>\n      <th></th>\n    </tr>\n  </thead>\n  <tbody>\n    <tr>\n      <th>CREO</th>\n      <td>152812</td>\n      <td>2047276</td>\n      <td>105698</td>\n      <td>106335</td>\n      <td>-637</td>\n    </tr>\n    <tr>\n      <th>VALOR UNIONISTA</th>\n      <td>152812</td>\n      <td>2047276</td>\n      <td>106220</td>\n      <td>106579</td>\n      <td>-359</td>\n    </tr>\n  </tbody>\n</table>\n</div>"
     },
     "execution_count": 747,
     "metadata": {},
     "output_type": "execute_result"
    }
   ],
   "source": [
    "df_analisis_con_correcciones.groupby([\"codigo\"]).sum()"
   ],
   "metadata": {
    "collapsed": false,
    "ExecuteTime": {
     "end_time": "2023-07-03T07:35:23.796036Z",
     "start_time": "2023-07-03T07:35:23.791770Z"
    }
   }
  },
  {
   "cell_type": "code",
   "execution_count": 749,
   "outputs": [
    {
     "data": {
      "text/plain": "244"
     },
     "execution_count": 749,
     "metadata": {},
     "output_type": "execute_result"
    }
   ],
   "source": [
    "106579-106335"
   ],
   "metadata": {
    "collapsed": false,
    "ExecuteTime": {
     "end_time": "2023-07-03T07:35:50.498191Z",
     "start_time": "2023-07-03T07:35:50.490268Z"
    }
   }
  },
  {
   "cell_type": "code",
   "execution_count": null,
   "outputs": [],
   "source": [],
   "metadata": {
    "collapsed": false
   }
  }
 ],
 "metadata": {
  "kernelspec": {
   "display_name": "Python 3",
   "language": "python",
   "name": "python3"
  },
  "language_info": {
   "codemirror_mode": {
    "name": "ipython",
    "version": 2
   },
   "file_extension": ".py",
   "mimetype": "text/x-python",
   "name": "python",
   "nbconvert_exporter": "python",
   "pygments_lexer": "ipython2",
   "version": "2.7.6"
  }
 },
 "nbformat": 4,
 "nbformat_minor": 0
}
