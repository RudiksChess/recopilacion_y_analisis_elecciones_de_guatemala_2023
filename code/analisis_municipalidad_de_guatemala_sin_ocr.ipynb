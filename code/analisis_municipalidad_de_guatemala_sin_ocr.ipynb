{
 "cells": [
  {
   "cell_type": "code",
   "execution_count": 1,
   "metadata": {
    "collapsed": true,
    "ExecuteTime": {
     "end_time": "2023-07-03T21:47:15.723884Z",
     "start_time": "2023-07-03T21:47:15.281225Z"
    }
   },
   "outputs": [],
   "source": [
    "import pandas as pd"
   ]
  },
  {
   "cell_type": "code",
   "execution_count": 2,
   "outputs": [
    {
     "data": {
      "text/plain": "      MESA      DEPARTAMENTO  ID_DEPARTAMENTO  MUNICIPIO  ID_MUNICIPIO  \\\n0        1  Distrito Central                0  Guatemala             1   \n1        2  Distrito Central                0  Guatemala             1   \n2        3  Distrito Central                0  Guatemala             1   \n3        4  Distrito Central                0  Guatemala             1   \n4        5  Distrito Central                0  Guatemala             1   \n...    ...               ...              ...        ...           ...   \n2018  2019  Distrito Central                0  Guatemala             1   \n2019  2020  Distrito Central                0  Guatemala             1   \n2020  2021  Distrito Central                0  Guatemala             1   \n2021  2022  Distrito Central                0  Guatemala             1   \n2022  2023  Distrito Central                0  Guatemala             1   \n\n      CENTRO_DE_VOTACIÓN  PADRÓN TODOS UNE VALOR UNIONISTA  ...  \\\n0                      1     400     9  21              86  ...   \n1                      1     400    14  16              72  ...   \n2                      1     277    10  18              25  ...   \n3                      1     277     9   8              52  ...   \n4                      2     400     7  19              55  ...   \n...                  ...     ...   ...  ..             ...  ...   \n2018                 152     600     0   2               3  ...   \n2019                 152     600     0   1               2  ...   \n2020                 152     600     0   1               3  ...   \n2021                 152     460     1   0               6  ...   \n2022                 152     460    --   2               5  ...   \n\n     PAPELETAS-RECIBIDAS PAPELETAS-NO-USADAS VALIDOS_CALCULADO  \\\n0                      0                   0             254.0   \n1                    400                 128             255.0   \n2                    277                  62             155.0   \n3                    277                  93             171.0   \n4                    400                 162             223.0   \n...                  ...                 ...               ...   \n2018                 596                 580              15.0   \n2019                 597                 587               9.0   \n2020                 600                 588              11.0   \n2021                 460                 441              19.0   \n2022                 460                 444              13.0   \n\n     EMITIDOS_CALCULADO TOTAL_CALCULADO                OBSERVACIONES  \\\n0                 254.0           254.0         Algún campo sin dato   \n1                 272.0           272.0         Algún campo sin dato   \n2                 167.0           167.0  Sumas Asentadas sin cuadrar   \n3                 184.0           184.0         Algún campo sin dato   \n4                 238.0           238.0         Algún campo sin dato   \n...                 ...             ...                          ...   \n2018               16.0            16.0                          NaN   \n2019               10.0            10.0  Sumas Asentadas sin cuadrar   \n2020               12.0            12.0         Algún campo sin dato   \n2021               19.0            19.0         Algún campo sin dato   \n2022               16.0            16.0         Algún campo sin dato   \n\n     CONTABILIZADA                                  CÓDIGO_INTEGRIDAD  \\\n0                1  e798d13702b9a3b5b3672b7de0598a5c4baa55bb18c853...   \n1                1  8eaff44acb0ac8850475199341a6baeeda9c048a05dc10...   \n2                1  1bae08360c7223157da09ecd050b4f176f190a07106042...   \n3                1  cbac8f21a3ecf69b35b2d0b88829658e4652155de1425f...   \n4                1  9d749654c17aabedcb2e2b60cd8f9ebd29b3498b42d16a...   \n...            ...                                                ...   \n2018             1  2c1d9aa80de3abfff1d7d2c0656139d4d6d69893db2c7c...   \n2019             1  35ebc8a4610058ad4c8e394151eac56ff5918463547d2d...   \n2020             1  e9830b1c5d5af61416f588c97a68147954a92277dd4655...   \n2021             1  e2425b3a0fe4bb9021b9b15194eb597300232eb08a200f...   \n2022             1  f74b5cd9837fcedc5fdef808bdcfb51032a116fa7f923c...   \n\n     FECHA_HORA_PUBLICACIÓN DIGITALIZACIÓN  \n0       26/06/2023 02:19:04        ESCANER  \n1       25/06/2023 23:09:37        ESCANER  \n2       26/06/2023 01:02:30        ESCANER  \n3       25/06/2023 22:33:23        ESCANER  \n4       26/06/2023 00:01:59        ESCANER  \n...                     ...            ...  \n2018    26/06/2023 01:40:00        ESCANER  \n2019    25/06/2023 23:53:12        ESCANER  \n2020    25/06/2023 22:38:08        ESCANER  \n2021    25/06/2023 21:10:16        ESCANER  \n2022    25/06/2023 22:19:39        ESCANER  \n\n[2023 rows x 48 columns]",
      "text/html": "<div>\n<style scoped>\n    .dataframe tbody tr th:only-of-type {\n        vertical-align: middle;\n    }\n\n    .dataframe tbody tr th {\n        vertical-align: top;\n    }\n\n    .dataframe thead th {\n        text-align: right;\n    }\n</style>\n<table border=\"1\" class=\"dataframe\">\n  <thead>\n    <tr style=\"text-align: right;\">\n      <th></th>\n      <th>MESA</th>\n      <th>DEPARTAMENTO</th>\n      <th>ID_DEPARTAMENTO</th>\n      <th>MUNICIPIO</th>\n      <th>ID_MUNICIPIO</th>\n      <th>CENTRO_DE_VOTACIÓN</th>\n      <th>PADRÓN</th>\n      <th>TODOS</th>\n      <th>UNE</th>\n      <th>VALOR UNIONISTA</th>\n      <th>...</th>\n      <th>PAPELETAS-RECIBIDAS</th>\n      <th>PAPELETAS-NO-USADAS</th>\n      <th>VALIDOS_CALCULADO</th>\n      <th>EMITIDOS_CALCULADO</th>\n      <th>TOTAL_CALCULADO</th>\n      <th>OBSERVACIONES</th>\n      <th>CONTABILIZADA</th>\n      <th>CÓDIGO_INTEGRIDAD</th>\n      <th>FECHA_HORA_PUBLICACIÓN</th>\n      <th>DIGITALIZACIÓN</th>\n    </tr>\n  </thead>\n  <tbody>\n    <tr>\n      <th>0</th>\n      <td>1</td>\n      <td>Distrito Central</td>\n      <td>0</td>\n      <td>Guatemala</td>\n      <td>1</td>\n      <td>1</td>\n      <td>400</td>\n      <td>9</td>\n      <td>21</td>\n      <td>86</td>\n      <td>...</td>\n      <td>0</td>\n      <td>0</td>\n      <td>254.0</td>\n      <td>254.0</td>\n      <td>254.0</td>\n      <td>Algún campo sin dato</td>\n      <td>1</td>\n      <td>e798d13702b9a3b5b3672b7de0598a5c4baa55bb18c853...</td>\n      <td>26/06/2023 02:19:04</td>\n      <td>ESCANER</td>\n    </tr>\n    <tr>\n      <th>1</th>\n      <td>2</td>\n      <td>Distrito Central</td>\n      <td>0</td>\n      <td>Guatemala</td>\n      <td>1</td>\n      <td>1</td>\n      <td>400</td>\n      <td>14</td>\n      <td>16</td>\n      <td>72</td>\n      <td>...</td>\n      <td>400</td>\n      <td>128</td>\n      <td>255.0</td>\n      <td>272.0</td>\n      <td>272.0</td>\n      <td>Algún campo sin dato</td>\n      <td>1</td>\n      <td>8eaff44acb0ac8850475199341a6baeeda9c048a05dc10...</td>\n      <td>25/06/2023 23:09:37</td>\n      <td>ESCANER</td>\n    </tr>\n    <tr>\n      <th>2</th>\n      <td>3</td>\n      <td>Distrito Central</td>\n      <td>0</td>\n      <td>Guatemala</td>\n      <td>1</td>\n      <td>1</td>\n      <td>277</td>\n      <td>10</td>\n      <td>18</td>\n      <td>25</td>\n      <td>...</td>\n      <td>277</td>\n      <td>62</td>\n      <td>155.0</td>\n      <td>167.0</td>\n      <td>167.0</td>\n      <td>Sumas Asentadas sin cuadrar</td>\n      <td>1</td>\n      <td>1bae08360c7223157da09ecd050b4f176f190a07106042...</td>\n      <td>26/06/2023 01:02:30</td>\n      <td>ESCANER</td>\n    </tr>\n    <tr>\n      <th>3</th>\n      <td>4</td>\n      <td>Distrito Central</td>\n      <td>0</td>\n      <td>Guatemala</td>\n      <td>1</td>\n      <td>1</td>\n      <td>277</td>\n      <td>9</td>\n      <td>8</td>\n      <td>52</td>\n      <td>...</td>\n      <td>277</td>\n      <td>93</td>\n      <td>171.0</td>\n      <td>184.0</td>\n      <td>184.0</td>\n      <td>Algún campo sin dato</td>\n      <td>1</td>\n      <td>cbac8f21a3ecf69b35b2d0b88829658e4652155de1425f...</td>\n      <td>25/06/2023 22:33:23</td>\n      <td>ESCANER</td>\n    </tr>\n    <tr>\n      <th>4</th>\n      <td>5</td>\n      <td>Distrito Central</td>\n      <td>0</td>\n      <td>Guatemala</td>\n      <td>1</td>\n      <td>2</td>\n      <td>400</td>\n      <td>7</td>\n      <td>19</td>\n      <td>55</td>\n      <td>...</td>\n      <td>400</td>\n      <td>162</td>\n      <td>223.0</td>\n      <td>238.0</td>\n      <td>238.0</td>\n      <td>Algún campo sin dato</td>\n      <td>1</td>\n      <td>9d749654c17aabedcb2e2b60cd8f9ebd29b3498b42d16a...</td>\n      <td>26/06/2023 00:01:59</td>\n      <td>ESCANER</td>\n    </tr>\n    <tr>\n      <th>...</th>\n      <td>...</td>\n      <td>...</td>\n      <td>...</td>\n      <td>...</td>\n      <td>...</td>\n      <td>...</td>\n      <td>...</td>\n      <td>...</td>\n      <td>...</td>\n      <td>...</td>\n      <td>...</td>\n      <td>...</td>\n      <td>...</td>\n      <td>...</td>\n      <td>...</td>\n      <td>...</td>\n      <td>...</td>\n      <td>...</td>\n      <td>...</td>\n      <td>...</td>\n      <td>...</td>\n    </tr>\n    <tr>\n      <th>2018</th>\n      <td>2019</td>\n      <td>Distrito Central</td>\n      <td>0</td>\n      <td>Guatemala</td>\n      <td>1</td>\n      <td>152</td>\n      <td>600</td>\n      <td>0</td>\n      <td>2</td>\n      <td>3</td>\n      <td>...</td>\n      <td>596</td>\n      <td>580</td>\n      <td>15.0</td>\n      <td>16.0</td>\n      <td>16.0</td>\n      <td>NaN</td>\n      <td>1</td>\n      <td>2c1d9aa80de3abfff1d7d2c0656139d4d6d69893db2c7c...</td>\n      <td>26/06/2023 01:40:00</td>\n      <td>ESCANER</td>\n    </tr>\n    <tr>\n      <th>2019</th>\n      <td>2020</td>\n      <td>Distrito Central</td>\n      <td>0</td>\n      <td>Guatemala</td>\n      <td>1</td>\n      <td>152</td>\n      <td>600</td>\n      <td>0</td>\n      <td>1</td>\n      <td>2</td>\n      <td>...</td>\n      <td>597</td>\n      <td>587</td>\n      <td>9.0</td>\n      <td>10.0</td>\n      <td>10.0</td>\n      <td>Sumas Asentadas sin cuadrar</td>\n      <td>1</td>\n      <td>35ebc8a4610058ad4c8e394151eac56ff5918463547d2d...</td>\n      <td>25/06/2023 23:53:12</td>\n      <td>ESCANER</td>\n    </tr>\n    <tr>\n      <th>2020</th>\n      <td>2021</td>\n      <td>Distrito Central</td>\n      <td>0</td>\n      <td>Guatemala</td>\n      <td>1</td>\n      <td>152</td>\n      <td>600</td>\n      <td>0</td>\n      <td>1</td>\n      <td>3</td>\n      <td>...</td>\n      <td>600</td>\n      <td>588</td>\n      <td>11.0</td>\n      <td>12.0</td>\n      <td>12.0</td>\n      <td>Algún campo sin dato</td>\n      <td>1</td>\n      <td>e9830b1c5d5af61416f588c97a68147954a92277dd4655...</td>\n      <td>25/06/2023 22:38:08</td>\n      <td>ESCANER</td>\n    </tr>\n    <tr>\n      <th>2021</th>\n      <td>2022</td>\n      <td>Distrito Central</td>\n      <td>0</td>\n      <td>Guatemala</td>\n      <td>1</td>\n      <td>152</td>\n      <td>460</td>\n      <td>1</td>\n      <td>0</td>\n      <td>6</td>\n      <td>...</td>\n      <td>460</td>\n      <td>441</td>\n      <td>19.0</td>\n      <td>19.0</td>\n      <td>19.0</td>\n      <td>Algún campo sin dato</td>\n      <td>1</td>\n      <td>e2425b3a0fe4bb9021b9b15194eb597300232eb08a200f...</td>\n      <td>25/06/2023 21:10:16</td>\n      <td>ESCANER</td>\n    </tr>\n    <tr>\n      <th>2022</th>\n      <td>2023</td>\n      <td>Distrito Central</td>\n      <td>0</td>\n      <td>Guatemala</td>\n      <td>1</td>\n      <td>152</td>\n      <td>460</td>\n      <td>--</td>\n      <td>2</td>\n      <td>5</td>\n      <td>...</td>\n      <td>460</td>\n      <td>444</td>\n      <td>13.0</td>\n      <td>16.0</td>\n      <td>16.0</td>\n      <td>Algún campo sin dato</td>\n      <td>1</td>\n      <td>f74b5cd9837fcedc5fdef808bdcfb51032a116fa7f923c...</td>\n      <td>25/06/2023 22:19:39</td>\n      <td>ESCANER</td>\n    </tr>\n  </tbody>\n</table>\n<p>2023 rows × 48 columns</p>\n</div>"
     },
     "execution_count": 2,
     "metadata": {},
     "output_type": "execute_result"
    }
   ],
   "source": [
    "df_complete_trep = pd.read_csv(\"/Users/rudikrompich/Git/recopilacion_y_analisis_elecciones_de_guatemala_2023/data_sistema_trep/4-CORPORACIÓN/gtm2023_e4d00m01.csv\", sep=\",\",skiprows=4)\n",
    "df_complete_trep[[\"NULOS\",\"BLANCO\",\"INVÁLIDOS\",\"IMPUGNACIONES\",\"PAPELETAS-RECIBIDAS\",\"PAPELETAS-NO-USADAS\"]]= df_complete_trep[[\"NULOS\",\"BLANCO\",\"INVÁLIDOS\",\"IMPUGNACIONES\",\"PAPELETAS-RECIBIDAS\",\"PAPELETAS-NO-USADAS\"]].replace(\"--\",0)\n",
    "\n",
    "df_complete_trep"
   ],
   "metadata": {
    "collapsed": false,
    "ExecuteTime": {
     "end_time": "2023-07-03T21:47:15.751436Z",
     "start_time": "2023-07-03T21:47:15.725013Z"
    }
   }
  },
  {
   "cell_type": "code",
   "execution_count": 3,
   "outputs": [],
   "source": [
    "df_edition = df_complete_trep.copy()\n"
   ],
   "metadata": {
    "collapsed": false,
    "ExecuteTime": {
     "end_time": "2023-07-03T21:47:15.753806Z",
     "start_time": "2023-07-03T21:47:15.750907Z"
    }
   }
  },
  {
   "cell_type": "markdown",
   "source": [
    "# Analisis exploratorio de datos"
   ],
   "metadata": {
    "collapsed": false
   }
  },
  {
   "cell_type": "markdown",
   "source": [
    "## Analisis de columnas válidas raras\n",
    "Para este proceso me he puesto a verificar la columna de \"VÁLIDOS\" y he encontrado que hay 2 tipos de datos que son raros: \"--\" y \"0\". Por lo que he decidido hacer un analisis de estos datos para ver si son validos o no."
   ],
   "metadata": {
    "collapsed": false
   }
  },
  {
   "cell_type": "code",
   "execution_count": 4,
   "outputs": [
    {
     "data": {
      "text/plain": "[1, 242, 368, 599, 604, 1294, 1319, 1432, 1567, 1649, 1675, 1688, 1834]"
     },
     "execution_count": 4,
     "metadata": {},
     "output_type": "execute_result"
    }
   ],
   "source": [
    "df_1_guiones_o_cero_en_papeleta = df_complete_trep.loc[(df_complete_trep[\"VÁLIDOS\"]=='--')|(df_complete_trep[\"VÁLIDOS\"]=='0'),df_complete_trep.columns[:]]\n",
    "\n",
    "df_1_guiones_o_cero_en_papeleta_indexes_for_searching = df_1_guiones_o_cero_en_papeleta.index.to_list()\n",
    "df_1_guiones_o_cero_en_papeleta[\"MESA\"].to_list()"
   ],
   "metadata": {
    "collapsed": false,
    "ExecuteTime": {
     "end_time": "2023-07-03T21:47:15.784603Z",
     "start_time": "2023-07-03T21:47:15.753876Z"
    }
   }
  },
  {
   "cell_type": "markdown",
   "source": [
    "Posteriormente se divide en todos tablas basado en la columna 'VALIDOS_CALCULADO', el sistema no siempre hace el cálculo, entonces se hace esta clasificación:"
   ],
   "metadata": {
    "collapsed": false
   }
  },
  {
   "cell_type": "code",
   "execution_count": 5,
   "outputs": [
    {
     "data": {
      "text/plain": "[1, 1294, 1432, 1567, 1675]"
     },
     "execution_count": 5,
     "metadata": {},
     "output_type": "execute_result"
    }
   ],
   "source": [
    "df_1_validos_calculado = df_1_guiones_o_cero_en_papeleta[df_1_guiones_o_cero_en_papeleta[\"VALIDOS_CALCULADO\"].notna()]\n",
    "df_1_validos_calculado[\"MESA\"].to_list()"
   ],
   "metadata": {
    "collapsed": false,
    "ExecuteTime": {
     "end_time": "2023-07-03T21:47:15.784923Z",
     "start_time": "2023-07-03T21:47:15.761765Z"
    }
   }
  },
  {
   "cell_type": "code",
   "execution_count": 6,
   "outputs": [
    {
     "data": {
      "text/plain": "[242, 368, 599, 604, 1319, 1649, 1688, 1834]"
     },
     "execution_count": 6,
     "metadata": {},
     "output_type": "execute_result"
    }
   ],
   "source": [
    "df_1_validos_no_calculado = df_1_guiones_o_cero_en_papeleta[df_1_guiones_o_cero_en_papeleta[\"VALIDOS_CALCULADO\"].isna()]\n",
    "df_1_validos_no_calculado[\"MESA\"].to_list()"
   ],
   "metadata": {
    "collapsed": false,
    "ExecuteTime": {
     "end_time": "2023-07-03T21:47:15.784990Z",
     "start_time": "2023-07-03T21:47:15.764815Z"
    }
   }
  },
  {
   "cell_type": "markdown",
   "source": [
    "### Con esto, procedemos a hacer las correcciones manuales"
   ],
   "metadata": {
    "collapsed": false
   }
  },
  {
   "cell_type": "code",
   "execution_count": 7,
   "outputs": [],
   "source": [
    "def row_con_validos_calculados(mesa):\n",
    "    df_raw = df_edition.loc[df_edition[\"MESA\"]==mesa,df_edition.columns[7:31]].transpose()\n",
    "    valores_asociados = df_edition.loc[df_edition[\"MESA\"]==mesa,df_edition.columns[7:31]].values.tolist()\n",
    "    return df_raw,valores_asociados"
   ],
   "metadata": {
    "collapsed": false,
    "ExecuteTime": {
     "end_time": "2023-07-03T21:47:15.785019Z",
     "start_time": "2023-07-03T21:47:15.767604Z"
    }
   }
  },
  {
   "cell_type": "code",
   "execution_count": 8,
   "outputs": [],
   "source": [
    "mesa =1834\n",
    "partidos_analizados, valores_en_lista = row_con_validos_calculados(mesa)"
   ],
   "metadata": {
    "collapsed": false,
    "ExecuteTime": {
     "end_time": "2023-07-03T21:47:15.785062Z",
     "start_time": "2023-07-03T21:47:15.770276Z"
    }
   }
  },
  {
   "cell_type": "code",
   "execution_count": 9,
   "outputs": [
    {
     "data": {
      "text/plain": "                              1833\nTODOS                           --\nUNE                             --\nVALOR UNIONISTA                 --\nPR                              --\nCAMBIO                          --\nAZUL                            --\nMLP                             --\nVICTORIA                        --\nVAMOS                           --\nPHG                             --\nBIEN                            --\nUR                              --\nP A N                           --\nPIN                             --\nFCN-NACION                      --\nCOMITE CIVICO LA GOTA DE AGUA   --\nPPN                             --\nFOPPA X LA CIUDAD               --\nMI FAMILIA                      --\nCABAL                           --\nVIVA                            --\nPODEMOS                         --\nPODER                           --\nCREO                            --",
      "text/html": "<div>\n<style scoped>\n    .dataframe tbody tr th:only-of-type {\n        vertical-align: middle;\n    }\n\n    .dataframe tbody tr th {\n        vertical-align: top;\n    }\n\n    .dataframe thead th {\n        text-align: right;\n    }\n</style>\n<table border=\"1\" class=\"dataframe\">\n  <thead>\n    <tr style=\"text-align: right;\">\n      <th></th>\n      <th>1833</th>\n    </tr>\n  </thead>\n  <tbody>\n    <tr>\n      <th>TODOS</th>\n      <td>--</td>\n    </tr>\n    <tr>\n      <th>UNE</th>\n      <td>--</td>\n    </tr>\n    <tr>\n      <th>VALOR UNIONISTA</th>\n      <td>--</td>\n    </tr>\n    <tr>\n      <th>PR</th>\n      <td>--</td>\n    </tr>\n    <tr>\n      <th>CAMBIO</th>\n      <td>--</td>\n    </tr>\n    <tr>\n      <th>AZUL</th>\n      <td>--</td>\n    </tr>\n    <tr>\n      <th>MLP</th>\n      <td>--</td>\n    </tr>\n    <tr>\n      <th>VICTORIA</th>\n      <td>--</td>\n    </tr>\n    <tr>\n      <th>VAMOS</th>\n      <td>--</td>\n    </tr>\n    <tr>\n      <th>PHG</th>\n      <td>--</td>\n    </tr>\n    <tr>\n      <th>BIEN</th>\n      <td>--</td>\n    </tr>\n    <tr>\n      <th>UR</th>\n      <td>--</td>\n    </tr>\n    <tr>\n      <th>P A N</th>\n      <td>--</td>\n    </tr>\n    <tr>\n      <th>PIN</th>\n      <td>--</td>\n    </tr>\n    <tr>\n      <th>FCN-NACION</th>\n      <td>--</td>\n    </tr>\n    <tr>\n      <th>COMITE CIVICO LA GOTA DE AGUA</th>\n      <td>--</td>\n    </tr>\n    <tr>\n      <th>PPN</th>\n      <td>--</td>\n    </tr>\n    <tr>\n      <th>FOPPA X LA CIUDAD</th>\n      <td>--</td>\n    </tr>\n    <tr>\n      <th>MI FAMILIA</th>\n      <td>--</td>\n    </tr>\n    <tr>\n      <th>CABAL</th>\n      <td>--</td>\n    </tr>\n    <tr>\n      <th>VIVA</th>\n      <td>--</td>\n    </tr>\n    <tr>\n      <th>PODEMOS</th>\n      <td>--</td>\n    </tr>\n    <tr>\n      <th>PODER</th>\n      <td>--</td>\n    </tr>\n    <tr>\n      <th>CREO</th>\n      <td>--</td>\n    </tr>\n  </tbody>\n</table>\n</div>"
     },
     "execution_count": 9,
     "metadata": {},
     "output_type": "execute_result"
    }
   ],
   "source": [
    "partidos_analizados"
   ],
   "metadata": {
    "collapsed": false,
    "ExecuteTime": {
     "end_time": "2023-07-03T21:47:15.804765Z",
     "start_time": "2023-07-03T21:47:15.774001Z"
    }
   }
  },
  {
   "cell_type": "code",
   "execution_count": 10,
   "outputs": [
    {
     "name": "stdout",
     "output_type": "stream",
     "text": [
      "[['--', '--', '--', '--', '--', '--', '--', '--', '--', '--', '--', '--', '--', '--', '--', '--', '--', '--', '--', '--', '--', '--', '--', '--']]\n"
     ]
    }
   ],
   "source": [
    "print(valores_en_lista)"
   ],
   "metadata": {
    "collapsed": false,
    "ExecuteTime": {
     "end_time": "2023-07-03T21:47:15.804894Z",
     "start_time": "2023-07-03T21:47:15.776397Z"
    }
   }
  },
  {
   "cell_type": "code",
   "execution_count": 11,
   "outputs": [],
   "source": [
    "# Ediciones manuales\n",
    "\n",
    "## Los que estan calculados, pero no se les coloco suma en la columna de validos\n",
    "\n",
    "# 1 - No hay problema\n",
    "\n",
    "# 1294 - Dos partidos sin datos\n",
    "df_edition.loc[df_edition[\"MESA\"]==1294,df_edition.columns[7:31]] =  [['8', '15', '45', '2', '3', '3', '4', '5', '6', '1', '4', '1', '0', '1', '2', '2', '3', '36', '0', '2', '2', '10', '11', '55']]\n",
    "\n",
    "# 1432 - No hay problema\n",
    "\n",
    "# 1567 - No hay problema\n",
    "\n",
    "# 1675 - No hay problema\n",
    "\n",
    "## Los que no estan calculados y tiene muchos guiones en sus partidos\n",
    "\n",
    "# 242 - Dice acta ilegible, pero tiene varios testados y se logra entender\n",
    "df_edition.loc[df_edition[\"MESA\"]==242,df_edition.columns[7:31]] = [['10', '15', '49', '1', '3', '4', '2', '6', '3', '0', '3', '4', '1', '0', '0', '1', '0', '2', '0', '2', '4', '7', '0', '45']]\n",
    "\n",
    "# 368 - Se confundieron de papeleta, usaron la de diputados distritales, la correcta esta en este link: https://www.trep.gt/#!/tc2/CAS/e0/m1/30?casId=M368; el COMITE CIVICO LA GOTA DE AGUA no apaerece en la papelete entonces 0;  fopa x la ciudad como semilla;\n",
    "\n",
    "df_edition.loc[df_edition[\"MESA\"]==368,df_edition.columns[7:31]] = [['10', '17', '69', '2', '2', '8', '2', '5', '6', '0', '5', '1', '2', '0', '2', '0', '5', '39', '0', '6', '4', '8', '1', '50']]\n",
    "\n",
    "# 599 - Aparece como acta ilegible - Pero simplemente el testado no era para los datos de los partidios sino las sumatorias, los datos están correctos\n",
    "df_edition.loc[df_edition[\"MESA\"]==599,df_edition.columns[7:31]] = [['5', '12', '45', '3', '4', '4', '0', '8', '6', '1', '6', '1', '1', '0', '0', '1', '6', '6', '1', '0', '6', '0', '0', '66']]\n",
    "\n",
    "# 604 - Se confundieron de papeleta - el link de la papeleta está aquí: https://www.trep.gt/#!/tc2/CAS/e0/m1/47?casId=M604; el COMITE CIVICO LA GOTA DE AGUA no apaerece en la papelete entonces 0;  fopa x la ciudad como semilla (Aunque aparece como 0, hay algo raro); no está el partido PODER;\n",
    "df_edition.loc[df_edition[\"MESA\"]==604,df_edition.columns[7:31]] = [['6', '13', '42', '3', '6', '4', '0', '7', '1', '0', '4', '1', '1', '2', '2', '0', '3', '0', '0', '5', '5', '7', '0', '59']]\n",
    "\n",
    "# 1319 - No se ve muy bien, pero a lo lejos se entendible\n",
    "df_edition.loc[df_edition[\"MESA\"]==1319,df_edition.columns[7:31]] = [['10', '31', '39', '0', '2', '3', '2', '7', '4', '2', '3', '1', '3', '2', '0', '1', '2', '6', '0', '2', '0', '9', '1', '53']]\n",
    "\n",
    "# 1649 - Dice acta ilegible, pero se logra ver más o menos bien\n",
    "df_edition.loc[df_edition[\"MESA\"]==1649,df_edition.columns[7:31]] = [['7', '10', '66', '1', '3', '13', '3', '4', '2', '0', '3', '0', '1', '1', '0', '0', '1', '44', '2', '5', '3', '6', '1','69']]\n",
    "\n",
    "# 1688 - Aparece como acta ilegible, yo lo veo bien\n",
    "df_edition.loc[df_edition[\"MESA\"]==1688,df_edition.columns[7:31]] = [['6', '26', '37', '0', '7', '7', '2', '6', '5', '0', '2', '1', '0', '0', '1', '0', '1', '34', '1', '5', '3', '7', '2','65']]\n",
    "\n",
    "# 1834 -\n",
    "df_edition.loc[df_edition[\"MESA\"]==1834,df_edition.columns[7:31]] = [['2', '4', '12', '2', '2', '2', '0', '2', '1', '1', '0', '0', '0', '0', '0', '0', '1', '26', '0', '0', '0', '6', '0', '20']]\n",
    "\n"
   ],
   "metadata": {
    "collapsed": false,
    "ExecuteTime": {
     "end_time": "2023-07-03T21:47:15.814720Z",
     "start_time": "2023-07-03T21:47:15.792602Z"
    }
   }
  },
  {
   "cell_type": "code",
   "execution_count": 12,
   "outputs": [
    {
     "data": {
      "text/plain": "106579"
     },
     "execution_count": 12,
     "metadata": {},
     "output_type": "execute_result"
    }
   ],
   "source": [
    "df_edition[\"VALOR UNIONISTA\"].replace('--',0).astype(int).sum()"
   ],
   "metadata": {
    "collapsed": false,
    "ExecuteTime": {
     "end_time": "2023-07-03T21:47:15.815006Z",
     "start_time": "2023-07-03T21:47:15.796356Z"
    }
   }
  },
  {
   "cell_type": "code",
   "execution_count": 13,
   "outputs": [
    {
     "data": {
      "text/plain": "106125"
     },
     "execution_count": 13,
     "metadata": {},
     "output_type": "execute_result"
    }
   ],
   "source": [
    "df_edition[\"CREO\"].replace('--',0).astype(int).sum()\n"
   ],
   "metadata": {
    "collapsed": false,
    "ExecuteTime": {
     "end_time": "2023-07-03T21:47:15.815110Z",
     "start_time": "2023-07-03T21:47:15.799975Z"
    }
   }
  },
  {
   "cell_type": "markdown",
   "source": [
    "## Sumatorias que no coinciden\n",
    "\n",
    "Ahora bien, es necesario volver a hacer las sumatorias, pero primero hay que rellenar los datos faltantes en la variable 'VÁLIDOS' con las sumatorias de las correcciones anteriores."
   ],
   "metadata": {
    "collapsed": false
   }
  },
  {
   "cell_type": "code",
   "execution_count": 14,
   "outputs": [
    {
     "data": {
      "text/plain": "[0, 241, 367, 598, 603, 1293, 1318, 1431, 1566, 1648, 1674, 1687, 1833]"
     },
     "execution_count": 14,
     "metadata": {},
     "output_type": "execute_result"
    }
   ],
   "source": [
    "df_1_guiones_o_cero_en_papeleta_indexes_for_searching"
   ],
   "metadata": {
    "collapsed": false,
    "ExecuteTime": {
     "end_time": "2023-07-03T21:47:15.815299Z",
     "start_time": "2023-07-03T21:47:15.805052Z"
    }
   }
  },
  {
   "cell_type": "code",
   "execution_count": 15,
   "outputs": [],
   "source": [
    "df_edition.loc[df_1_guiones_o_cero_en_papeleta_indexes_for_searching,\"VÁLIDOS\"] = df_edition.loc[df_1_guiones_o_cero_en_papeleta_indexes_for_searching,df_edition.columns[7:31]].astype(int).sum(axis=1).tolist()"
   ],
   "metadata": {
    "collapsed": false,
    "ExecuteTime": {
     "end_time": "2023-07-03T21:47:15.819677Z",
     "start_time": "2023-07-03T21:47:15.808364Z"
    }
   }
  },
  {
   "cell_type": "markdown",
   "source": [
    "El objetivo es volver a calcular la variable 'VALIDOS_CALCULADO', sin embargo hay que verificar que no haya datos con '--'"
   ],
   "metadata": {
    "collapsed": false
   }
  },
  {
   "cell_type": "code",
   "execution_count": 16,
   "outputs": [
    {
     "name": "stdout",
     "output_type": "stream",
     "text": [
      "[68, 69, 72, 94, 100, 112, 143, 184, 200, 219, 223, 224, 248, 249, 250, 251, 255, 333, 334, 470, 493, 523, 542, 550, 563, 620, 628, 668, 700, 757, 765, 779, 780, 781, 783, 784, 785, 791, 795, 817, 824, 828, 836, 849, 915, 937, 939, 947, 950, 963, 993, 996, 999, 1004, 1066, 1074, 1140, 1147, 1153, 1163, 1185, 1198, 1244, 1250, 1263, 1266, 1278, 1329, 1342, 1399, 1498, 1513, 1525, 1527, 1533, 1548, 1550, 1561, 1571, 1589, 1624, 1653, 1715, 1716, 1718, 1719, 1722, 1724, 1731, 1771, 1776, 1777, 1785, 1802, 1805, 1837, 1856, 1887, 1902, 1950, 1953, 1967, 1978, 1996, 2015, 2018, 2023]\n"
     ]
    }
   ],
   "source": [
    "partidos_columns = df_edition.loc[:,[\"MESA\"]+df_edition.columns[7:31].values.tolist()].copy()\n",
    "print(partidos_columns[partidos_columns.isin(['--']).any(axis=1)]['MESA'].values.tolist())"
   ],
   "metadata": {
    "collapsed": false,
    "ExecuteTime": {
     "end_time": "2023-07-03T21:47:15.832212Z",
     "start_time": "2023-07-03T21:47:15.814474Z"
    }
   }
  },
  {
   "cell_type": "markdown",
   "source": [
    "Al analizar con más detalle, este tipo de datos '--' por lo general están asociados con ser únicamente el número 0, sin embargo en casos raros puede ser que por un extraño motivo no hayan votos en algunas mesas. Aunque eso se solucionará al verificar las sumatorias."
   ],
   "metadata": {
    "collapsed": false
   }
  },
  {
   "cell_type": "code",
   "execution_count": 17,
   "outputs": [],
   "source": [
    "df_edition.loc[:,df_edition.columns[7:31]] = df_edition.loc[:,df_edition.columns[7:31]].replace('--','0')\n"
   ],
   "metadata": {
    "collapsed": false,
    "ExecuteTime": {
     "end_time": "2023-07-03T21:47:15.832441Z",
     "start_time": "2023-07-03T21:47:15.819022Z"
    }
   }
  },
  {
   "cell_type": "code",
   "execution_count": 18,
   "outputs": [
    {
     "data": {
      "text/plain": "'\\nfor i in partidos_columns[partidos_columns.isin([\\'--\\']).any(axis=1)][\\'MESA\\'].values.tolist():\\n    _, valores_en_lista = row_con_validos_calculados(i)\\n\\n    print(f\"# {i} - \")\\n    print(f\\'df_edition.loc[df_edition[\"MESA\"]=={i},df_edition.columns[7:31]]={valores_en_lista}\\n\\')\\n'"
     },
     "execution_count": 18,
     "metadata": {},
     "output_type": "execute_result"
    }
   ],
   "source": [
    "\"\"\"\n",
    "for i in partidos_columns[partidos_columns.isin(['--']).any(axis=1)]['MESA'].values.tolist():\n",
    "    _, valores_en_lista = row_con_validos_calculados(i)\n",
    "\n",
    "    print(f\"# {i} - \")\n",
    "    print(f'df_edition.loc[df_edition[\"MESA\"]=={i},df_edition.columns[7:31]]={valores_en_lista}\\n')\n",
    "\"\"\""
   ],
   "metadata": {
    "collapsed": false,
    "ExecuteTime": {
     "end_time": "2023-07-03T21:47:15.865166Z",
     "start_time": "2023-07-03T21:47:15.824212Z"
    }
   }
  },
  {
   "cell_type": "code",
   "execution_count": 19,
   "outputs": [],
   "source": [
    "df_edition['VALIDOS_CALCULADO'] = df_edition.loc[:,df_edition.columns[7:31]].astype(int).sum(axis=1)"
   ],
   "metadata": {
    "collapsed": false,
    "ExecuteTime": {
     "end_time": "2023-07-03T21:47:15.865501Z",
     "start_time": "2023-07-03T21:47:15.830479Z"
    }
   }
  },
  {
   "cell_type": "code",
   "execution_count": 20,
   "outputs": [],
   "source": [
    "df_edition[\"VÁLIDOS\"] = df_edition[\"VÁLIDOS\"].astype(int)"
   ],
   "metadata": {
    "collapsed": false,
    "ExecuteTime": {
     "end_time": "2023-07-03T21:47:15.890873Z",
     "start_time": "2023-07-03T21:47:15.833733Z"
    }
   }
  },
  {
   "cell_type": "code",
   "execution_count": 21,
   "outputs": [],
   "source": [
    "df_edition['diferencia'] = abs(df_edition['VALIDOS_CALCULADO']- df_edition[\"VÁLIDOS\"])"
   ],
   "metadata": {
    "collapsed": false,
    "ExecuteTime": {
     "end_time": "2023-07-03T21:47:15.900291Z",
     "start_time": "2023-07-03T21:47:15.836545Z"
    }
   }
  },
  {
   "cell_type": "code",
   "execution_count": 22,
   "outputs": [
    {
     "data": {
      "text/plain": "      MESA TODOS UNE VALOR UNIONISTA PR CAMBIO AZUL MLP VICTORIA VAMOS  ...  \\\n0        1     9  21              86  1      3    8   2        4     3  ...   \n1        2    14  16              72  2      5    7   1        5     5  ...   \n2        3    10  18              25  2      3    9   0        3     7  ...   \n3        4     9   8              52  0      1    8   3        2     3  ...   \n4        5     7  19              55  0      5    9   2        8     5  ...   \n...    ...   ...  ..             ... ..    ...  ...  ..      ...   ...  ...   \n2018  2019     0   2               3  1      0    1   0        1     1  ...   \n2019  2020     0   1               2  0      0    2   0        0     0  ...   \n2020  2021     0   1               3  0      0    0   0        0     0  ...   \n2021  2022     1   0               6  1      0    0   0        1     0  ...   \n2022  2023     0   2               5  0      0    0   1        0     0  ...   \n\n     FOPPA X LA CIUDAD MI FAMILIA CABAL VIVA PODEMOS PODER CREO  \\\n0                   45          1     5    1      13     0   38   \n1                   46          0     4    3      15     0   52   \n2                   26          0     4    1       2     1   33   \n3                   39          1     0    0       9     1   28   \n4                   40          0     3    4       9     1   44   \n...                ...        ...   ...  ...     ...   ...  ...   \n2018                 1          0     0    0       2     0    2   \n2019                 0          0     2    0       0     0    1   \n2020                 3          0     0    0       0     0    2   \n2021                 1          0     0    0       2     1    4   \n2022                 2          0     0    1       2     0    0   \n\n     VALIDOS_CALCULADO VÁLIDOS diferencia  \n0                  254     254          0  \n1                  255     255          0  \n2                  155     203         48  \n3                  171     171          0  \n4                  223     223          0  \n...                ...     ...        ...  \n2018                15      15          0  \n2019                 9       9          0  \n2020                11      11          0  \n2021                19      19          0  \n2022                13      13          0  \n\n[2023 rows x 28 columns]",
      "text/html": "<div>\n<style scoped>\n    .dataframe tbody tr th:only-of-type {\n        vertical-align: middle;\n    }\n\n    .dataframe tbody tr th {\n        vertical-align: top;\n    }\n\n    .dataframe thead th {\n        text-align: right;\n    }\n</style>\n<table border=\"1\" class=\"dataframe\">\n  <thead>\n    <tr style=\"text-align: right;\">\n      <th></th>\n      <th>MESA</th>\n      <th>TODOS</th>\n      <th>UNE</th>\n      <th>VALOR UNIONISTA</th>\n      <th>PR</th>\n      <th>CAMBIO</th>\n      <th>AZUL</th>\n      <th>MLP</th>\n      <th>VICTORIA</th>\n      <th>VAMOS</th>\n      <th>...</th>\n      <th>FOPPA X LA CIUDAD</th>\n      <th>MI FAMILIA</th>\n      <th>CABAL</th>\n      <th>VIVA</th>\n      <th>PODEMOS</th>\n      <th>PODER</th>\n      <th>CREO</th>\n      <th>VALIDOS_CALCULADO</th>\n      <th>VÁLIDOS</th>\n      <th>diferencia</th>\n    </tr>\n  </thead>\n  <tbody>\n    <tr>\n      <th>0</th>\n      <td>1</td>\n      <td>9</td>\n      <td>21</td>\n      <td>86</td>\n      <td>1</td>\n      <td>3</td>\n      <td>8</td>\n      <td>2</td>\n      <td>4</td>\n      <td>3</td>\n      <td>...</td>\n      <td>45</td>\n      <td>1</td>\n      <td>5</td>\n      <td>1</td>\n      <td>13</td>\n      <td>0</td>\n      <td>38</td>\n      <td>254</td>\n      <td>254</td>\n      <td>0</td>\n    </tr>\n    <tr>\n      <th>1</th>\n      <td>2</td>\n      <td>14</td>\n      <td>16</td>\n      <td>72</td>\n      <td>2</td>\n      <td>5</td>\n      <td>7</td>\n      <td>1</td>\n      <td>5</td>\n      <td>5</td>\n      <td>...</td>\n      <td>46</td>\n      <td>0</td>\n      <td>4</td>\n      <td>3</td>\n      <td>15</td>\n      <td>0</td>\n      <td>52</td>\n      <td>255</td>\n      <td>255</td>\n      <td>0</td>\n    </tr>\n    <tr>\n      <th>2</th>\n      <td>3</td>\n      <td>10</td>\n      <td>18</td>\n      <td>25</td>\n      <td>2</td>\n      <td>3</td>\n      <td>9</td>\n      <td>0</td>\n      <td>3</td>\n      <td>7</td>\n      <td>...</td>\n      <td>26</td>\n      <td>0</td>\n      <td>4</td>\n      <td>1</td>\n      <td>2</td>\n      <td>1</td>\n      <td>33</td>\n      <td>155</td>\n      <td>203</td>\n      <td>48</td>\n    </tr>\n    <tr>\n      <th>3</th>\n      <td>4</td>\n      <td>9</td>\n      <td>8</td>\n      <td>52</td>\n      <td>0</td>\n      <td>1</td>\n      <td>8</td>\n      <td>3</td>\n      <td>2</td>\n      <td>3</td>\n      <td>...</td>\n      <td>39</td>\n      <td>1</td>\n      <td>0</td>\n      <td>0</td>\n      <td>9</td>\n      <td>1</td>\n      <td>28</td>\n      <td>171</td>\n      <td>171</td>\n      <td>0</td>\n    </tr>\n    <tr>\n      <th>4</th>\n      <td>5</td>\n      <td>7</td>\n      <td>19</td>\n      <td>55</td>\n      <td>0</td>\n      <td>5</td>\n      <td>9</td>\n      <td>2</td>\n      <td>8</td>\n      <td>5</td>\n      <td>...</td>\n      <td>40</td>\n      <td>0</td>\n      <td>3</td>\n      <td>4</td>\n      <td>9</td>\n      <td>1</td>\n      <td>44</td>\n      <td>223</td>\n      <td>223</td>\n      <td>0</td>\n    </tr>\n    <tr>\n      <th>...</th>\n      <td>...</td>\n      <td>...</td>\n      <td>...</td>\n      <td>...</td>\n      <td>...</td>\n      <td>...</td>\n      <td>...</td>\n      <td>...</td>\n      <td>...</td>\n      <td>...</td>\n      <td>...</td>\n      <td>...</td>\n      <td>...</td>\n      <td>...</td>\n      <td>...</td>\n      <td>...</td>\n      <td>...</td>\n      <td>...</td>\n      <td>...</td>\n      <td>...</td>\n      <td>...</td>\n    </tr>\n    <tr>\n      <th>2018</th>\n      <td>2019</td>\n      <td>0</td>\n      <td>2</td>\n      <td>3</td>\n      <td>1</td>\n      <td>0</td>\n      <td>1</td>\n      <td>0</td>\n      <td>1</td>\n      <td>1</td>\n      <td>...</td>\n      <td>1</td>\n      <td>0</td>\n      <td>0</td>\n      <td>0</td>\n      <td>2</td>\n      <td>0</td>\n      <td>2</td>\n      <td>15</td>\n      <td>15</td>\n      <td>0</td>\n    </tr>\n    <tr>\n      <th>2019</th>\n      <td>2020</td>\n      <td>0</td>\n      <td>1</td>\n      <td>2</td>\n      <td>0</td>\n      <td>0</td>\n      <td>2</td>\n      <td>0</td>\n      <td>0</td>\n      <td>0</td>\n      <td>...</td>\n      <td>0</td>\n      <td>0</td>\n      <td>2</td>\n      <td>0</td>\n      <td>0</td>\n      <td>0</td>\n      <td>1</td>\n      <td>9</td>\n      <td>9</td>\n      <td>0</td>\n    </tr>\n    <tr>\n      <th>2020</th>\n      <td>2021</td>\n      <td>0</td>\n      <td>1</td>\n      <td>3</td>\n      <td>0</td>\n      <td>0</td>\n      <td>0</td>\n      <td>0</td>\n      <td>0</td>\n      <td>0</td>\n      <td>...</td>\n      <td>3</td>\n      <td>0</td>\n      <td>0</td>\n      <td>0</td>\n      <td>0</td>\n      <td>0</td>\n      <td>2</td>\n      <td>11</td>\n      <td>11</td>\n      <td>0</td>\n    </tr>\n    <tr>\n      <th>2021</th>\n      <td>2022</td>\n      <td>1</td>\n      <td>0</td>\n      <td>6</td>\n      <td>1</td>\n      <td>0</td>\n      <td>0</td>\n      <td>0</td>\n      <td>1</td>\n      <td>0</td>\n      <td>...</td>\n      <td>1</td>\n      <td>0</td>\n      <td>0</td>\n      <td>0</td>\n      <td>2</td>\n      <td>1</td>\n      <td>4</td>\n      <td>19</td>\n      <td>19</td>\n      <td>0</td>\n    </tr>\n    <tr>\n      <th>2022</th>\n      <td>2023</td>\n      <td>0</td>\n      <td>2</td>\n      <td>5</td>\n      <td>0</td>\n      <td>0</td>\n      <td>0</td>\n      <td>1</td>\n      <td>0</td>\n      <td>0</td>\n      <td>...</td>\n      <td>2</td>\n      <td>0</td>\n      <td>0</td>\n      <td>1</td>\n      <td>2</td>\n      <td>0</td>\n      <td>0</td>\n      <td>13</td>\n      <td>13</td>\n      <td>0</td>\n    </tr>\n  </tbody>\n</table>\n<p>2023 rows × 28 columns</p>\n</div>"
     },
     "execution_count": 22,
     "metadata": {},
     "output_type": "execute_result"
    }
   ],
   "source": [
    "para_analizar = df_edition.loc[:,['MESA']+df_edition.columns.tolist()[7:31]+['VALIDOS_CALCULADO','VÁLIDOS','diferencia']]\n",
    "para_analizar"
   ],
   "metadata": {
    "collapsed": false,
    "ExecuteTime": {
     "end_time": "2023-07-03T21:47:15.900755Z",
     "start_time": "2023-07-03T21:47:15.839319Z"
    }
   }
  },
  {
   "cell_type": "code",
   "execution_count": 23,
   "outputs": [
    {
     "data": {
      "text/plain": "      MESA TODOS UNE VALOR UNIONISTA  PR CAMBIO AZUL MLP VICTORIA VAMOS  ...  \\\n2        3    10  18              25   2      3    9   0        3     7  ...   \n25      26    13   8              42   0      2    3   2        3     8  ...   \n28      29    11  16              56   2      2    3   2       10     5  ...   \n67      68    10   8              39   0      4    4   0        7     2  ...   \n84      85    12  15              45   3      5    6   3        2     4  ...   \n...    ...   ...  ..             ...  ..    ...  ...  ..      ...   ...  ...   \n1897  1898     5  13              42   2      0    2   1        1     2  ...   \n1901  1902     0   3              16  53      0    2   6        4     2  ...   \n1903  1904     2  12              49   1      0    0   0        4     4  ...   \n1918  1919     9   4              44   0      1    5   0        5     5  ...   \n1969  1970     2  13              58   0      1    7   0        3     3  ...   \n\n     FOPPA X LA CIUDAD MI FAMILIA CABAL VIVA PODEMOS PODER CREO  \\\n2                   26          0     4    1       2     1   33   \n25                  61          1     4    1      23     0   34   \n28                  39          1     0    5      10     1   37   \n67                  85          0     1    2      18     0   40   \n84                   0          1     0    6      15     0   35   \n...                ...        ...   ...  ...     ...   ...  ...   \n1897                14          1     6    2       6     0   30   \n1901                 0         26     2    2       6     8   33   \n1903                24          0     5    1       2     1   32   \n1918                12          0     2    1       7     0   25   \n1969                15          0     2    5       5     1   28   \n\n     VALIDOS_CALCULADO VÁLIDOS diferencia  \n2                  155     203         48  \n25                 219     222          3  \n28                 209     211          2  \n67                 230     231          1  \n84                 158     153          5  \n...                ...     ...        ...  \n1897               134     131          3  \n1901               169     171          2  \n1903               143     144          1  \n1918               133     134          1  \n1969               149     151          2  \n\n[185 rows x 28 columns]",
      "text/html": "<div>\n<style scoped>\n    .dataframe tbody tr th:only-of-type {\n        vertical-align: middle;\n    }\n\n    .dataframe tbody tr th {\n        vertical-align: top;\n    }\n\n    .dataframe thead th {\n        text-align: right;\n    }\n</style>\n<table border=\"1\" class=\"dataframe\">\n  <thead>\n    <tr style=\"text-align: right;\">\n      <th></th>\n      <th>MESA</th>\n      <th>TODOS</th>\n      <th>UNE</th>\n      <th>VALOR UNIONISTA</th>\n      <th>PR</th>\n      <th>CAMBIO</th>\n      <th>AZUL</th>\n      <th>MLP</th>\n      <th>VICTORIA</th>\n      <th>VAMOS</th>\n      <th>...</th>\n      <th>FOPPA X LA CIUDAD</th>\n      <th>MI FAMILIA</th>\n      <th>CABAL</th>\n      <th>VIVA</th>\n      <th>PODEMOS</th>\n      <th>PODER</th>\n      <th>CREO</th>\n      <th>VALIDOS_CALCULADO</th>\n      <th>VÁLIDOS</th>\n      <th>diferencia</th>\n    </tr>\n  </thead>\n  <tbody>\n    <tr>\n      <th>2</th>\n      <td>3</td>\n      <td>10</td>\n      <td>18</td>\n      <td>25</td>\n      <td>2</td>\n      <td>3</td>\n      <td>9</td>\n      <td>0</td>\n      <td>3</td>\n      <td>7</td>\n      <td>...</td>\n      <td>26</td>\n      <td>0</td>\n      <td>4</td>\n      <td>1</td>\n      <td>2</td>\n      <td>1</td>\n      <td>33</td>\n      <td>155</td>\n      <td>203</td>\n      <td>48</td>\n    </tr>\n    <tr>\n      <th>25</th>\n      <td>26</td>\n      <td>13</td>\n      <td>8</td>\n      <td>42</td>\n      <td>0</td>\n      <td>2</td>\n      <td>3</td>\n      <td>2</td>\n      <td>3</td>\n      <td>8</td>\n      <td>...</td>\n      <td>61</td>\n      <td>1</td>\n      <td>4</td>\n      <td>1</td>\n      <td>23</td>\n      <td>0</td>\n      <td>34</td>\n      <td>219</td>\n      <td>222</td>\n      <td>3</td>\n    </tr>\n    <tr>\n      <th>28</th>\n      <td>29</td>\n      <td>11</td>\n      <td>16</td>\n      <td>56</td>\n      <td>2</td>\n      <td>2</td>\n      <td>3</td>\n      <td>2</td>\n      <td>10</td>\n      <td>5</td>\n      <td>...</td>\n      <td>39</td>\n      <td>1</td>\n      <td>0</td>\n      <td>5</td>\n      <td>10</td>\n      <td>1</td>\n      <td>37</td>\n      <td>209</td>\n      <td>211</td>\n      <td>2</td>\n    </tr>\n    <tr>\n      <th>67</th>\n      <td>68</td>\n      <td>10</td>\n      <td>8</td>\n      <td>39</td>\n      <td>0</td>\n      <td>4</td>\n      <td>4</td>\n      <td>0</td>\n      <td>7</td>\n      <td>2</td>\n      <td>...</td>\n      <td>85</td>\n      <td>0</td>\n      <td>1</td>\n      <td>2</td>\n      <td>18</td>\n      <td>0</td>\n      <td>40</td>\n      <td>230</td>\n      <td>231</td>\n      <td>1</td>\n    </tr>\n    <tr>\n      <th>84</th>\n      <td>85</td>\n      <td>12</td>\n      <td>15</td>\n      <td>45</td>\n      <td>3</td>\n      <td>5</td>\n      <td>6</td>\n      <td>3</td>\n      <td>2</td>\n      <td>4</td>\n      <td>...</td>\n      <td>0</td>\n      <td>1</td>\n      <td>0</td>\n      <td>6</td>\n      <td>15</td>\n      <td>0</td>\n      <td>35</td>\n      <td>158</td>\n      <td>153</td>\n      <td>5</td>\n    </tr>\n    <tr>\n      <th>...</th>\n      <td>...</td>\n      <td>...</td>\n      <td>...</td>\n      <td>...</td>\n      <td>...</td>\n      <td>...</td>\n      <td>...</td>\n      <td>...</td>\n      <td>...</td>\n      <td>...</td>\n      <td>...</td>\n      <td>...</td>\n      <td>...</td>\n      <td>...</td>\n      <td>...</td>\n      <td>...</td>\n      <td>...</td>\n      <td>...</td>\n      <td>...</td>\n      <td>...</td>\n      <td>...</td>\n    </tr>\n    <tr>\n      <th>1897</th>\n      <td>1898</td>\n      <td>5</td>\n      <td>13</td>\n      <td>42</td>\n      <td>2</td>\n      <td>0</td>\n      <td>2</td>\n      <td>1</td>\n      <td>1</td>\n      <td>2</td>\n      <td>...</td>\n      <td>14</td>\n      <td>1</td>\n      <td>6</td>\n      <td>2</td>\n      <td>6</td>\n      <td>0</td>\n      <td>30</td>\n      <td>134</td>\n      <td>131</td>\n      <td>3</td>\n    </tr>\n    <tr>\n      <th>1901</th>\n      <td>1902</td>\n      <td>0</td>\n      <td>3</td>\n      <td>16</td>\n      <td>53</td>\n      <td>0</td>\n      <td>2</td>\n      <td>6</td>\n      <td>4</td>\n      <td>2</td>\n      <td>...</td>\n      <td>0</td>\n      <td>26</td>\n      <td>2</td>\n      <td>2</td>\n      <td>6</td>\n      <td>8</td>\n      <td>33</td>\n      <td>169</td>\n      <td>171</td>\n      <td>2</td>\n    </tr>\n    <tr>\n      <th>1903</th>\n      <td>1904</td>\n      <td>2</td>\n      <td>12</td>\n      <td>49</td>\n      <td>1</td>\n      <td>0</td>\n      <td>0</td>\n      <td>0</td>\n      <td>4</td>\n      <td>4</td>\n      <td>...</td>\n      <td>24</td>\n      <td>0</td>\n      <td>5</td>\n      <td>1</td>\n      <td>2</td>\n      <td>1</td>\n      <td>32</td>\n      <td>143</td>\n      <td>144</td>\n      <td>1</td>\n    </tr>\n    <tr>\n      <th>1918</th>\n      <td>1919</td>\n      <td>9</td>\n      <td>4</td>\n      <td>44</td>\n      <td>0</td>\n      <td>1</td>\n      <td>5</td>\n      <td>0</td>\n      <td>5</td>\n      <td>5</td>\n      <td>...</td>\n      <td>12</td>\n      <td>0</td>\n      <td>2</td>\n      <td>1</td>\n      <td>7</td>\n      <td>0</td>\n      <td>25</td>\n      <td>133</td>\n      <td>134</td>\n      <td>1</td>\n    </tr>\n    <tr>\n      <th>1969</th>\n      <td>1970</td>\n      <td>2</td>\n      <td>13</td>\n      <td>58</td>\n      <td>0</td>\n      <td>1</td>\n      <td>7</td>\n      <td>0</td>\n      <td>3</td>\n      <td>3</td>\n      <td>...</td>\n      <td>15</td>\n      <td>0</td>\n      <td>2</td>\n      <td>5</td>\n      <td>5</td>\n      <td>1</td>\n      <td>28</td>\n      <td>149</td>\n      <td>151</td>\n      <td>2</td>\n    </tr>\n  </tbody>\n</table>\n<p>185 rows × 28 columns</p>\n</div>"
     },
     "execution_count": 23,
     "metadata": {},
     "output_type": "execute_result"
    }
   ],
   "source": [
    "para_analizar[para_analizar['diferencia']>0]"
   ],
   "metadata": {
    "collapsed": false,
    "ExecuteTime": {
     "end_time": "2023-07-03T21:47:15.900998Z",
     "start_time": "2023-07-03T21:47:15.849342Z"
    }
   }
  },
  {
   "cell_type": "code",
   "execution_count": null,
   "outputs": [],
   "source": [],
   "metadata": {
    "collapsed": false
   }
  }
 ],
 "metadata": {
  "kernelspec": {
   "display_name": "Python 3",
   "language": "python",
   "name": "python3"
  },
  "language_info": {
   "codemirror_mode": {
    "name": "ipython",
    "version": 2
   },
   "file_extension": ".py",
   "mimetype": "text/x-python",
   "name": "python",
   "nbconvert_exporter": "python",
   "pygments_lexer": "ipython2",
   "version": "2.7.6"
  }
 },
 "nbformat": 4,
 "nbformat_minor": 0
}
