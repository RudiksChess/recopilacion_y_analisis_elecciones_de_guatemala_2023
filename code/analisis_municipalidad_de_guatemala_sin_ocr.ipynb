{
 "cells": [
  {
   "cell_type": "code",
   "execution_count": 2,
   "metadata": {
    "collapsed": true,
    "ExecuteTime": {
     "end_time": "2023-07-04T05:46:20.876614Z",
     "start_time": "2023-07-04T05:46:20.430431Z"
    }
   },
   "outputs": [],
   "source": [
    "import pandas as pd"
   ]
  },
  {
   "cell_type": "code",
   "execution_count": 3,
   "outputs": [
    {
     "data": {
      "text/plain": "      MESA      DEPARTAMENTO  ID_DEPARTAMENTO  MUNICIPIO  ID_MUNICIPIO  \\\n0        1  Distrito Central                0  Guatemala             1   \n1        2  Distrito Central                0  Guatemala             1   \n2        3  Distrito Central                0  Guatemala             1   \n3        4  Distrito Central                0  Guatemala             1   \n4        5  Distrito Central                0  Guatemala             1   \n...    ...               ...              ...        ...           ...   \n2018  2019  Distrito Central                0  Guatemala             1   \n2019  2020  Distrito Central                0  Guatemala             1   \n2020  2021  Distrito Central                0  Guatemala             1   \n2021  2022  Distrito Central                0  Guatemala             1   \n2022  2023  Distrito Central                0  Guatemala             1   \n\n      CENTRO_DE_VOTACIÓN  PADRÓN TODOS UNE VALOR UNIONISTA  ...  \\\n0                      1     400     9  21              86  ...   \n1                      1     400    14  16              72  ...   \n2                      1     277    10  18              25  ...   \n3                      1     277     9   8              52  ...   \n4                      2     400     7  19              55  ...   \n...                  ...     ...   ...  ..             ...  ...   \n2018                 152     600     0   2               3  ...   \n2019                 152     600     0   1               2  ...   \n2020                 152     600     0   1               3  ...   \n2021                 152     460     1   0               6  ...   \n2022                 152     460    --   2               5  ...   \n\n     PAPELETAS-RECIBIDAS PAPELETAS-NO-USADAS VALIDOS_CALCULADO  \\\n0                      0                   0             254.0   \n1                    400                 128             255.0   \n2                    277                  62             155.0   \n3                    277                  93             171.0   \n4                    400                 162             223.0   \n...                  ...                 ...               ...   \n2018                 596                 580              15.0   \n2019                 597                 587               9.0   \n2020                 600                 588              11.0   \n2021                 460                 441              19.0   \n2022                 460                 444              13.0   \n\n     EMITIDOS_CALCULADO TOTAL_CALCULADO                OBSERVACIONES  \\\n0                 254.0           254.0         Algún campo sin dato   \n1                 272.0           272.0         Algún campo sin dato   \n2                 167.0           167.0  Sumas Asentadas sin cuadrar   \n3                 184.0           184.0         Algún campo sin dato   \n4                 238.0           238.0         Algún campo sin dato   \n...                 ...             ...                          ...   \n2018               16.0            16.0                          NaN   \n2019               10.0            10.0  Sumas Asentadas sin cuadrar   \n2020               12.0            12.0         Algún campo sin dato   \n2021               19.0            19.0         Algún campo sin dato   \n2022               16.0            16.0         Algún campo sin dato   \n\n     CONTABILIZADA                                  CÓDIGO_INTEGRIDAD  \\\n0                1  e798d13702b9a3b5b3672b7de0598a5c4baa55bb18c853...   \n1                1  8eaff44acb0ac8850475199341a6baeeda9c048a05dc10...   \n2                1  1bae08360c7223157da09ecd050b4f176f190a07106042...   \n3                1  cbac8f21a3ecf69b35b2d0b88829658e4652155de1425f...   \n4                1  9d749654c17aabedcb2e2b60cd8f9ebd29b3498b42d16a...   \n...            ...                                                ...   \n2018             1  2c1d9aa80de3abfff1d7d2c0656139d4d6d69893db2c7c...   \n2019             1  35ebc8a4610058ad4c8e394151eac56ff5918463547d2d...   \n2020             1  e9830b1c5d5af61416f588c97a68147954a92277dd4655...   \n2021             1  e2425b3a0fe4bb9021b9b15194eb597300232eb08a200f...   \n2022             1  f74b5cd9837fcedc5fdef808bdcfb51032a116fa7f923c...   \n\n     FECHA_HORA_PUBLICACIÓN DIGITALIZACIÓN  \n0       26/06/2023 02:19:04        ESCANER  \n1       25/06/2023 23:09:37        ESCANER  \n2       26/06/2023 01:02:30        ESCANER  \n3       25/06/2023 22:33:23        ESCANER  \n4       26/06/2023 00:01:59        ESCANER  \n...                     ...            ...  \n2018    26/06/2023 01:40:00        ESCANER  \n2019    25/06/2023 23:53:12        ESCANER  \n2020    25/06/2023 22:38:08        ESCANER  \n2021    25/06/2023 21:10:16        ESCANER  \n2022    25/06/2023 22:19:39        ESCANER  \n\n[2023 rows x 48 columns]",
      "text/html": "<div>\n<style scoped>\n    .dataframe tbody tr th:only-of-type {\n        vertical-align: middle;\n    }\n\n    .dataframe tbody tr th {\n        vertical-align: top;\n    }\n\n    .dataframe thead th {\n        text-align: right;\n    }\n</style>\n<table border=\"1\" class=\"dataframe\">\n  <thead>\n    <tr style=\"text-align: right;\">\n      <th></th>\n      <th>MESA</th>\n      <th>DEPARTAMENTO</th>\n      <th>ID_DEPARTAMENTO</th>\n      <th>MUNICIPIO</th>\n      <th>ID_MUNICIPIO</th>\n      <th>CENTRO_DE_VOTACIÓN</th>\n      <th>PADRÓN</th>\n      <th>TODOS</th>\n      <th>UNE</th>\n      <th>VALOR UNIONISTA</th>\n      <th>...</th>\n      <th>PAPELETAS-RECIBIDAS</th>\n      <th>PAPELETAS-NO-USADAS</th>\n      <th>VALIDOS_CALCULADO</th>\n      <th>EMITIDOS_CALCULADO</th>\n      <th>TOTAL_CALCULADO</th>\n      <th>OBSERVACIONES</th>\n      <th>CONTABILIZADA</th>\n      <th>CÓDIGO_INTEGRIDAD</th>\n      <th>FECHA_HORA_PUBLICACIÓN</th>\n      <th>DIGITALIZACIÓN</th>\n    </tr>\n  </thead>\n  <tbody>\n    <tr>\n      <th>0</th>\n      <td>1</td>\n      <td>Distrito Central</td>\n      <td>0</td>\n      <td>Guatemala</td>\n      <td>1</td>\n      <td>1</td>\n      <td>400</td>\n      <td>9</td>\n      <td>21</td>\n      <td>86</td>\n      <td>...</td>\n      <td>0</td>\n      <td>0</td>\n      <td>254.0</td>\n      <td>254.0</td>\n      <td>254.0</td>\n      <td>Algún campo sin dato</td>\n      <td>1</td>\n      <td>e798d13702b9a3b5b3672b7de0598a5c4baa55bb18c853...</td>\n      <td>26/06/2023 02:19:04</td>\n      <td>ESCANER</td>\n    </tr>\n    <tr>\n      <th>1</th>\n      <td>2</td>\n      <td>Distrito Central</td>\n      <td>0</td>\n      <td>Guatemala</td>\n      <td>1</td>\n      <td>1</td>\n      <td>400</td>\n      <td>14</td>\n      <td>16</td>\n      <td>72</td>\n      <td>...</td>\n      <td>400</td>\n      <td>128</td>\n      <td>255.0</td>\n      <td>272.0</td>\n      <td>272.0</td>\n      <td>Algún campo sin dato</td>\n      <td>1</td>\n      <td>8eaff44acb0ac8850475199341a6baeeda9c048a05dc10...</td>\n      <td>25/06/2023 23:09:37</td>\n      <td>ESCANER</td>\n    </tr>\n    <tr>\n      <th>2</th>\n      <td>3</td>\n      <td>Distrito Central</td>\n      <td>0</td>\n      <td>Guatemala</td>\n      <td>1</td>\n      <td>1</td>\n      <td>277</td>\n      <td>10</td>\n      <td>18</td>\n      <td>25</td>\n      <td>...</td>\n      <td>277</td>\n      <td>62</td>\n      <td>155.0</td>\n      <td>167.0</td>\n      <td>167.0</td>\n      <td>Sumas Asentadas sin cuadrar</td>\n      <td>1</td>\n      <td>1bae08360c7223157da09ecd050b4f176f190a07106042...</td>\n      <td>26/06/2023 01:02:30</td>\n      <td>ESCANER</td>\n    </tr>\n    <tr>\n      <th>3</th>\n      <td>4</td>\n      <td>Distrito Central</td>\n      <td>0</td>\n      <td>Guatemala</td>\n      <td>1</td>\n      <td>1</td>\n      <td>277</td>\n      <td>9</td>\n      <td>8</td>\n      <td>52</td>\n      <td>...</td>\n      <td>277</td>\n      <td>93</td>\n      <td>171.0</td>\n      <td>184.0</td>\n      <td>184.0</td>\n      <td>Algún campo sin dato</td>\n      <td>1</td>\n      <td>cbac8f21a3ecf69b35b2d0b88829658e4652155de1425f...</td>\n      <td>25/06/2023 22:33:23</td>\n      <td>ESCANER</td>\n    </tr>\n    <tr>\n      <th>4</th>\n      <td>5</td>\n      <td>Distrito Central</td>\n      <td>0</td>\n      <td>Guatemala</td>\n      <td>1</td>\n      <td>2</td>\n      <td>400</td>\n      <td>7</td>\n      <td>19</td>\n      <td>55</td>\n      <td>...</td>\n      <td>400</td>\n      <td>162</td>\n      <td>223.0</td>\n      <td>238.0</td>\n      <td>238.0</td>\n      <td>Algún campo sin dato</td>\n      <td>1</td>\n      <td>9d749654c17aabedcb2e2b60cd8f9ebd29b3498b42d16a...</td>\n      <td>26/06/2023 00:01:59</td>\n      <td>ESCANER</td>\n    </tr>\n    <tr>\n      <th>...</th>\n      <td>...</td>\n      <td>...</td>\n      <td>...</td>\n      <td>...</td>\n      <td>...</td>\n      <td>...</td>\n      <td>...</td>\n      <td>...</td>\n      <td>...</td>\n      <td>...</td>\n      <td>...</td>\n      <td>...</td>\n      <td>...</td>\n      <td>...</td>\n      <td>...</td>\n      <td>...</td>\n      <td>...</td>\n      <td>...</td>\n      <td>...</td>\n      <td>...</td>\n      <td>...</td>\n    </tr>\n    <tr>\n      <th>2018</th>\n      <td>2019</td>\n      <td>Distrito Central</td>\n      <td>0</td>\n      <td>Guatemala</td>\n      <td>1</td>\n      <td>152</td>\n      <td>600</td>\n      <td>0</td>\n      <td>2</td>\n      <td>3</td>\n      <td>...</td>\n      <td>596</td>\n      <td>580</td>\n      <td>15.0</td>\n      <td>16.0</td>\n      <td>16.0</td>\n      <td>NaN</td>\n      <td>1</td>\n      <td>2c1d9aa80de3abfff1d7d2c0656139d4d6d69893db2c7c...</td>\n      <td>26/06/2023 01:40:00</td>\n      <td>ESCANER</td>\n    </tr>\n    <tr>\n      <th>2019</th>\n      <td>2020</td>\n      <td>Distrito Central</td>\n      <td>0</td>\n      <td>Guatemala</td>\n      <td>1</td>\n      <td>152</td>\n      <td>600</td>\n      <td>0</td>\n      <td>1</td>\n      <td>2</td>\n      <td>...</td>\n      <td>597</td>\n      <td>587</td>\n      <td>9.0</td>\n      <td>10.0</td>\n      <td>10.0</td>\n      <td>Sumas Asentadas sin cuadrar</td>\n      <td>1</td>\n      <td>35ebc8a4610058ad4c8e394151eac56ff5918463547d2d...</td>\n      <td>25/06/2023 23:53:12</td>\n      <td>ESCANER</td>\n    </tr>\n    <tr>\n      <th>2020</th>\n      <td>2021</td>\n      <td>Distrito Central</td>\n      <td>0</td>\n      <td>Guatemala</td>\n      <td>1</td>\n      <td>152</td>\n      <td>600</td>\n      <td>0</td>\n      <td>1</td>\n      <td>3</td>\n      <td>...</td>\n      <td>600</td>\n      <td>588</td>\n      <td>11.0</td>\n      <td>12.0</td>\n      <td>12.0</td>\n      <td>Algún campo sin dato</td>\n      <td>1</td>\n      <td>e9830b1c5d5af61416f588c97a68147954a92277dd4655...</td>\n      <td>25/06/2023 22:38:08</td>\n      <td>ESCANER</td>\n    </tr>\n    <tr>\n      <th>2021</th>\n      <td>2022</td>\n      <td>Distrito Central</td>\n      <td>0</td>\n      <td>Guatemala</td>\n      <td>1</td>\n      <td>152</td>\n      <td>460</td>\n      <td>1</td>\n      <td>0</td>\n      <td>6</td>\n      <td>...</td>\n      <td>460</td>\n      <td>441</td>\n      <td>19.0</td>\n      <td>19.0</td>\n      <td>19.0</td>\n      <td>Algún campo sin dato</td>\n      <td>1</td>\n      <td>e2425b3a0fe4bb9021b9b15194eb597300232eb08a200f...</td>\n      <td>25/06/2023 21:10:16</td>\n      <td>ESCANER</td>\n    </tr>\n    <tr>\n      <th>2022</th>\n      <td>2023</td>\n      <td>Distrito Central</td>\n      <td>0</td>\n      <td>Guatemala</td>\n      <td>1</td>\n      <td>152</td>\n      <td>460</td>\n      <td>--</td>\n      <td>2</td>\n      <td>5</td>\n      <td>...</td>\n      <td>460</td>\n      <td>444</td>\n      <td>13.0</td>\n      <td>16.0</td>\n      <td>16.0</td>\n      <td>Algún campo sin dato</td>\n      <td>1</td>\n      <td>f74b5cd9837fcedc5fdef808bdcfb51032a116fa7f923c...</td>\n      <td>25/06/2023 22:19:39</td>\n      <td>ESCANER</td>\n    </tr>\n  </tbody>\n</table>\n<p>2023 rows × 48 columns</p>\n</div>"
     },
     "execution_count": 3,
     "metadata": {},
     "output_type": "execute_result"
    }
   ],
   "source": [
    "df_complete_trep = pd.read_csv(\"/Users/rudikrompich/Git/recopilacion_y_analisis_elecciones_de_guatemala_2023/data_sistema_trep/4-CORPORACIÓN/gtm2023_e4d00m01.csv\", sep=\",\",skiprows=4)\n",
    "df_complete_trep[[\"NULOS\",\"BLANCO\",\"INVÁLIDOS\",\"IMPUGNACIONES\",\"PAPELETAS-RECIBIDAS\",\"PAPELETAS-NO-USADAS\"]]= df_complete_trep[[\"NULOS\",\"BLANCO\",\"INVÁLIDOS\",\"IMPUGNACIONES\",\"PAPELETAS-RECIBIDAS\",\"PAPELETAS-NO-USADAS\"]].replace(\"--\",0)\n",
    "\n",
    "df_complete_trep"
   ],
   "metadata": {
    "collapsed": false,
    "ExecuteTime": {
     "end_time": "2023-07-04T05:46:20.912978Z",
     "start_time": "2023-07-04T05:46:20.878096Z"
    }
   }
  },
  {
   "cell_type": "code",
   "execution_count": 4,
   "outputs": [],
   "source": [
    "df_edition = df_complete_trep.copy()\n"
   ],
   "metadata": {
    "collapsed": false,
    "ExecuteTime": {
     "end_time": "2023-07-04T05:46:21.674013Z",
     "start_time": "2023-07-04T05:46:21.669962Z"
    }
   }
  },
  {
   "cell_type": "markdown",
   "source": [
    "# Analisis exploratorio de datos"
   ],
   "metadata": {
    "collapsed": false
   }
  },
  {
   "cell_type": "markdown",
   "source": [
    "## Analisis de columnas válidas raras\n",
    "Para este proceso me he puesto a verificar la columna de \"VÁLIDOS\" y he encontrado que hay 2 tipos de datos que son raros: \"--\" y \"0\". Por lo que he decidido hacer un analisis de estos datos para ver si son validos o no."
   ],
   "metadata": {
    "collapsed": false
   }
  },
  {
   "cell_type": "code",
   "execution_count": 5,
   "outputs": [
    {
     "data": {
      "text/plain": "[1, 242, 368, 599, 604, 1294, 1319, 1432, 1567, 1649, 1675, 1688, 1834]"
     },
     "execution_count": 5,
     "metadata": {},
     "output_type": "execute_result"
    }
   ],
   "source": [
    "df_1_guiones_o_cero_en_papeleta = df_complete_trep.loc[(df_complete_trep[\"VÁLIDOS\"]=='--')|(df_complete_trep[\"VÁLIDOS\"]=='0'),df_complete_trep.columns[:]]\n",
    "\n",
    "df_1_guiones_o_cero_en_papeleta_indexes_for_searching = df_1_guiones_o_cero_en_papeleta.index.to_list()\n",
    "df_1_guiones_o_cero_en_papeleta[\"MESA\"].to_list()"
   ],
   "metadata": {
    "collapsed": false,
    "ExecuteTime": {
     "end_time": "2023-07-04T05:46:22.036627Z",
     "start_time": "2023-07-04T05:46:22.028582Z"
    }
   }
  },
  {
   "cell_type": "markdown",
   "source": [
    "Posteriormente se divide en todos tablas basado en la columna 'VALIDOS_CALCULADO', el sistema no siempre hace el cálculo, entonces se hace esta clasificación:"
   ],
   "metadata": {
    "collapsed": false
   }
  },
  {
   "cell_type": "code",
   "execution_count": 6,
   "outputs": [
    {
     "data": {
      "text/plain": "[1, 1294, 1432, 1567, 1675]"
     },
     "execution_count": 6,
     "metadata": {},
     "output_type": "execute_result"
    }
   ],
   "source": [
    "df_1_validos_calculado = df_1_guiones_o_cero_en_papeleta[df_1_guiones_o_cero_en_papeleta[\"VALIDOS_CALCULADO\"].notna()]\n",
    "df_1_validos_calculado[\"MESA\"].to_list()"
   ],
   "metadata": {
    "collapsed": false,
    "ExecuteTime": {
     "end_time": "2023-07-04T05:46:22.353686Z",
     "start_time": "2023-07-04T05:46:22.346430Z"
    }
   }
  },
  {
   "cell_type": "code",
   "execution_count": 7,
   "outputs": [
    {
     "data": {
      "text/plain": "[242, 368, 599, 604, 1319, 1649, 1688, 1834]"
     },
     "execution_count": 7,
     "metadata": {},
     "output_type": "execute_result"
    }
   ],
   "source": [
    "df_1_validos_no_calculado = df_1_guiones_o_cero_en_papeleta[df_1_guiones_o_cero_en_papeleta[\"VALIDOS_CALCULADO\"].isna()]\n",
    "df_1_validos_no_calculado[\"MESA\"].to_list()"
   ],
   "metadata": {
    "collapsed": false,
    "ExecuteTime": {
     "end_time": "2023-07-04T05:46:22.420880Z",
     "start_time": "2023-07-04T05:46:22.417481Z"
    }
   }
  },
  {
   "cell_type": "markdown",
   "source": [
    "### Con esto, procedemos a hacer las correcciones manuales"
   ],
   "metadata": {
    "collapsed": false
   }
  },
  {
   "cell_type": "code",
   "execution_count": 8,
   "outputs": [],
   "source": [
    "def row_con_validos_calculados(mesa):\n",
    "    df_raw = df_edition.loc[df_edition[\"MESA\"]==mesa,df_edition.columns[7:32]].transpose()\n",
    "    valores_asociados = df_edition.loc[df_edition[\"MESA\"]==mesa,df_edition.columns[7:32]].values.tolist()\n",
    "    return df_raw,valores_asociados"
   ],
   "metadata": {
    "collapsed": false,
    "ExecuteTime": {
     "end_time": "2023-07-04T05:46:22.676052Z",
     "start_time": "2023-07-04T05:46:22.670313Z"
    }
   }
  },
  {
   "cell_type": "code",
   "execution_count": 9,
   "outputs": [],
   "source": [
    "mesa =1675\n",
    "partidos_analizados, valores_en_lista = row_con_validos_calculados(mesa)"
   ],
   "metadata": {
    "collapsed": false,
    "ExecuteTime": {
     "end_time": "2023-07-04T05:46:22.817075Z",
     "start_time": "2023-07-04T05:46:22.810451Z"
    }
   }
  },
  {
   "cell_type": "code",
   "execution_count": 10,
   "outputs": [
    {
     "data": {
      "text/plain": "                              1674\nTODOS                            5\nUNE                              4\nVALOR UNIONISTA                 45\nPR                               0\nCAMBIO                           7\nAZUL                            11\nMLP                              2\nVICTORIA                         4\nVAMOS                            3\nPHG                              1\nBIEN                             1\nUR                               0\nP A N                            0\nPIN                              0\nFCN-NACION                       0\nCOMITE CIVICO LA GOTA DE AGUA    0\nPPN                              1\nFOPPA X LA CIUDAD               78\nMI FAMILIA                       1\nCABAL                            0\nVIVA                             2\nPODEMOS                          7\nPODER                            0\nCREO                            60\nVÁLIDOS                          0",
      "text/html": "<div>\n<style scoped>\n    .dataframe tbody tr th:only-of-type {\n        vertical-align: middle;\n    }\n\n    .dataframe tbody tr th {\n        vertical-align: top;\n    }\n\n    .dataframe thead th {\n        text-align: right;\n    }\n</style>\n<table border=\"1\" class=\"dataframe\">\n  <thead>\n    <tr style=\"text-align: right;\">\n      <th></th>\n      <th>1674</th>\n    </tr>\n  </thead>\n  <tbody>\n    <tr>\n      <th>TODOS</th>\n      <td>5</td>\n    </tr>\n    <tr>\n      <th>UNE</th>\n      <td>4</td>\n    </tr>\n    <tr>\n      <th>VALOR UNIONISTA</th>\n      <td>45</td>\n    </tr>\n    <tr>\n      <th>PR</th>\n      <td>0</td>\n    </tr>\n    <tr>\n      <th>CAMBIO</th>\n      <td>7</td>\n    </tr>\n    <tr>\n      <th>AZUL</th>\n      <td>11</td>\n    </tr>\n    <tr>\n      <th>MLP</th>\n      <td>2</td>\n    </tr>\n    <tr>\n      <th>VICTORIA</th>\n      <td>4</td>\n    </tr>\n    <tr>\n      <th>VAMOS</th>\n      <td>3</td>\n    </tr>\n    <tr>\n      <th>PHG</th>\n      <td>1</td>\n    </tr>\n    <tr>\n      <th>BIEN</th>\n      <td>1</td>\n    </tr>\n    <tr>\n      <th>UR</th>\n      <td>0</td>\n    </tr>\n    <tr>\n      <th>P A N</th>\n      <td>0</td>\n    </tr>\n    <tr>\n      <th>PIN</th>\n      <td>0</td>\n    </tr>\n    <tr>\n      <th>FCN-NACION</th>\n      <td>0</td>\n    </tr>\n    <tr>\n      <th>COMITE CIVICO LA GOTA DE AGUA</th>\n      <td>0</td>\n    </tr>\n    <tr>\n      <th>PPN</th>\n      <td>1</td>\n    </tr>\n    <tr>\n      <th>FOPPA X LA CIUDAD</th>\n      <td>78</td>\n    </tr>\n    <tr>\n      <th>MI FAMILIA</th>\n      <td>1</td>\n    </tr>\n    <tr>\n      <th>CABAL</th>\n      <td>0</td>\n    </tr>\n    <tr>\n      <th>VIVA</th>\n      <td>2</td>\n    </tr>\n    <tr>\n      <th>PODEMOS</th>\n      <td>7</td>\n    </tr>\n    <tr>\n      <th>PODER</th>\n      <td>0</td>\n    </tr>\n    <tr>\n      <th>CREO</th>\n      <td>60</td>\n    </tr>\n    <tr>\n      <th>VÁLIDOS</th>\n      <td>0</td>\n    </tr>\n  </tbody>\n</table>\n</div>"
     },
     "execution_count": 10,
     "metadata": {},
     "output_type": "execute_result"
    }
   ],
   "source": [
    "partidos_analizados"
   ],
   "metadata": {
    "collapsed": false,
    "ExecuteTime": {
     "end_time": "2023-07-04T05:46:22.937903Z",
     "start_time": "2023-07-04T05:46:22.931761Z"
    }
   }
  },
  {
   "cell_type": "code",
   "execution_count": 11,
   "outputs": [
    {
     "name": "stdout",
     "output_type": "stream",
     "text": [
      "[['5', '4', '45', '0', '7', '11', '2', '4', '3', '1', '1', '0', '0', '0', '0', '0', '1', '78', '1', '0', '2', '7', '0', '60', '0']]\n"
     ]
    }
   ],
   "source": [
    "print(valores_en_lista)"
   ],
   "metadata": {
    "collapsed": false,
    "ExecuteTime": {
     "end_time": "2023-07-04T05:46:23.050508Z",
     "start_time": "2023-07-04T05:46:23.044254Z"
    }
   }
  },
  {
   "cell_type": "code",
   "execution_count": 12,
   "outputs": [],
   "source": [
    "# Ediciones manuales\n",
    "\n",
    "## Los que estan calculados, pero no se les coloco suma en la columna de validos\n",
    "\n",
    "# 1 - No hay problema\n",
    "df_edition.loc[df_edition[\"MESA\"]==1,df_edition.columns[7:32]] =  [['9', '21', '86', '1', '3', '8', '2', '4', '3', '0', '5', '0', '1', '0', '0', '3', '5', '45', '1', '5', '1', '13', '0', '38', 254]]\n",
    "\n",
    "\n",
    "# 1294 - Dos partidos sin datos\n",
    "df_edition.loc[df_edition[\"MESA\"]==1294,df_edition.columns[7:32]] =  [['8', '15', '45', '2', '3', '3', '4', '5', '6', '1', '4', '1', '0', '1', '2', '2', '3', '36', '0', '2', '2', '10', '11', '55',230]]\n",
    "\n",
    "# 1432 - No hay problema\n",
    "df_edition.loc[df_edition[\"MESA\"]==1432,df_edition.columns[7:32]] = [['5', '20', '46', '1', '1', '8', '0', '3', '7', '0', '2', '3', '0', '1', '1', '0', '4', '39', '1', '0', '4', '5', '0', '75', 226]]\n",
    "\n",
    "# 1567 - No hay problema\n",
    "df_edition.loc[df_edition[\"MESA\"]==1567,df_edition.columns[7:32]] =  [['9', '21', '86', '1', '3', '8', '2', '4', '3', '0', '5', '0', '1', '0', '0', '3', '5', '45', '1', '5', '1', '13', '0', '38', 194]]\n",
    "\n",
    "# 1675 - No hay problema\n",
    "df_edition.loc[df_edition[\"MESA\"]==1675,df_edition.columns[7:32]] = [['5', '4', '45', '0', '7', '11', '2', '4', '3', '1', '1', '0', '0', '0', '0', '0', '1', '78', '1', '0', '2', '7', '0', '60', 232]]\n",
    "\n",
    "## Los que no estan calculados y tiene muchos guiones en sus partidos\n",
    "\n",
    "# 242 - Dice acta ilegible, pero tiene varios testados y se logra entender\n",
    "df_edition.loc[df_edition[\"MESA\"]==242,df_edition.columns[7:32]] = [['10', '15', '49', '1', '3', '4', '2', '6', '3', '0', '3', '4', '1', '0', '0', '1', '0', '2', '0', '2', '4', '7', '0', '45',202]]\n",
    "\n",
    "# 368 - Se confundieron de papeleta, usaron la de diputados distritales, la correcta esta en este link: https://www.trep.gt/#!/tc2/CAS/e0/m1/30?casId=M368; el COMITE CIVICO LA GOTA DE AGUA no apaerece en la papelete entonces 0;  fopa x la ciudad como semilla;\n",
    "\n",
    "df_edition.loc[df_edition[\"MESA\"]==368,df_edition.columns[7:32]] = [['10', '17', '69', '2', '2', '8', '2', '5', '6', '0', '5', '1', '2', '0', '2', '0', '5', '39', '0', '6', '4', '8', '1', '50',244]]\n",
    "\n",
    "# 599 - Aparece como acta ilegible - Pero simplemente el testado no era para los datos de los partidios sino las sumatorias, los datos están correctos\n",
    "df_edition.loc[df_edition[\"MESA\"]==599,df_edition.columns[7:32]] = [['5', '12', '45', '3', '4', '4', '0', '8', '6', '1', '6', '1', '1', '0', '0', '1', '6', '36', '1', '0', '6', '0', '0', '66',220]]\n",
    "\n",
    "# 604 - Se confundieron de papeleta - el link de la papeleta está aquí: https://www.trep.gt/#!/tc2/CAS/e0/m1/47?casId=M604; el COMITE CIVICO LA GOTA DE AGUA no apaerece en la papelete entonces 0;  fopa x la ciudad como semilla (Aunque aparece como 0, hay algo raro); no está el partido PODER;\n",
    "df_edition.loc[df_edition[\"MESA\"]==604,df_edition.columns[7:32]] = [['6', '13', '42', '3', '6', '4', '0', '7', '1', '0', '4', '1', '1', '2', '2', '0', '3', '0', '0', '5', '5', '7', '0', '59',200]]\n",
    "\n",
    "# 1319 - No se ve muy bien, pero a lo lejos se entendible\n",
    "df_edition.loc[df_edition[\"MESA\"]==1319,df_edition.columns[7:32]] = [['10', '31', '39', '0', '2', '3', '2', '7', '4', '2', '3', '1', '3', '2', '0', '1', '2', '6', '0', '2', '0', '9', '1', '53',185]]\n",
    "\n",
    "# 1649 - Dice acta ilegible, pero se logra ver más o menos bien\n",
    "df_edition.loc[df_edition[\"MESA\"]==1649,df_edition.columns[7:32]] = [['7', '10', '66', '1', '3', '13', '3', '4', '2', '0', '3', '0', '1', '1', '0', '0', '1', '44', '2', '5', '3', '6', '1','69',233]]\n",
    "\n",
    "# 1688 - Aparece como acta ilegible, yo lo veo bien\n",
    "df_edition.loc[df_edition[\"MESA\"]==1688,df_edition.columns[7:32]] = [['6', '26', '37', '0', '7', '7', '2', '6', '5', '0', '2', '1', '0', '0', '1', '0', '1', '34', '1', '5', '3', '7', '2','65',198]]\n",
    "\n",
    "# 1834 -\n",
    "df_edition.loc[df_edition[\"MESA\"]==1834,df_edition.columns[7:32]] = [['2', '4', '12', '2', '2', '2', '0', '2', '1', '1', '0', '0', '0', '0', '0', '0', '1', '26', '0', '0', '0', '6', '0', '20',83]]\n",
    "\n"
   ],
   "metadata": {
    "collapsed": false,
    "ExecuteTime": {
     "end_time": "2023-07-04T05:46:23.216029Z",
     "start_time": "2023-07-04T05:46:23.215232Z"
    }
   }
  },
  {
   "cell_type": "code",
   "execution_count": 13,
   "outputs": [
    {
     "data": {
      "text/plain": "Empty DataFrame\nColumns: [MESA, DEPARTAMENTO, ID_DEPARTAMENTO, MUNICIPIO, ID_MUNICIPIO, CENTRO_DE_VOTACIÓN, PADRÓN, TODOS, UNE, VALOR UNIONISTA, PR, CAMBIO, AZUL, MLP, VICTORIA, VAMOS, PHG, BIEN, UR, P A N, PIN, FCN-NACION, COMITE CIVICO LA GOTA DE AGUA, PPN, FOPPA X LA CIUDAD, MI FAMILIA, CABAL, VIVA, PODEMOS, PODER, CREO, VÁLIDOS, NULOS, BLANCO, EMITIDOS, INVÁLIDOS, TOTAL, IMPUGNACIONES, PAPELETAS-RECIBIDAS, PAPELETAS-NO-USADAS, VALIDOS_CALCULADO, EMITIDOS_CALCULADO, TOTAL_CALCULADO, OBSERVACIONES, CONTABILIZADA, CÓDIGO_INTEGRIDAD, FECHA_HORA_PUBLICACIÓN, DIGITALIZACIÓN]\nIndex: []\n\n[0 rows x 48 columns]",
      "text/html": "<div>\n<style scoped>\n    .dataframe tbody tr th:only-of-type {\n        vertical-align: middle;\n    }\n\n    .dataframe tbody tr th {\n        vertical-align: top;\n    }\n\n    .dataframe thead th {\n        text-align: right;\n    }\n</style>\n<table border=\"1\" class=\"dataframe\">\n  <thead>\n    <tr style=\"text-align: right;\">\n      <th></th>\n      <th>MESA</th>\n      <th>DEPARTAMENTO</th>\n      <th>ID_DEPARTAMENTO</th>\n      <th>MUNICIPIO</th>\n      <th>ID_MUNICIPIO</th>\n      <th>CENTRO_DE_VOTACIÓN</th>\n      <th>PADRÓN</th>\n      <th>TODOS</th>\n      <th>UNE</th>\n      <th>VALOR UNIONISTA</th>\n      <th>...</th>\n      <th>PAPELETAS-RECIBIDAS</th>\n      <th>PAPELETAS-NO-USADAS</th>\n      <th>VALIDOS_CALCULADO</th>\n      <th>EMITIDOS_CALCULADO</th>\n      <th>TOTAL_CALCULADO</th>\n      <th>OBSERVACIONES</th>\n      <th>CONTABILIZADA</th>\n      <th>CÓDIGO_INTEGRIDAD</th>\n      <th>FECHA_HORA_PUBLICACIÓN</th>\n      <th>DIGITALIZACIÓN</th>\n    </tr>\n  </thead>\n  <tbody>\n  </tbody>\n</table>\n<p>0 rows × 48 columns</p>\n</div>"
     },
     "execution_count": 13,
     "metadata": {},
     "output_type": "execute_result"
    }
   ],
   "source": [
    "df_edition[df_edition[\"VÁLIDOS\"]==\"--\"]"
   ],
   "metadata": {
    "collapsed": false,
    "ExecuteTime": {
     "end_time": "2023-07-04T05:46:23.299405Z",
     "start_time": "2023-07-04T05:46:23.296132Z"
    }
   }
  },
  {
   "cell_type": "code",
   "execution_count": 14,
   "outputs": [
    {
     "data": {
      "text/plain": "106616"
     },
     "execution_count": 14,
     "metadata": {},
     "output_type": "execute_result"
    }
   ],
   "source": [
    "df_edition[\"VALOR UNIONISTA\"].replace('--',0).astype(int).sum()"
   ],
   "metadata": {
    "collapsed": false,
    "ExecuteTime": {
     "end_time": "2023-07-04T05:46:23.440518Z",
     "start_time": "2023-07-04T05:46:23.435143Z"
    }
   }
  },
  {
   "cell_type": "code",
   "execution_count": 15,
   "outputs": [
    {
     "data": {
      "text/plain": "106097"
     },
     "execution_count": 15,
     "metadata": {},
     "output_type": "execute_result"
    }
   ],
   "source": [
    "df_edition[\"CREO\"].replace('--',0).astype(int).sum()\n"
   ],
   "metadata": {
    "collapsed": false,
    "ExecuteTime": {
     "end_time": "2023-07-04T05:46:23.550840Z",
     "start_time": "2023-07-04T05:46:23.547238Z"
    }
   }
  },
  {
   "cell_type": "markdown",
   "source": [
    "## Sumatorias que no coinciden\n"
   ],
   "metadata": {
    "collapsed": false
   }
  },
  {
   "cell_type": "markdown",
   "source": [
    "El objetivo es volver a calcular la variable 'VALIDOS_CALCULADO', sin embargo hay que verificar que no haya datos con '--'"
   ],
   "metadata": {
    "collapsed": false
   }
  },
  {
   "cell_type": "code",
   "execution_count": 16,
   "outputs": [
    {
     "name": "stdout",
     "output_type": "stream",
     "text": [
      "[68, 69, 72, 94, 100, 112, 143, 184, 200, 219, 223, 224, 248, 249, 250, 251, 255, 333, 334, 470, 493, 523, 542, 550, 563, 620, 628, 668, 700, 757, 765, 779, 780, 781, 783, 784, 785, 791, 795, 817, 824, 828, 836, 849, 915, 937, 939, 947, 950, 963, 993, 996, 999, 1004, 1066, 1074, 1140, 1147, 1153, 1163, 1185, 1198, 1244, 1250, 1263, 1266, 1278, 1329, 1342, 1399, 1498, 1513, 1525, 1527, 1533, 1548, 1550, 1561, 1571, 1589, 1624, 1653, 1715, 1716, 1718, 1719, 1722, 1724, 1731, 1771, 1776, 1777, 1785, 1802, 1805, 1837, 1856, 1887, 1902, 1950, 1953, 1967, 1978, 1996, 2015, 2018, 2023]\n"
     ]
    }
   ],
   "source": [
    "partidos_columns = df_edition.loc[:,[\"MESA\"]+df_edition.columns[7:31].values.tolist()].copy()\n",
    "print(partidos_columns[partidos_columns.isin(['--']).any(axis=1)]['MESA'].values.tolist())"
   ],
   "metadata": {
    "collapsed": false,
    "ExecuteTime": {
     "end_time": "2023-07-04T05:46:23.959823Z",
     "start_time": "2023-07-04T05:46:23.952893Z"
    }
   }
  },
  {
   "cell_type": "markdown",
   "source": [
    "Al analizar con más detalle, este tipo de datos '--' por lo general están asociados con ser únicamente el número 0, sin embargo en casos raros puede ser que por un extraño motivo no hayan votos en algunas mesas. Aunque eso se solucionará al verificar las sumatorias."
   ],
   "metadata": {
    "collapsed": false
   }
  },
  {
   "cell_type": "code",
   "execution_count": 17,
   "outputs": [],
   "source": [
    "df_edition.loc[:,df_edition.columns[7:31]] = df_edition.loc[:,df_edition.columns[7:31]].replace('--','0')\n"
   ],
   "metadata": {
    "collapsed": false,
    "ExecuteTime": {
     "end_time": "2023-07-04T05:46:24.437079Z",
     "start_time": "2023-07-04T05:46:24.431610Z"
    }
   }
  },
  {
   "cell_type": "code",
   "execution_count": 18,
   "outputs": [
    {
     "data": {
      "text/plain": "'\\nfor i in partidos_columns[partidos_columns.isin([\\'--\\']).any(axis=1)][\\'MESA\\'].values.tolist():\\n    _, valores_en_lista = row_con_validos_calculados(i)\\n\\n    print(f\"# {i} - \")\\n    print(f\\'df_edition.loc[df_edition[\"MESA\"]=={i},df_edition.columns[7:31]]={valores_en_lista}\\n\\')\\n'"
     },
     "execution_count": 18,
     "metadata": {},
     "output_type": "execute_result"
    }
   ],
   "source": [
    "\"\"\"\n",
    "for i in partidos_columns[partidos_columns.isin(['--']).any(axis=1)]['MESA'].values.tolist():\n",
    "    _, valores_en_lista = row_con_validos_calculados(i)\n",
    "\n",
    "    print(f\"# {i} - \")\n",
    "    print(f'df_edition.loc[df_edition[\"MESA\"]=={i},df_edition.columns[7:31]]={valores_en_lista}\\n')\n",
    "\"\"\""
   ],
   "metadata": {
    "collapsed": false,
    "ExecuteTime": {
     "end_time": "2023-07-04T05:46:24.573586Z",
     "start_time": "2023-07-04T05:46:24.568630Z"
    }
   }
  },
  {
   "cell_type": "code",
   "execution_count": 19,
   "outputs": [],
   "source": [
    "df_edition['VALIDOS_CALCULADO'] = df_edition.loc[:,df_edition.columns[7:31]].astype(int).sum(axis=1)"
   ],
   "metadata": {
    "collapsed": false,
    "ExecuteTime": {
     "end_time": "2023-07-04T05:46:24.722549Z",
     "start_time": "2023-07-04T05:46:24.719588Z"
    }
   }
  },
  {
   "cell_type": "code",
   "execution_count": 20,
   "outputs": [],
   "source": [
    "df_edition[\"VÁLIDOS\"] = df_edition[\"VÁLIDOS\"].astype(int)"
   ],
   "metadata": {
    "collapsed": false,
    "ExecuteTime": {
     "end_time": "2023-07-04T05:46:24.920009Z",
     "start_time": "2023-07-04T05:46:24.912254Z"
    }
   }
  },
  {
   "cell_type": "code",
   "execution_count": 21,
   "outputs": [],
   "source": [
    "df_edition['diferencia'] = abs(df_edition['VALIDOS_CALCULADO']- df_edition[\"VÁLIDOS\"])"
   ],
   "metadata": {
    "collapsed": false,
    "ExecuteTime": {
     "end_time": "2023-07-04T05:46:25.085384Z",
     "start_time": "2023-07-04T05:46:25.078783Z"
    }
   }
  },
  {
   "cell_type": "code",
   "execution_count": 22,
   "outputs": [
    {
     "data": {
      "text/plain": "      MESA TODOS UNE VALOR UNIONISTA PR CAMBIO AZUL MLP VICTORIA VAMOS  ...  \\\n0        1     9  21              86  1      3    8   2        4     3  ...   \n1        2    14  16              72  2      5    7   1        5     5  ...   \n2        3    10  18              25  2      3    9   0        3     7  ...   \n3        4     9   8              52  0      1    8   3        2     3  ...   \n4        5     7  19              55  0      5    9   2        8     5  ...   \n...    ...   ...  ..             ... ..    ...  ...  ..      ...   ...  ...   \n2018  2019     0   2               3  1      0    1   0        1     1  ...   \n2019  2020     0   1               2  0      0    2   0        0     0  ...   \n2020  2021     0   1               3  0      0    0   0        0     0  ...   \n2021  2022     1   0               6  1      0    0   0        1     0  ...   \n2022  2023     0   2               5  0      0    0   1        0     0  ...   \n\n     FOPPA X LA CIUDAD MI FAMILIA CABAL VIVA PODEMOS PODER CREO  \\\n0                   45          1     5    1      13     0   38   \n1                   46          0     4    3      15     0   52   \n2                   26          0     4    1       2     1   33   \n3                   39          1     0    0       9     1   28   \n4                   40          0     3    4       9     1   44   \n...                ...        ...   ...  ...     ...   ...  ...   \n2018                 1          0     0    0       2     0    2   \n2019                 0          0     2    0       0     0    1   \n2020                 3          0     0    0       0     0    2   \n2021                 1          0     0    0       2     1    4   \n2022                 2          0     0    1       2     0    0   \n\n     VALIDOS_CALCULADO VÁLIDOS diferencia  \n0                  254     254          0  \n1                  255     255          0  \n2                  155     203         48  \n3                  171     171          0  \n4                  223     223          0  \n...                ...     ...        ...  \n2018                15      15          0  \n2019                 9       9          0  \n2020                11      11          0  \n2021                19      19          0  \n2022                13      13          0  \n\n[2023 rows x 28 columns]",
      "text/html": "<div>\n<style scoped>\n    .dataframe tbody tr th:only-of-type {\n        vertical-align: middle;\n    }\n\n    .dataframe tbody tr th {\n        vertical-align: top;\n    }\n\n    .dataframe thead th {\n        text-align: right;\n    }\n</style>\n<table border=\"1\" class=\"dataframe\">\n  <thead>\n    <tr style=\"text-align: right;\">\n      <th></th>\n      <th>MESA</th>\n      <th>TODOS</th>\n      <th>UNE</th>\n      <th>VALOR UNIONISTA</th>\n      <th>PR</th>\n      <th>CAMBIO</th>\n      <th>AZUL</th>\n      <th>MLP</th>\n      <th>VICTORIA</th>\n      <th>VAMOS</th>\n      <th>...</th>\n      <th>FOPPA X LA CIUDAD</th>\n      <th>MI FAMILIA</th>\n      <th>CABAL</th>\n      <th>VIVA</th>\n      <th>PODEMOS</th>\n      <th>PODER</th>\n      <th>CREO</th>\n      <th>VALIDOS_CALCULADO</th>\n      <th>VÁLIDOS</th>\n      <th>diferencia</th>\n    </tr>\n  </thead>\n  <tbody>\n    <tr>\n      <th>0</th>\n      <td>1</td>\n      <td>9</td>\n      <td>21</td>\n      <td>86</td>\n      <td>1</td>\n      <td>3</td>\n      <td>8</td>\n      <td>2</td>\n      <td>4</td>\n      <td>3</td>\n      <td>...</td>\n      <td>45</td>\n      <td>1</td>\n      <td>5</td>\n      <td>1</td>\n      <td>13</td>\n      <td>0</td>\n      <td>38</td>\n      <td>254</td>\n      <td>254</td>\n      <td>0</td>\n    </tr>\n    <tr>\n      <th>1</th>\n      <td>2</td>\n      <td>14</td>\n      <td>16</td>\n      <td>72</td>\n      <td>2</td>\n      <td>5</td>\n      <td>7</td>\n      <td>1</td>\n      <td>5</td>\n      <td>5</td>\n      <td>...</td>\n      <td>46</td>\n      <td>0</td>\n      <td>4</td>\n      <td>3</td>\n      <td>15</td>\n      <td>0</td>\n      <td>52</td>\n      <td>255</td>\n      <td>255</td>\n      <td>0</td>\n    </tr>\n    <tr>\n      <th>2</th>\n      <td>3</td>\n      <td>10</td>\n      <td>18</td>\n      <td>25</td>\n      <td>2</td>\n      <td>3</td>\n      <td>9</td>\n      <td>0</td>\n      <td>3</td>\n      <td>7</td>\n      <td>...</td>\n      <td>26</td>\n      <td>0</td>\n      <td>4</td>\n      <td>1</td>\n      <td>2</td>\n      <td>1</td>\n      <td>33</td>\n      <td>155</td>\n      <td>203</td>\n      <td>48</td>\n    </tr>\n    <tr>\n      <th>3</th>\n      <td>4</td>\n      <td>9</td>\n      <td>8</td>\n      <td>52</td>\n      <td>0</td>\n      <td>1</td>\n      <td>8</td>\n      <td>3</td>\n      <td>2</td>\n      <td>3</td>\n      <td>...</td>\n      <td>39</td>\n      <td>1</td>\n      <td>0</td>\n      <td>0</td>\n      <td>9</td>\n      <td>1</td>\n      <td>28</td>\n      <td>171</td>\n      <td>171</td>\n      <td>0</td>\n    </tr>\n    <tr>\n      <th>4</th>\n      <td>5</td>\n      <td>7</td>\n      <td>19</td>\n      <td>55</td>\n      <td>0</td>\n      <td>5</td>\n      <td>9</td>\n      <td>2</td>\n      <td>8</td>\n      <td>5</td>\n      <td>...</td>\n      <td>40</td>\n      <td>0</td>\n      <td>3</td>\n      <td>4</td>\n      <td>9</td>\n      <td>1</td>\n      <td>44</td>\n      <td>223</td>\n      <td>223</td>\n      <td>0</td>\n    </tr>\n    <tr>\n      <th>...</th>\n      <td>...</td>\n      <td>...</td>\n      <td>...</td>\n      <td>...</td>\n      <td>...</td>\n      <td>...</td>\n      <td>...</td>\n      <td>...</td>\n      <td>...</td>\n      <td>...</td>\n      <td>...</td>\n      <td>...</td>\n      <td>...</td>\n      <td>...</td>\n      <td>...</td>\n      <td>...</td>\n      <td>...</td>\n      <td>...</td>\n      <td>...</td>\n      <td>...</td>\n      <td>...</td>\n    </tr>\n    <tr>\n      <th>2018</th>\n      <td>2019</td>\n      <td>0</td>\n      <td>2</td>\n      <td>3</td>\n      <td>1</td>\n      <td>0</td>\n      <td>1</td>\n      <td>0</td>\n      <td>1</td>\n      <td>1</td>\n      <td>...</td>\n      <td>1</td>\n      <td>0</td>\n      <td>0</td>\n      <td>0</td>\n      <td>2</td>\n      <td>0</td>\n      <td>2</td>\n      <td>15</td>\n      <td>15</td>\n      <td>0</td>\n    </tr>\n    <tr>\n      <th>2019</th>\n      <td>2020</td>\n      <td>0</td>\n      <td>1</td>\n      <td>2</td>\n      <td>0</td>\n      <td>0</td>\n      <td>2</td>\n      <td>0</td>\n      <td>0</td>\n      <td>0</td>\n      <td>...</td>\n      <td>0</td>\n      <td>0</td>\n      <td>2</td>\n      <td>0</td>\n      <td>0</td>\n      <td>0</td>\n      <td>1</td>\n      <td>9</td>\n      <td>9</td>\n      <td>0</td>\n    </tr>\n    <tr>\n      <th>2020</th>\n      <td>2021</td>\n      <td>0</td>\n      <td>1</td>\n      <td>3</td>\n      <td>0</td>\n      <td>0</td>\n      <td>0</td>\n      <td>0</td>\n      <td>0</td>\n      <td>0</td>\n      <td>...</td>\n      <td>3</td>\n      <td>0</td>\n      <td>0</td>\n      <td>0</td>\n      <td>0</td>\n      <td>0</td>\n      <td>2</td>\n      <td>11</td>\n      <td>11</td>\n      <td>0</td>\n    </tr>\n    <tr>\n      <th>2021</th>\n      <td>2022</td>\n      <td>1</td>\n      <td>0</td>\n      <td>6</td>\n      <td>1</td>\n      <td>0</td>\n      <td>0</td>\n      <td>0</td>\n      <td>1</td>\n      <td>0</td>\n      <td>...</td>\n      <td>1</td>\n      <td>0</td>\n      <td>0</td>\n      <td>0</td>\n      <td>2</td>\n      <td>1</td>\n      <td>4</td>\n      <td>19</td>\n      <td>19</td>\n      <td>0</td>\n    </tr>\n    <tr>\n      <th>2022</th>\n      <td>2023</td>\n      <td>0</td>\n      <td>2</td>\n      <td>5</td>\n      <td>0</td>\n      <td>0</td>\n      <td>0</td>\n      <td>1</td>\n      <td>0</td>\n      <td>0</td>\n      <td>...</td>\n      <td>2</td>\n      <td>0</td>\n      <td>0</td>\n      <td>1</td>\n      <td>2</td>\n      <td>0</td>\n      <td>0</td>\n      <td>13</td>\n      <td>13</td>\n      <td>0</td>\n    </tr>\n  </tbody>\n</table>\n<p>2023 rows × 28 columns</p>\n</div>"
     },
     "execution_count": 22,
     "metadata": {},
     "output_type": "execute_result"
    }
   ],
   "source": [
    "para_analizar = df_edition.loc[:,['MESA']+df_edition.columns.tolist()[7:31]+['VALIDOS_CALCULADO','VÁLIDOS','diferencia']]\n",
    "para_analizar"
   ],
   "metadata": {
    "collapsed": false,
    "ExecuteTime": {
     "end_time": "2023-07-04T05:46:25.281849Z",
     "start_time": "2023-07-04T05:46:25.278079Z"
    }
   }
  },
  {
   "cell_type": "code",
   "execution_count": 23,
   "outputs": [],
   "source": [
    "para_analizar.to_excel(\"/Users/rudikrompich/Git/recopilacion_y_analisis_elecciones_de_guatemala_2023/data_analisis/incongruencias_diferencia_votos_validos.xlsx\",index=False)"
   ],
   "metadata": {
    "collapsed": false,
    "ExecuteTime": {
     "end_time": "2023-07-04T05:46:26.112083Z",
     "start_time": "2023-07-04T05:46:25.494503Z"
    }
   }
  },
  {
   "cell_type": "code",
   "execution_count": 72,
   "outputs": [
    {
     "data": {
      "text/plain": "      MESA  TODOS  UNE  VALOR UNIONISTA  PR  CAMBIO  AZUL  MLP  VICTORIA  \\\n0        1      9   21               86   1     3.0     8    2         4   \n1        2     14   16               72   2     5.0     7    1         5   \n2      112      0    0                0   0     0.0     0    0         7   \n3        4      9    8               52   0     1.0     8    3         2   \n4        5      7   19               55   0     5.0     9    2         8   \n...    ...    ...  ...              ...  ..     ...   ...  ...       ...   \n2018  2019      0    2                3   1     0.0     1    0         1   \n2019  2020      0    1                2   0     0.0     2    0         0   \n2020  2021      0    1                3   0     0.0     0    0         0   \n2021  2022      1    0                6   1     0.0     0    0         1   \n2022  2023      0    2                5   0     0.0     0    1         0   \n\n      VAMOS  ...  MI FAMILIA  CABAL  VIVA  PODEMOS  PODER  CREO  \\\n0         3  ...           1      5     1       13      0    38   \n1         5  ...           0      4     3       15      0    52   \n2         6  ...           1      9     4        7      0    55   \n3         3  ...           1      0     0        9      1    28   \n4         5  ...           0      3     4        9      1    44   \n...     ...  ...         ...    ...   ...      ...    ...   ...   \n2018      1  ...           0      0     0        2      0     2   \n2019      0  ...           0      2     0        0      0     1   \n2020      0  ...           0      0     0        0      0     2   \n2021      0  ...           0      0     0        2      1     4   \n2022      0  ...           0      0     1        2      0     0   \n\n      VALIDOS_CALCULADO  VÁLIDOS  diferencia  \\\n0                   254      254           0   \n1                   255      255           0   \n2                   144      252         108   \n3                   171      171           0   \n4                   223      223           0   \n...                 ...      ...         ...   \n2018                 15       15           0   \n2019                  9        9           0   \n2020                 11       11           0   \n2021                 19       19           0   \n2022                 13       13           0   \n\n                                             comentario  \n0                                                   NaN  \n1                                                   NaN  \n2     Hay votos faltantes en la parte superior, afec...  \n3                                                   NaN  \n4                                                   NaN  \n...                                                 ...  \n2018                                                NaN  \n2019                                                NaN  \n2020                                                NaN  \n2021                                                NaN  \n2022                                                NaN  \n\n[2023 rows x 29 columns]",
      "text/html": "<div>\n<style scoped>\n    .dataframe tbody tr th:only-of-type {\n        vertical-align: middle;\n    }\n\n    .dataframe tbody tr th {\n        vertical-align: top;\n    }\n\n    .dataframe thead th {\n        text-align: right;\n    }\n</style>\n<table border=\"1\" class=\"dataframe\">\n  <thead>\n    <tr style=\"text-align: right;\">\n      <th></th>\n      <th>MESA</th>\n      <th>TODOS</th>\n      <th>UNE</th>\n      <th>VALOR UNIONISTA</th>\n      <th>PR</th>\n      <th>CAMBIO</th>\n      <th>AZUL</th>\n      <th>MLP</th>\n      <th>VICTORIA</th>\n      <th>VAMOS</th>\n      <th>...</th>\n      <th>MI FAMILIA</th>\n      <th>CABAL</th>\n      <th>VIVA</th>\n      <th>PODEMOS</th>\n      <th>PODER</th>\n      <th>CREO</th>\n      <th>VALIDOS_CALCULADO</th>\n      <th>VÁLIDOS</th>\n      <th>diferencia</th>\n      <th>comentario</th>\n    </tr>\n  </thead>\n  <tbody>\n    <tr>\n      <th>0</th>\n      <td>1</td>\n      <td>9</td>\n      <td>21</td>\n      <td>86</td>\n      <td>1</td>\n      <td>3.0</td>\n      <td>8</td>\n      <td>2</td>\n      <td>4</td>\n      <td>3</td>\n      <td>...</td>\n      <td>1</td>\n      <td>5</td>\n      <td>1</td>\n      <td>13</td>\n      <td>0</td>\n      <td>38</td>\n      <td>254</td>\n      <td>254</td>\n      <td>0</td>\n      <td>NaN</td>\n    </tr>\n    <tr>\n      <th>1</th>\n      <td>2</td>\n      <td>14</td>\n      <td>16</td>\n      <td>72</td>\n      <td>2</td>\n      <td>5.0</td>\n      <td>7</td>\n      <td>1</td>\n      <td>5</td>\n      <td>5</td>\n      <td>...</td>\n      <td>0</td>\n      <td>4</td>\n      <td>3</td>\n      <td>15</td>\n      <td>0</td>\n      <td>52</td>\n      <td>255</td>\n      <td>255</td>\n      <td>0</td>\n      <td>NaN</td>\n    </tr>\n    <tr>\n      <th>2</th>\n      <td>112</td>\n      <td>0</td>\n      <td>0</td>\n      <td>0</td>\n      <td>0</td>\n      <td>0.0</td>\n      <td>0</td>\n      <td>0</td>\n      <td>7</td>\n      <td>6</td>\n      <td>...</td>\n      <td>1</td>\n      <td>9</td>\n      <td>4</td>\n      <td>7</td>\n      <td>0</td>\n      <td>55</td>\n      <td>144</td>\n      <td>252</td>\n      <td>108</td>\n      <td>Hay votos faltantes en la parte superior, afec...</td>\n    </tr>\n    <tr>\n      <th>3</th>\n      <td>4</td>\n      <td>9</td>\n      <td>8</td>\n      <td>52</td>\n      <td>0</td>\n      <td>1.0</td>\n      <td>8</td>\n      <td>3</td>\n      <td>2</td>\n      <td>3</td>\n      <td>...</td>\n      <td>1</td>\n      <td>0</td>\n      <td>0</td>\n      <td>9</td>\n      <td>1</td>\n      <td>28</td>\n      <td>171</td>\n      <td>171</td>\n      <td>0</td>\n      <td>NaN</td>\n    </tr>\n    <tr>\n      <th>4</th>\n      <td>5</td>\n      <td>7</td>\n      <td>19</td>\n      <td>55</td>\n      <td>0</td>\n      <td>5.0</td>\n      <td>9</td>\n      <td>2</td>\n      <td>8</td>\n      <td>5</td>\n      <td>...</td>\n      <td>0</td>\n      <td>3</td>\n      <td>4</td>\n      <td>9</td>\n      <td>1</td>\n      <td>44</td>\n      <td>223</td>\n      <td>223</td>\n      <td>0</td>\n      <td>NaN</td>\n    </tr>\n    <tr>\n      <th>...</th>\n      <td>...</td>\n      <td>...</td>\n      <td>...</td>\n      <td>...</td>\n      <td>...</td>\n      <td>...</td>\n      <td>...</td>\n      <td>...</td>\n      <td>...</td>\n      <td>...</td>\n      <td>...</td>\n      <td>...</td>\n      <td>...</td>\n      <td>...</td>\n      <td>...</td>\n      <td>...</td>\n      <td>...</td>\n      <td>...</td>\n      <td>...</td>\n      <td>...</td>\n      <td>...</td>\n    </tr>\n    <tr>\n      <th>2018</th>\n      <td>2019</td>\n      <td>0</td>\n      <td>2</td>\n      <td>3</td>\n      <td>1</td>\n      <td>0.0</td>\n      <td>1</td>\n      <td>0</td>\n      <td>1</td>\n      <td>1</td>\n      <td>...</td>\n      <td>0</td>\n      <td>0</td>\n      <td>0</td>\n      <td>2</td>\n      <td>0</td>\n      <td>2</td>\n      <td>15</td>\n      <td>15</td>\n      <td>0</td>\n      <td>NaN</td>\n    </tr>\n    <tr>\n      <th>2019</th>\n      <td>2020</td>\n      <td>0</td>\n      <td>1</td>\n      <td>2</td>\n      <td>0</td>\n      <td>0.0</td>\n      <td>2</td>\n      <td>0</td>\n      <td>0</td>\n      <td>0</td>\n      <td>...</td>\n      <td>0</td>\n      <td>2</td>\n      <td>0</td>\n      <td>0</td>\n      <td>0</td>\n      <td>1</td>\n      <td>9</td>\n      <td>9</td>\n      <td>0</td>\n      <td>NaN</td>\n    </tr>\n    <tr>\n      <th>2020</th>\n      <td>2021</td>\n      <td>0</td>\n      <td>1</td>\n      <td>3</td>\n      <td>0</td>\n      <td>0.0</td>\n      <td>0</td>\n      <td>0</td>\n      <td>0</td>\n      <td>0</td>\n      <td>...</td>\n      <td>0</td>\n      <td>0</td>\n      <td>0</td>\n      <td>0</td>\n      <td>0</td>\n      <td>2</td>\n      <td>11</td>\n      <td>11</td>\n      <td>0</td>\n      <td>NaN</td>\n    </tr>\n    <tr>\n      <th>2021</th>\n      <td>2022</td>\n      <td>1</td>\n      <td>0</td>\n      <td>6</td>\n      <td>1</td>\n      <td>0.0</td>\n      <td>0</td>\n      <td>0</td>\n      <td>1</td>\n      <td>0</td>\n      <td>...</td>\n      <td>0</td>\n      <td>0</td>\n      <td>0</td>\n      <td>2</td>\n      <td>1</td>\n      <td>4</td>\n      <td>19</td>\n      <td>19</td>\n      <td>0</td>\n      <td>NaN</td>\n    </tr>\n    <tr>\n      <th>2022</th>\n      <td>2023</td>\n      <td>0</td>\n      <td>2</td>\n      <td>5</td>\n      <td>0</td>\n      <td>0.0</td>\n      <td>0</td>\n      <td>1</td>\n      <td>0</td>\n      <td>0</td>\n      <td>...</td>\n      <td>0</td>\n      <td>0</td>\n      <td>1</td>\n      <td>2</td>\n      <td>0</td>\n      <td>0</td>\n      <td>13</td>\n      <td>13</td>\n      <td>0</td>\n      <td>NaN</td>\n    </tr>\n  </tbody>\n</table>\n<p>2023 rows × 29 columns</p>\n</div>"
     },
     "execution_count": 72,
     "metadata": {},
     "output_type": "execute_result"
    }
   ],
   "source": [
    "final_despues_de_arrelgo_manual=pd.read_excel(\"/Users/rudikrompich/Git/recopilacion_y_analisis_elecciones_de_guatemala_2023/data_analisis/correccion_incongruencias_diferencia_votos_validos.xlsx\")\n",
    "final_despues_de_arrelgo_manual"
   ],
   "metadata": {
    "collapsed": false,
    "ExecuteTime": {
     "end_time": "2023-07-04T06:09:55.536170Z",
     "start_time": "2023-07-04T06:09:55.167213Z"
    }
   }
  },
  {
   "cell_type": "code",
   "execution_count": 96,
   "outputs": [
    {
     "data": {
      "text/plain": "      MESA  TODOS  UNE  VALOR UNIONISTA  PR  CAMBIO  AZUL  MLP  VICTORIA  \\\n1350    26     13    8               42   0     2.0     3    2         3   \n\n      VAMOS  ...  MI FAMILIA  CABAL  VIVA  PODEMOS  PODER  CREO  \\\n1350      8  ...           1      4     1       23      0    34   \n\n      VALIDOS_CALCULADO  VÁLIDOS  diferencia  comentario  \n1350                219      222           3   Pendiente  \n\n[1 rows x 29 columns]",
      "text/html": "<div>\n<style scoped>\n    .dataframe tbody tr th:only-of-type {\n        vertical-align: middle;\n    }\n\n    .dataframe tbody tr th {\n        vertical-align: top;\n    }\n\n    .dataframe thead th {\n        text-align: right;\n    }\n</style>\n<table border=\"1\" class=\"dataframe\">\n  <thead>\n    <tr style=\"text-align: right;\">\n      <th></th>\n      <th>MESA</th>\n      <th>TODOS</th>\n      <th>UNE</th>\n      <th>VALOR UNIONISTA</th>\n      <th>PR</th>\n      <th>CAMBIO</th>\n      <th>AZUL</th>\n      <th>MLP</th>\n      <th>VICTORIA</th>\n      <th>VAMOS</th>\n      <th>...</th>\n      <th>MI FAMILIA</th>\n      <th>CABAL</th>\n      <th>VIVA</th>\n      <th>PODEMOS</th>\n      <th>PODER</th>\n      <th>CREO</th>\n      <th>VALIDOS_CALCULADO</th>\n      <th>VÁLIDOS</th>\n      <th>diferencia</th>\n      <th>comentario</th>\n    </tr>\n  </thead>\n  <tbody>\n    <tr>\n      <th>1350</th>\n      <td>26</td>\n      <td>13</td>\n      <td>8</td>\n      <td>42</td>\n      <td>0</td>\n      <td>2.0</td>\n      <td>3</td>\n      <td>2</td>\n      <td>3</td>\n      <td>8</td>\n      <td>...</td>\n      <td>1</td>\n      <td>4</td>\n      <td>1</td>\n      <td>23</td>\n      <td>0</td>\n      <td>34</td>\n      <td>219</td>\n      <td>222</td>\n      <td>3</td>\n      <td>Pendiente</td>\n    </tr>\n  </tbody>\n</table>\n<p>1 rows × 29 columns</p>\n</div>"
     },
     "execution_count": 96,
     "metadata": {},
     "output_type": "execute_result"
    }
   ],
   "source": [
    "final_despues_de_arrelgo_manual[final_despues_de_arrelgo_manual['MESA']==26]"
   ],
   "metadata": {
    "collapsed": false,
    "ExecuteTime": {
     "end_time": "2023-07-04T07:13:46.885886Z",
     "start_time": "2023-07-04T07:13:46.875053Z"
    }
   }
  },
  {
   "cell_type": "markdown",
   "source": [
    "# Concatenar los datos"
   ],
   "metadata": {
    "collapsed": false
   }
  },
  {
   "cell_type": "code",
   "execution_count": 73,
   "outputs": [],
   "source": [
    "df_edition2 = df_edition[['MESA', 'DEPARTAMENTO', 'ID_DEPARTAMENTO', 'MUNICIPIO', 'ID_MUNICIPIO',\n",
    "       'CENTRO_DE_VOTACIÓN', 'PADRÓN', 'NULOS', 'BLANCO', 'EMITIDOS', 'INVÁLIDOS', 'TOTAL',\n",
    "       'IMPUGNACIONES', 'PAPELETAS-RECIBIDAS', 'PAPELETAS-NO-USADAS', 'EMITIDOS_CALCULADO', 'TOTAL_CALCULADO',\n",
    "       'OBSERVACIONES', 'CONTABILIZADA', 'CÓDIGO_INTEGRIDAD',\n",
    "       'FECHA_HORA_PUBLICACIÓN', 'DIGITALIZACIÓN']].copy()\n",
    "df_edition2.replace('--',0,inplace=True)"
   ],
   "metadata": {
    "collapsed": false,
    "ExecuteTime": {
     "end_time": "2023-07-04T06:09:55.654752Z",
     "start_time": "2023-07-04T06:09:55.651413Z"
    }
   }
  },
  {
   "cell_type": "code",
   "execution_count": 74,
   "outputs": [
    {
     "data": {
      "text/plain": "      MESA      DEPARTAMENTO  ID_DEPARTAMENTO  MUNICIPIO  ID_MUNICIPIO  \\\n0        1  Distrito Central                0  Guatemala             1   \n1        2  Distrito Central                0  Guatemala             1   \n2        3  Distrito Central                0  Guatemala             1   \n3        4  Distrito Central                0  Guatemala             1   \n4        5  Distrito Central                0  Guatemala             1   \n...    ...               ...              ...        ...           ...   \n2018  2019  Distrito Central                0  Guatemala             1   \n2019  2020  Distrito Central                0  Guatemala             1   \n2020  2021  Distrito Central                0  Guatemala             1   \n2021  2022  Distrito Central                0  Guatemala             1   \n2022  2023  Distrito Central                0  Guatemala             1   \n\n      CENTRO_DE_VOTACIÓN  PADRÓN  TODOS  UNE  VALOR UNIONISTA  ...  \\\n0                      1     400      9   21               86  ...   \n1                      1     400     14   16               72  ...   \n2                      1     277     10   18               25  ...   \n3                      1     277      9    8               52  ...   \n4                      2     400      7   19               55  ...   \n...                  ...     ...    ...  ...              ...  ...   \n2018                 152     600      0    2                3  ...   \n2019                 152     600      0    1                2  ...   \n2020                 152     600      0    1                3  ...   \n2021                 152     460      1    0                6  ...   \n2022                 152     460      0    2                5  ...   \n\n      VALIDOS_CALCULADO  EMITIDOS_CALCULADO  TOTAL_CALCULADO  \\\n0                   254               254.0            254.0   \n1                   255               272.0            272.0   \n2                   155               167.0            167.0   \n3                   171               184.0            184.0   \n4                   223               238.0            238.0   \n...                 ...                 ...              ...   \n2018                 15                16.0             16.0   \n2019                  9                10.0             10.0   \n2020                 11                12.0             12.0   \n2021                 19                19.0             19.0   \n2022                 13                16.0             16.0   \n\n                    OBSERVACIONES  CONTABILIZADA  \\\n0            Algún campo sin dato              1   \n1            Algún campo sin dato              1   \n2     Sumas Asentadas sin cuadrar              1   \n3            Algún campo sin dato              1   \n4            Algún campo sin dato              1   \n...                           ...            ...   \n2018                          NaN              1   \n2019  Sumas Asentadas sin cuadrar              1   \n2020         Algún campo sin dato              1   \n2021         Algún campo sin dato              1   \n2022         Algún campo sin dato              1   \n\n                                      CÓDIGO_INTEGRIDAD  \\\n0     e798d13702b9a3b5b3672b7de0598a5c4baa55bb18c853...   \n1     8eaff44acb0ac8850475199341a6baeeda9c048a05dc10...   \n2     1bae08360c7223157da09ecd050b4f176f190a07106042...   \n3     cbac8f21a3ecf69b35b2d0b88829658e4652155de1425f...   \n4     9d749654c17aabedcb2e2b60cd8f9ebd29b3498b42d16a...   \n...                                                 ...   \n2018  2c1d9aa80de3abfff1d7d2c0656139d4d6d69893db2c7c...   \n2019  35ebc8a4610058ad4c8e394151eac56ff5918463547d2d...   \n2020  e9830b1c5d5af61416f588c97a68147954a92277dd4655...   \n2021  e2425b3a0fe4bb9021b9b15194eb597300232eb08a200f...   \n2022  f74b5cd9837fcedc5fdef808bdcfb51032a116fa7f923c...   \n\n      FECHA_HORA_PUBLICACIÓN  DIGITALIZACIÓN  diferencia        comentario  \n0        26/06/2023 02:19:04         ESCANER           0                --  \n1        25/06/2023 23:09:37         ESCANER           0                --  \n2        26/06/2023 01:02:30         ESCANER          48  Datos no cuadran  \n3        25/06/2023 22:33:23         ESCANER           0                --  \n4        26/06/2023 00:01:59         ESCANER           0                --  \n...                      ...             ...         ...               ...  \n2018     26/06/2023 01:40:00         ESCANER           0                --  \n2019     25/06/2023 23:53:12         ESCANER           0                --  \n2020     25/06/2023 22:38:08         ESCANER           0                --  \n2021     25/06/2023 21:10:16         ESCANER           0                --  \n2022     25/06/2023 22:19:39         ESCANER           0                --  \n\n[2023 rows x 50 columns]",
      "text/html": "<div>\n<style scoped>\n    .dataframe tbody tr th:only-of-type {\n        vertical-align: middle;\n    }\n\n    .dataframe tbody tr th {\n        vertical-align: top;\n    }\n\n    .dataframe thead th {\n        text-align: right;\n    }\n</style>\n<table border=\"1\" class=\"dataframe\">\n  <thead>\n    <tr style=\"text-align: right;\">\n      <th></th>\n      <th>MESA</th>\n      <th>DEPARTAMENTO</th>\n      <th>ID_DEPARTAMENTO</th>\n      <th>MUNICIPIO</th>\n      <th>ID_MUNICIPIO</th>\n      <th>CENTRO_DE_VOTACIÓN</th>\n      <th>PADRÓN</th>\n      <th>TODOS</th>\n      <th>UNE</th>\n      <th>VALOR UNIONISTA</th>\n      <th>...</th>\n      <th>VALIDOS_CALCULADO</th>\n      <th>EMITIDOS_CALCULADO</th>\n      <th>TOTAL_CALCULADO</th>\n      <th>OBSERVACIONES</th>\n      <th>CONTABILIZADA</th>\n      <th>CÓDIGO_INTEGRIDAD</th>\n      <th>FECHA_HORA_PUBLICACIÓN</th>\n      <th>DIGITALIZACIÓN</th>\n      <th>diferencia</th>\n      <th>comentario</th>\n    </tr>\n  </thead>\n  <tbody>\n    <tr>\n      <th>0</th>\n      <td>1</td>\n      <td>Distrito Central</td>\n      <td>0</td>\n      <td>Guatemala</td>\n      <td>1</td>\n      <td>1</td>\n      <td>400</td>\n      <td>9</td>\n      <td>21</td>\n      <td>86</td>\n      <td>...</td>\n      <td>254</td>\n      <td>254.0</td>\n      <td>254.0</td>\n      <td>Algún campo sin dato</td>\n      <td>1</td>\n      <td>e798d13702b9a3b5b3672b7de0598a5c4baa55bb18c853...</td>\n      <td>26/06/2023 02:19:04</td>\n      <td>ESCANER</td>\n      <td>0</td>\n      <td>--</td>\n    </tr>\n    <tr>\n      <th>1</th>\n      <td>2</td>\n      <td>Distrito Central</td>\n      <td>0</td>\n      <td>Guatemala</td>\n      <td>1</td>\n      <td>1</td>\n      <td>400</td>\n      <td>14</td>\n      <td>16</td>\n      <td>72</td>\n      <td>...</td>\n      <td>255</td>\n      <td>272.0</td>\n      <td>272.0</td>\n      <td>Algún campo sin dato</td>\n      <td>1</td>\n      <td>8eaff44acb0ac8850475199341a6baeeda9c048a05dc10...</td>\n      <td>25/06/2023 23:09:37</td>\n      <td>ESCANER</td>\n      <td>0</td>\n      <td>--</td>\n    </tr>\n    <tr>\n      <th>2</th>\n      <td>3</td>\n      <td>Distrito Central</td>\n      <td>0</td>\n      <td>Guatemala</td>\n      <td>1</td>\n      <td>1</td>\n      <td>277</td>\n      <td>10</td>\n      <td>18</td>\n      <td>25</td>\n      <td>...</td>\n      <td>155</td>\n      <td>167.0</td>\n      <td>167.0</td>\n      <td>Sumas Asentadas sin cuadrar</td>\n      <td>1</td>\n      <td>1bae08360c7223157da09ecd050b4f176f190a07106042...</td>\n      <td>26/06/2023 01:02:30</td>\n      <td>ESCANER</td>\n      <td>48</td>\n      <td>Datos no cuadran</td>\n    </tr>\n    <tr>\n      <th>3</th>\n      <td>4</td>\n      <td>Distrito Central</td>\n      <td>0</td>\n      <td>Guatemala</td>\n      <td>1</td>\n      <td>1</td>\n      <td>277</td>\n      <td>9</td>\n      <td>8</td>\n      <td>52</td>\n      <td>...</td>\n      <td>171</td>\n      <td>184.0</td>\n      <td>184.0</td>\n      <td>Algún campo sin dato</td>\n      <td>1</td>\n      <td>cbac8f21a3ecf69b35b2d0b88829658e4652155de1425f...</td>\n      <td>25/06/2023 22:33:23</td>\n      <td>ESCANER</td>\n      <td>0</td>\n      <td>--</td>\n    </tr>\n    <tr>\n      <th>4</th>\n      <td>5</td>\n      <td>Distrito Central</td>\n      <td>0</td>\n      <td>Guatemala</td>\n      <td>1</td>\n      <td>2</td>\n      <td>400</td>\n      <td>7</td>\n      <td>19</td>\n      <td>55</td>\n      <td>...</td>\n      <td>223</td>\n      <td>238.0</td>\n      <td>238.0</td>\n      <td>Algún campo sin dato</td>\n      <td>1</td>\n      <td>9d749654c17aabedcb2e2b60cd8f9ebd29b3498b42d16a...</td>\n      <td>26/06/2023 00:01:59</td>\n      <td>ESCANER</td>\n      <td>0</td>\n      <td>--</td>\n    </tr>\n    <tr>\n      <th>...</th>\n      <td>...</td>\n      <td>...</td>\n      <td>...</td>\n      <td>...</td>\n      <td>...</td>\n      <td>...</td>\n      <td>...</td>\n      <td>...</td>\n      <td>...</td>\n      <td>...</td>\n      <td>...</td>\n      <td>...</td>\n      <td>...</td>\n      <td>...</td>\n      <td>...</td>\n      <td>...</td>\n      <td>...</td>\n      <td>...</td>\n      <td>...</td>\n      <td>...</td>\n      <td>...</td>\n    </tr>\n    <tr>\n      <th>2018</th>\n      <td>2019</td>\n      <td>Distrito Central</td>\n      <td>0</td>\n      <td>Guatemala</td>\n      <td>1</td>\n      <td>152</td>\n      <td>600</td>\n      <td>0</td>\n      <td>2</td>\n      <td>3</td>\n      <td>...</td>\n      <td>15</td>\n      <td>16.0</td>\n      <td>16.0</td>\n      <td>NaN</td>\n      <td>1</td>\n      <td>2c1d9aa80de3abfff1d7d2c0656139d4d6d69893db2c7c...</td>\n      <td>26/06/2023 01:40:00</td>\n      <td>ESCANER</td>\n      <td>0</td>\n      <td>--</td>\n    </tr>\n    <tr>\n      <th>2019</th>\n      <td>2020</td>\n      <td>Distrito Central</td>\n      <td>0</td>\n      <td>Guatemala</td>\n      <td>1</td>\n      <td>152</td>\n      <td>600</td>\n      <td>0</td>\n      <td>1</td>\n      <td>2</td>\n      <td>...</td>\n      <td>9</td>\n      <td>10.0</td>\n      <td>10.0</td>\n      <td>Sumas Asentadas sin cuadrar</td>\n      <td>1</td>\n      <td>35ebc8a4610058ad4c8e394151eac56ff5918463547d2d...</td>\n      <td>25/06/2023 23:53:12</td>\n      <td>ESCANER</td>\n      <td>0</td>\n      <td>--</td>\n    </tr>\n    <tr>\n      <th>2020</th>\n      <td>2021</td>\n      <td>Distrito Central</td>\n      <td>0</td>\n      <td>Guatemala</td>\n      <td>1</td>\n      <td>152</td>\n      <td>600</td>\n      <td>0</td>\n      <td>1</td>\n      <td>3</td>\n      <td>...</td>\n      <td>11</td>\n      <td>12.0</td>\n      <td>12.0</td>\n      <td>Algún campo sin dato</td>\n      <td>1</td>\n      <td>e9830b1c5d5af61416f588c97a68147954a92277dd4655...</td>\n      <td>25/06/2023 22:38:08</td>\n      <td>ESCANER</td>\n      <td>0</td>\n      <td>--</td>\n    </tr>\n    <tr>\n      <th>2021</th>\n      <td>2022</td>\n      <td>Distrito Central</td>\n      <td>0</td>\n      <td>Guatemala</td>\n      <td>1</td>\n      <td>152</td>\n      <td>460</td>\n      <td>1</td>\n      <td>0</td>\n      <td>6</td>\n      <td>...</td>\n      <td>19</td>\n      <td>19.0</td>\n      <td>19.0</td>\n      <td>Algún campo sin dato</td>\n      <td>1</td>\n      <td>e2425b3a0fe4bb9021b9b15194eb597300232eb08a200f...</td>\n      <td>25/06/2023 21:10:16</td>\n      <td>ESCANER</td>\n      <td>0</td>\n      <td>--</td>\n    </tr>\n    <tr>\n      <th>2022</th>\n      <td>2023</td>\n      <td>Distrito Central</td>\n      <td>0</td>\n      <td>Guatemala</td>\n      <td>1</td>\n      <td>152</td>\n      <td>460</td>\n      <td>0</td>\n      <td>2</td>\n      <td>5</td>\n      <td>...</td>\n      <td>13</td>\n      <td>16.0</td>\n      <td>16.0</td>\n      <td>Algún campo sin dato</td>\n      <td>1</td>\n      <td>f74b5cd9837fcedc5fdef808bdcfb51032a116fa7f923c...</td>\n      <td>25/06/2023 22:19:39</td>\n      <td>ESCANER</td>\n      <td>0</td>\n      <td>--</td>\n    </tr>\n  </tbody>\n</table>\n<p>2023 rows × 50 columns</p>\n</div>"
     },
     "execution_count": 74,
     "metadata": {},
     "output_type": "execute_result"
    }
   ],
   "source": [
    "df_merged_fixed = pd.merge(df_edition2,final_despues_de_arrelgo_manual,on='MESA',how='left')\n",
    "df_merged_fixed = df_merged_fixed[['MESA', 'DEPARTAMENTO', 'ID_DEPARTAMENTO', 'MUNICIPIO', 'ID_MUNICIPIO',\n",
    "       'CENTRO_DE_VOTACIÓN', 'PADRÓN', 'TODOS', 'UNE', 'VALOR UNIONISTA', 'PR',\n",
    "       'CAMBIO', 'AZUL', 'MLP', 'VICTORIA', 'VAMOS', 'PHG', 'BIEN', 'UR',\n",
    "       'P A N', 'PIN', 'FCN-NACION', 'COMITE CIVICO LA GOTA DE AGUA', 'PPN',\n",
    "       'FOPPA X LA CIUDAD', 'MI FAMILIA', 'CABAL', 'VIVA', 'PODEMOS', 'PODER',\n",
    "       'CREO', 'VÁLIDOS', 'NULOS', 'BLANCO', 'EMITIDOS', 'INVÁLIDOS', 'TOTAL',\n",
    "       'IMPUGNACIONES', 'PAPELETAS-RECIBIDAS', 'PAPELETAS-NO-USADAS',\n",
    "       'VALIDOS_CALCULADO', 'EMITIDOS_CALCULADO', 'TOTAL_CALCULADO',\n",
    "       'OBSERVACIONES', 'CONTABILIZADA', 'CÓDIGO_INTEGRIDAD',\n",
    "       'FECHA_HORA_PUBLICACIÓN', 'DIGITALIZACIÓN', 'diferencia','comentario']].copy()\n",
    "df_merged_fixed['comentario'].fillna('--',inplace=True)\n",
    "df_merged_fixed"
   ],
   "metadata": {
    "collapsed": false,
    "ExecuteTime": {
     "end_time": "2023-07-04T06:09:55.785338Z",
     "start_time": "2023-07-04T06:09:55.771399Z"
    }
   }
  },
  {
   "cell_type": "code",
   "execution_count": 105,
   "outputs": [],
   "source": [
    "df_merged_fixed.to_excel(\"/Users/rudikrompich/Git/recopilacion_y_analisis_elecciones_de_guatemala_2023/data_analisis/arreglado_a_mano_incongruecias.xlsx\",index=False)"
   ],
   "metadata": {
    "collapsed": false,
    "ExecuteTime": {
     "end_time": "2023-07-04T15:02:46.853206Z",
     "start_time": "2023-07-04T15:02:45.993817Z"
    }
   }
  },
  {
   "cell_type": "code",
   "execution_count": 97,
   "outputs": [
    {
     "data": {
      "text/plain": "      MESA  VÁLIDOS NULOS BLANCO EMITIDOS INVÁLIDOS TOTAL IMPUGNACIONES  \\\n0        1      254     0      0        0         0     0             0   \n1        2      255    16      1      272         0   272             0   \n2        3      203    11      1      215         0   215             0   \n3        4      171    13      0      184         0   184             0   \n4        5      223    13      2      238         0   238             0   \n...    ...      ...   ...    ...      ...       ...   ...           ...   \n2018  2019       15     1      0       16         0    16             0   \n2019  2020        9     1      0       10         0     9             0   \n2020  2021       11     1      0       12         0    12             0   \n2021  2022       19     0      0       19         0    19             0   \n2022  2023       13     2      1       16         0    16             0   \n\n     PAPELETAS-RECIBIDAS PAPELETAS-NO-USADAS  VALIDOS_CALCULADO  \\\n0                      0                   0                254   \n1                    400                 128                255   \n2                    277                  62                155   \n3                    277                  93                171   \n4                    400                 162                223   \n...                  ...                 ...                ...   \n2018                 596                 580                 15   \n2019                 597                 587                  9   \n2020                 600                 588                 11   \n2021                 460                 441                 19   \n2022                 460                 444                 13   \n\n      EMITIDOS_CALCULADO  TOTAL_CALCULADO  diferencia        comentario  \n0                  254.0            254.0           0                --  \n1                  272.0            272.0           0                --  \n2                  167.0            167.0          48  Datos no cuadran  \n3                  184.0            184.0           0                --  \n4                  238.0            238.0           0                --  \n...                  ...              ...         ...               ...  \n2018                16.0             16.0           0                --  \n2019                10.0             10.0           0                --  \n2020                12.0             12.0           0                --  \n2021                19.0             19.0           0                --  \n2022                16.0             16.0           0                --  \n\n[2023 rows x 15 columns]",
      "text/html": "<div>\n<style scoped>\n    .dataframe tbody tr th:only-of-type {\n        vertical-align: middle;\n    }\n\n    .dataframe tbody tr th {\n        vertical-align: top;\n    }\n\n    .dataframe thead th {\n        text-align: right;\n    }\n</style>\n<table border=\"1\" class=\"dataframe\">\n  <thead>\n    <tr style=\"text-align: right;\">\n      <th></th>\n      <th>MESA</th>\n      <th>VÁLIDOS</th>\n      <th>NULOS</th>\n      <th>BLANCO</th>\n      <th>EMITIDOS</th>\n      <th>INVÁLIDOS</th>\n      <th>TOTAL</th>\n      <th>IMPUGNACIONES</th>\n      <th>PAPELETAS-RECIBIDAS</th>\n      <th>PAPELETAS-NO-USADAS</th>\n      <th>VALIDOS_CALCULADO</th>\n      <th>EMITIDOS_CALCULADO</th>\n      <th>TOTAL_CALCULADO</th>\n      <th>diferencia</th>\n      <th>comentario</th>\n    </tr>\n  </thead>\n  <tbody>\n    <tr>\n      <th>0</th>\n      <td>1</td>\n      <td>254</td>\n      <td>0</td>\n      <td>0</td>\n      <td>0</td>\n      <td>0</td>\n      <td>0</td>\n      <td>0</td>\n      <td>0</td>\n      <td>0</td>\n      <td>254</td>\n      <td>254.0</td>\n      <td>254.0</td>\n      <td>0</td>\n      <td>--</td>\n    </tr>\n    <tr>\n      <th>1</th>\n      <td>2</td>\n      <td>255</td>\n      <td>16</td>\n      <td>1</td>\n      <td>272</td>\n      <td>0</td>\n      <td>272</td>\n      <td>0</td>\n      <td>400</td>\n      <td>128</td>\n      <td>255</td>\n      <td>272.0</td>\n      <td>272.0</td>\n      <td>0</td>\n      <td>--</td>\n    </tr>\n    <tr>\n      <th>2</th>\n      <td>3</td>\n      <td>203</td>\n      <td>11</td>\n      <td>1</td>\n      <td>215</td>\n      <td>0</td>\n      <td>215</td>\n      <td>0</td>\n      <td>277</td>\n      <td>62</td>\n      <td>155</td>\n      <td>167.0</td>\n      <td>167.0</td>\n      <td>48</td>\n      <td>Datos no cuadran</td>\n    </tr>\n    <tr>\n      <th>3</th>\n      <td>4</td>\n      <td>171</td>\n      <td>13</td>\n      <td>0</td>\n      <td>184</td>\n      <td>0</td>\n      <td>184</td>\n      <td>0</td>\n      <td>277</td>\n      <td>93</td>\n      <td>171</td>\n      <td>184.0</td>\n      <td>184.0</td>\n      <td>0</td>\n      <td>--</td>\n    </tr>\n    <tr>\n      <th>4</th>\n      <td>5</td>\n      <td>223</td>\n      <td>13</td>\n      <td>2</td>\n      <td>238</td>\n      <td>0</td>\n      <td>238</td>\n      <td>0</td>\n      <td>400</td>\n      <td>162</td>\n      <td>223</td>\n      <td>238.0</td>\n      <td>238.0</td>\n      <td>0</td>\n      <td>--</td>\n    </tr>\n    <tr>\n      <th>...</th>\n      <td>...</td>\n      <td>...</td>\n      <td>...</td>\n      <td>...</td>\n      <td>...</td>\n      <td>...</td>\n      <td>...</td>\n      <td>...</td>\n      <td>...</td>\n      <td>...</td>\n      <td>...</td>\n      <td>...</td>\n      <td>...</td>\n      <td>...</td>\n      <td>...</td>\n    </tr>\n    <tr>\n      <th>2018</th>\n      <td>2019</td>\n      <td>15</td>\n      <td>1</td>\n      <td>0</td>\n      <td>16</td>\n      <td>0</td>\n      <td>16</td>\n      <td>0</td>\n      <td>596</td>\n      <td>580</td>\n      <td>15</td>\n      <td>16.0</td>\n      <td>16.0</td>\n      <td>0</td>\n      <td>--</td>\n    </tr>\n    <tr>\n      <th>2019</th>\n      <td>2020</td>\n      <td>9</td>\n      <td>1</td>\n      <td>0</td>\n      <td>10</td>\n      <td>0</td>\n      <td>9</td>\n      <td>0</td>\n      <td>597</td>\n      <td>587</td>\n      <td>9</td>\n      <td>10.0</td>\n      <td>10.0</td>\n      <td>0</td>\n      <td>--</td>\n    </tr>\n    <tr>\n      <th>2020</th>\n      <td>2021</td>\n      <td>11</td>\n      <td>1</td>\n      <td>0</td>\n      <td>12</td>\n      <td>0</td>\n      <td>12</td>\n      <td>0</td>\n      <td>600</td>\n      <td>588</td>\n      <td>11</td>\n      <td>12.0</td>\n      <td>12.0</td>\n      <td>0</td>\n      <td>--</td>\n    </tr>\n    <tr>\n      <th>2021</th>\n      <td>2022</td>\n      <td>19</td>\n      <td>0</td>\n      <td>0</td>\n      <td>19</td>\n      <td>0</td>\n      <td>19</td>\n      <td>0</td>\n      <td>460</td>\n      <td>441</td>\n      <td>19</td>\n      <td>19.0</td>\n      <td>19.0</td>\n      <td>0</td>\n      <td>--</td>\n    </tr>\n    <tr>\n      <th>2022</th>\n      <td>2023</td>\n      <td>13</td>\n      <td>2</td>\n      <td>1</td>\n      <td>16</td>\n      <td>0</td>\n      <td>16</td>\n      <td>0</td>\n      <td>460</td>\n      <td>444</td>\n      <td>13</td>\n      <td>16.0</td>\n      <td>16.0</td>\n      <td>0</td>\n      <td>--</td>\n    </tr>\n  </tbody>\n</table>\n<p>2023 rows × 15 columns</p>\n</div>"
     },
     "execution_count": 97,
     "metadata": {},
     "output_type": "execute_result"
    }
   ],
   "source": [
    "#df_datos_que_no_cuadran = df_merged_fixed[df_merged_fixed['comentario'].str.contains('Datos no cuadran')|(df_merged_fixed['comentario'].str.contains('Pendiente'))]\n",
    "\n",
    "df_datos_unicamente_necesarios_municipalidad = df_merged_fixed[['MESA','VÁLIDOS', 'NULOS', 'BLANCO', 'EMITIDOS', 'INVÁLIDOS', 'TOTAL',\n",
    "       'IMPUGNACIONES', 'PAPELETAS-RECIBIDAS', 'PAPELETAS-NO-USADAS',\n",
    "       'VALIDOS_CALCULADO', 'EMITIDOS_CALCULADO', 'TOTAL_CALCULADO','diferencia', 'comentario']].copy()\n",
    "df_datos_unicamente_necesarios_municipalidad"
   ],
   "metadata": {
    "collapsed": false,
    "ExecuteTime": {
     "end_time": "2023-07-04T07:16:56.827337Z",
     "start_time": "2023-07-04T07:16:56.800371Z"
    }
   }
  },
  {
   "cell_type": "code",
   "execution_count": 89,
   "outputs": [],
   "source": [
    "df_presidente = pd.read_csv(\"/Users/rudikrompich/Git/recopilacion_y_analisis_elecciones_de_guatemala_2023/data_analisis/gtm2023_e1.csv\",sep=',',skiprows=4)\n",
    "df_presidente = df_presidente[df_presidente['DEPARTAMENTO']=='Distrito Central'].copy().reset_index(drop=True)\n",
    "df_datos_unicamente_necesario_presidente = df_presidente[['MESA','VÁLIDOS', 'NULOS', 'BLANCO', 'EMITIDOS', 'INVÁLIDOS', 'TOTAL',\n",
    "       'IMPUGNACIONES', 'PAPELETAS-RECIBIDAS', 'PAPELETAS-NO-USADAS',\n",
    "       'VALIDOS_CALCULADO', 'EMITIDOS_CALCULADO', 'TOTAL_CALCULADO']].copy()"
   ],
   "metadata": {
    "collapsed": false,
    "ExecuteTime": {
     "end_time": "2023-07-04T06:28:33.648828Z",
     "start_time": "2023-07-04T06:28:33.529601Z"
    }
   }
  },
  {
   "cell_type": "code",
   "execution_count": 93,
   "outputs": [],
   "source": [
    "results1 = pd.merge(df_datos_unicamente_necesario_presidente,df_datos_unicamente_necesarios_municipalidad,on='MESA')\n",
    "results1= results1[results1['comentario'].str.contains('Datos no cuadran')|(results1['comentario'].str.contains('Pendiente'))].copy().reset_index(drop=True)"
   ],
   "metadata": {
    "collapsed": false,
    "ExecuteTime": {
     "end_time": "2023-07-04T06:34:35.920417Z",
     "start_time": "2023-07-04T06:34:35.912535Z"
    }
   }
  },
  {
   "cell_type": "code",
   "execution_count": 95,
   "outputs": [
    {
     "data": {
      "text/plain": "     MESA VÁLIDOS_x NULOS_x BLANCO_x EMITIDOS_x INVÁLIDOS_x TOTAL_x  \\\n0       3       199      16        0        215           0     215   \n1      26       217      22        0        239           1     240   \n2      29       201      26        0        227           0     227   \n3      68       221       2       --        223          13     236   \n4      85       172      24        1        197           0     197   \n..    ...       ...     ...      ...        ...         ...     ...   \n172  1890       134      15        3        152           0     152   \n173  1898       124      21        0        145           0     145   \n174  1902       168      20        0        188           0     188   \n175  1904       139      14        0        153           0     153   \n176  1919       130      18        2        150           0     150   \n\n    IMPUGNACIONES_x PAPELETAS-RECIBIDAS_x PAPELETAS-NO-USADAS_x  ...  \\\n0                --                   277                    62  ...   \n1                --                   397                   157  ...   \n2                --                   401                   174  ...   \n3                --                   401                   165  ...   \n4                --                   397                   200  ...   \n..              ...                   ...                   ...  ...   \n172              --                   607                   455  ...   \n173              --                   605                   460  ...   \n174              --                   597                   409  ...   \n175              --                   600                   447  ...   \n176              --                   602                   452  ...   \n\n     INVÁLIDOS_y  TOTAL_y  IMPUGNACIONES_y  PAPELETAS-RECIBIDAS_y  \\\n0              0      215                0                    277   \n1              0      239                0                    397   \n2              0      227                0                    400   \n3              0      238                0                    400   \n4              0      197                0                    393   \n..           ...      ...              ...                    ...   \n172            0      152                0                    594   \n173            0      145                0                    602   \n174           16      187                0                    600   \n175            0      153                0                    600   \n176            0      150                0                    600   \n\n    PAPELETAS-NO-USADAS_y VALIDOS_CALCULADO_y EMITIDOS_CALCULADO_y  \\\n0                      62                 155                167.0   \n1                     158                 219                236.0   \n2                     173                 209                225.0   \n3                     162                 230                237.0   \n4                     196                 158                172.0   \n..                    ...                 ...                  ...   \n172                   442                 142                151.0   \n173                   457                 134                148.0   \n174                   413                 169                185.0   \n175                   447                 143                152.0   \n176                   450                 133                149.0   \n\n    TOTAL_CALCULADO_y diferencia  \\\n0               167.0         48   \n1               236.0          3   \n2               225.0          2   \n3               237.0          1   \n4               172.0          5   \n..                ...        ...   \n172             151.0          1   \n173             148.0          3   \n174             201.0          2   \n175             152.0          1   \n176             149.0          1   \n\n                                            comentario  \n0                                     Datos no cuadran  \n1                                            Pendiente  \n2                                            Pendiente  \n3                                            Pendiente  \n4    Datos no cuadran, foppa x la ciudad no tiene d...  \n..                                                 ...  \n172                                   Datos no cuadran  \n173                                          Pendiente  \n174  Datos no cuadran, foppa x la ciudad no tiene d...  \n175                                   Datos no cuadran  \n176                                   Datos no cuadran  \n\n[177 rows x 27 columns]",
      "text/html": "<div>\n<style scoped>\n    .dataframe tbody tr th:only-of-type {\n        vertical-align: middle;\n    }\n\n    .dataframe tbody tr th {\n        vertical-align: top;\n    }\n\n    .dataframe thead th {\n        text-align: right;\n    }\n</style>\n<table border=\"1\" class=\"dataframe\">\n  <thead>\n    <tr style=\"text-align: right;\">\n      <th></th>\n      <th>MESA</th>\n      <th>VÁLIDOS_x</th>\n      <th>NULOS_x</th>\n      <th>BLANCO_x</th>\n      <th>EMITIDOS_x</th>\n      <th>INVÁLIDOS_x</th>\n      <th>TOTAL_x</th>\n      <th>IMPUGNACIONES_x</th>\n      <th>PAPELETAS-RECIBIDAS_x</th>\n      <th>PAPELETAS-NO-USADAS_x</th>\n      <th>...</th>\n      <th>INVÁLIDOS_y</th>\n      <th>TOTAL_y</th>\n      <th>IMPUGNACIONES_y</th>\n      <th>PAPELETAS-RECIBIDAS_y</th>\n      <th>PAPELETAS-NO-USADAS_y</th>\n      <th>VALIDOS_CALCULADO_y</th>\n      <th>EMITIDOS_CALCULADO_y</th>\n      <th>TOTAL_CALCULADO_y</th>\n      <th>diferencia</th>\n      <th>comentario</th>\n    </tr>\n  </thead>\n  <tbody>\n    <tr>\n      <th>0</th>\n      <td>3</td>\n      <td>199</td>\n      <td>16</td>\n      <td>0</td>\n      <td>215</td>\n      <td>0</td>\n      <td>215</td>\n      <td>--</td>\n      <td>277</td>\n      <td>62</td>\n      <td>...</td>\n      <td>0</td>\n      <td>215</td>\n      <td>0</td>\n      <td>277</td>\n      <td>62</td>\n      <td>155</td>\n      <td>167.0</td>\n      <td>167.0</td>\n      <td>48</td>\n      <td>Datos no cuadran</td>\n    </tr>\n    <tr>\n      <th>1</th>\n      <td>26</td>\n      <td>217</td>\n      <td>22</td>\n      <td>0</td>\n      <td>239</td>\n      <td>1</td>\n      <td>240</td>\n      <td>--</td>\n      <td>397</td>\n      <td>157</td>\n      <td>...</td>\n      <td>0</td>\n      <td>239</td>\n      <td>0</td>\n      <td>397</td>\n      <td>158</td>\n      <td>219</td>\n      <td>236.0</td>\n      <td>236.0</td>\n      <td>3</td>\n      <td>Pendiente</td>\n    </tr>\n    <tr>\n      <th>2</th>\n      <td>29</td>\n      <td>201</td>\n      <td>26</td>\n      <td>0</td>\n      <td>227</td>\n      <td>0</td>\n      <td>227</td>\n      <td>--</td>\n      <td>401</td>\n      <td>174</td>\n      <td>...</td>\n      <td>0</td>\n      <td>227</td>\n      <td>0</td>\n      <td>400</td>\n      <td>173</td>\n      <td>209</td>\n      <td>225.0</td>\n      <td>225.0</td>\n      <td>2</td>\n      <td>Pendiente</td>\n    </tr>\n    <tr>\n      <th>3</th>\n      <td>68</td>\n      <td>221</td>\n      <td>2</td>\n      <td>--</td>\n      <td>223</td>\n      <td>13</td>\n      <td>236</td>\n      <td>--</td>\n      <td>401</td>\n      <td>165</td>\n      <td>...</td>\n      <td>0</td>\n      <td>238</td>\n      <td>0</td>\n      <td>400</td>\n      <td>162</td>\n      <td>230</td>\n      <td>237.0</td>\n      <td>237.0</td>\n      <td>1</td>\n      <td>Pendiente</td>\n    </tr>\n    <tr>\n      <th>4</th>\n      <td>85</td>\n      <td>172</td>\n      <td>24</td>\n      <td>1</td>\n      <td>197</td>\n      <td>0</td>\n      <td>197</td>\n      <td>--</td>\n      <td>397</td>\n      <td>200</td>\n      <td>...</td>\n      <td>0</td>\n      <td>197</td>\n      <td>0</td>\n      <td>393</td>\n      <td>196</td>\n      <td>158</td>\n      <td>172.0</td>\n      <td>172.0</td>\n      <td>5</td>\n      <td>Datos no cuadran, foppa x la ciudad no tiene d...</td>\n    </tr>\n    <tr>\n      <th>...</th>\n      <td>...</td>\n      <td>...</td>\n      <td>...</td>\n      <td>...</td>\n      <td>...</td>\n      <td>...</td>\n      <td>...</td>\n      <td>...</td>\n      <td>...</td>\n      <td>...</td>\n      <td>...</td>\n      <td>...</td>\n      <td>...</td>\n      <td>...</td>\n      <td>...</td>\n      <td>...</td>\n      <td>...</td>\n      <td>...</td>\n      <td>...</td>\n      <td>...</td>\n      <td>...</td>\n    </tr>\n    <tr>\n      <th>172</th>\n      <td>1890</td>\n      <td>134</td>\n      <td>15</td>\n      <td>3</td>\n      <td>152</td>\n      <td>0</td>\n      <td>152</td>\n      <td>--</td>\n      <td>607</td>\n      <td>455</td>\n      <td>...</td>\n      <td>0</td>\n      <td>152</td>\n      <td>0</td>\n      <td>594</td>\n      <td>442</td>\n      <td>142</td>\n      <td>151.0</td>\n      <td>151.0</td>\n      <td>1</td>\n      <td>Datos no cuadran</td>\n    </tr>\n    <tr>\n      <th>173</th>\n      <td>1898</td>\n      <td>124</td>\n      <td>21</td>\n      <td>0</td>\n      <td>145</td>\n      <td>0</td>\n      <td>145</td>\n      <td>--</td>\n      <td>605</td>\n      <td>460</td>\n      <td>...</td>\n      <td>0</td>\n      <td>145</td>\n      <td>0</td>\n      <td>602</td>\n      <td>457</td>\n      <td>134</td>\n      <td>148.0</td>\n      <td>148.0</td>\n      <td>3</td>\n      <td>Pendiente</td>\n    </tr>\n    <tr>\n      <th>174</th>\n      <td>1902</td>\n      <td>168</td>\n      <td>20</td>\n      <td>0</td>\n      <td>188</td>\n      <td>0</td>\n      <td>188</td>\n      <td>--</td>\n      <td>597</td>\n      <td>409</td>\n      <td>...</td>\n      <td>16</td>\n      <td>187</td>\n      <td>0</td>\n      <td>600</td>\n      <td>413</td>\n      <td>169</td>\n      <td>185.0</td>\n      <td>201.0</td>\n      <td>2</td>\n      <td>Datos no cuadran, foppa x la ciudad no tiene d...</td>\n    </tr>\n    <tr>\n      <th>175</th>\n      <td>1904</td>\n      <td>139</td>\n      <td>14</td>\n      <td>0</td>\n      <td>153</td>\n      <td>0</td>\n      <td>153</td>\n      <td>--</td>\n      <td>600</td>\n      <td>447</td>\n      <td>...</td>\n      <td>0</td>\n      <td>153</td>\n      <td>0</td>\n      <td>600</td>\n      <td>447</td>\n      <td>143</td>\n      <td>152.0</td>\n      <td>152.0</td>\n      <td>1</td>\n      <td>Datos no cuadran</td>\n    </tr>\n    <tr>\n      <th>176</th>\n      <td>1919</td>\n      <td>130</td>\n      <td>18</td>\n      <td>2</td>\n      <td>150</td>\n      <td>0</td>\n      <td>150</td>\n      <td>--</td>\n      <td>602</td>\n      <td>452</td>\n      <td>...</td>\n      <td>0</td>\n      <td>150</td>\n      <td>0</td>\n      <td>600</td>\n      <td>450</td>\n      <td>133</td>\n      <td>149.0</td>\n      <td>149.0</td>\n      <td>1</td>\n      <td>Datos no cuadran</td>\n    </tr>\n  </tbody>\n</table>\n<p>177 rows × 27 columns</p>\n</div>"
     },
     "execution_count": 95,
     "metadata": {},
     "output_type": "execute_result"
    }
   ],
   "source": [
    "results1"
   ],
   "metadata": {
    "collapsed": false,
    "ExecuteTime": {
     "end_time": "2023-07-04T07:12:22.187982Z",
     "start_time": "2023-07-04T07:12:22.183077Z"
    }
   }
  },
  {
   "cell_type": "code",
   "execution_count": 94,
   "outputs": [],
   "source": [
    "results1.to_excel('/Users/rudikrompich/Git/recopilacion_y_analisis_elecciones_de_guatemala_2023/data_analisis/validacion_presidente_municipalidad.xlsx',index=False)"
   ],
   "metadata": {
    "collapsed": false,
    "ExecuteTime": {
     "end_time": "2023-07-04T06:34:36.740735Z",
     "start_time": "2023-07-04T06:34:36.698039Z"
    }
   }
  },
  {
   "cell_type": "code",
   "execution_count": 98,
   "outputs": [
    {
     "data": {
      "text/plain": "2004"
     },
     "execution_count": 98,
     "metadata": {},
     "output_type": "execute_result"
    }
   ],
   "source": [
    "results1[\"diferencia\"].sum()"
   ],
   "metadata": {
    "collapsed": false,
    "ExecuteTime": {
     "end_time": "2023-07-04T09:51:43.545800Z",
     "start_time": "2023-07-04T09:51:43.530875Z"
    }
   }
  },
  {
   "cell_type": "code",
   "execution_count": 104,
   "outputs": [
    {
     "data": {
      "text/plain": "106697"
     },
     "execution_count": 104,
     "metadata": {},
     "output_type": "execute_result"
    }
   ],
   "source": [
    "final_despues_de_arrelgo_manual[\"VALOR UNIONISTA\"].sum()"
   ],
   "metadata": {
    "collapsed": false,
    "ExecuteTime": {
     "end_time": "2023-07-04T10:31:32.053336Z",
     "start_time": "2023-07-04T10:31:32.047765Z"
    }
   }
  },
  {
   "cell_type": "code",
   "execution_count": null,
   "outputs": [],
   "source": [],
   "metadata": {
    "collapsed": false
   }
  }
 ],
 "metadata": {
  "kernelspec": {
   "display_name": "Python 3",
   "language": "python",
   "name": "python3"
  },
  "language_info": {
   "codemirror_mode": {
    "name": "ipython",
    "version": 2
   },
   "file_extension": ".py",
   "mimetype": "text/x-python",
   "name": "python",
   "nbconvert_exporter": "python",
   "pygments_lexer": "ipython2",
   "version": "2.7.6"
  }
 },
 "nbformat": 4,
 "nbformat_minor": 0
}
