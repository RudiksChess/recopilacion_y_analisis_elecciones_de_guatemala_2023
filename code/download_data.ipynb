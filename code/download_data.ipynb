{
 "cells": [
  {
   "cell_type": "code",
   "execution_count": 1,
   "metadata": {
    "collapsed": true,
    "ExecuteTime": {
     "end_time": "2023-07-02T06:36:33.076110Z",
     "start_time": "2023-07-02T06:36:32.625874Z"
    }
   },
   "outputs": [],
   "source": [
    "from bs4 import BeautifulSoup\n",
    "import os\n",
    "import pandas as pd\n",
    "from selenium import webdriver\n",
    "from selenium.webdriver.support.select import Select\n",
    "from selenium.webdriver.common.by import By\n",
    "from time import sleep\n",
    "from tqdm import tqdm\n",
    "import glob\n",
    "import unidecode\n",
    "import pandas_gbq\n",
    "from google.oauth2 import service_account\n",
    "from selenium.webdriver.chrome.service import Service as ChromeService\n",
    "from webdriver_manager.chrome import ChromeDriverManager\n",
    "import requests\n",
    "import json\n",
    "import time"
   ]
  },
  {
   "cell_type": "code",
   "execution_count": 2,
   "outputs": [],
   "source": [
    "def driversetup():\n",
    "    options = webdriver.ChromeOptions()\n",
    "    #run Selenium in headless mode\n",
    "    options.add_argument('--headless')\n",
    "    options.add_argument('--no-sandbox')\n",
    "    #overcome limited resource problems\n",
    "    ##options.add_argument('--disable-dev-shm-usage')\n",
    "    ##options.add_argument(\"lang=en\")\n",
    "    #open Browser in maximized mode\n",
    "    options.add_argument(\"start-maximized\")\n",
    "    #disable infobars\n",
    "    options.add_argument(\"disable-infobars\")\n",
    "    #disable extension\n",
    "    ##options.add_argument(\"--disable-extensions\")\n",
    "    options.add_argument(\"--incognito\")\n",
    "    ##options.add_argument(\"--disable-blink-features=AutomationControlled\")\n",
    "\n",
    "    driver = webdriver.Chrome(service=ChromeService(ChromeDriverManager().install()),options=options)\n",
    "\n",
    "    #driver.execute_script(\"Object.defineProperty(navigator, 'webdriver', {get: () => undefined});\")\n",
    "\n",
    "    return driver\n",
    "\n"
   ],
   "metadata": {
    "collapsed": false,
    "ExecuteTime": {
     "end_time": "2023-07-02T06:37:44.147940Z",
     "start_time": "2023-07-02T06:37:44.144124Z"
    }
   }
  },
  {
   "cell_type": "code",
   "execution_count": 3,
   "outputs": [],
   "source": [
    "def get_centros(link_a_seccion):\n",
    "    driver = driversetup()\n",
    "    driver.get(link_a_seccion)\n",
    "    sleep(2)\n",
    "    html = driver.page_source # get the page source\n",
    "    soup = BeautifulSoup(html, \"html.parser\")\n",
    "    valores = soup.find_all('option', {'ng-value': 'sec.num'})\n",
    "    centros = []\n",
    "    for linea in valores:\n",
    "        centros.append(int(linea.text))\n",
    "    return centros"
   ],
   "metadata": {
    "collapsed": false,
    "ExecuteTime": {
     "end_time": "2023-07-02T06:37:44.955144Z",
     "start_time": "2023-07-02T06:37:44.952527Z"
    }
   }
  },
  {
   "cell_type": "code",
   "execution_count": 4,
   "outputs": [],
   "source": [
    "def get_mesas(numero_centro):\n",
    "    driver = driversetup()\n",
    "    driver.get(f\"https://trep.gt/#!/tc4/SEC/e0/m1?secNum={numero_centro}\")\n",
    "    sleep(2)\n",
    "    html = driver.page_source\n",
    "    soup = BeautifulSoup(html, \"html.parser\")\n",
    "    valores = soup.find_all('option', {'ng-value': 'cas.tipoId'})\n",
    "\n",
    "    mesas_finales = []\n",
    "    for linea in valores:\n",
    "        mesas_finales.append(int(linea.text))\n",
    "\n",
    "    return mesas_finales\n"
   ],
   "metadata": {
    "collapsed": false,
    "ExecuteTime": {
     "end_time": "2023-07-02T06:37:45.569081Z",
     "start_time": "2023-07-02T06:37:45.562862Z"
    }
   }
  },
  {
   "cell_type": "markdown",
   "source": [
    "# Obtener datos de centros y mesas\n",
    "En esta sección se guardan en .json los datos de los centros y mesas"
   ],
   "metadata": {
    "collapsed": false
   }
  },
  {
   "cell_type": "code",
   "execution_count": 5,
   "outputs": [
    {
     "data": {
      "text/plain": "'\\ncentros = get_centros(\"https://trep.gt/#!/tc4/DIV/e0/m1\")\\ndatos_completos = []\\nfor centro in centros:\\n    mesas = get_mesas(centro)\\n    datos_completos.append([centro, mesas])\\n\\nwith open(\"/Users/rudikrompich/Git/recopilacion_y_analisis_elecciones_de_guatemala_2023/intermediate_data/centros_mesas.json\", \\'w\\') as f:\\n    json.dump(datos_completos, f, indent=2)\\n    '"
     },
     "execution_count": 5,
     "metadata": {},
     "output_type": "execute_result"
    }
   ],
   "source": [
    "\"\"\"\n",
    "centros = get_centros(\"https://trep.gt/#!/tc4/DIV/e0/m1\")\n",
    "datos_completos = []\n",
    "for centro in centros:\n",
    "    mesas = get_mesas(centro)\n",
    "    datos_completos.append([centro, mesas])\n",
    "\n",
    "with open(\"/Users/rudikrompich/Git/recopilacion_y_analisis_elecciones_de_guatemala_2023/intermediate_data/centros_mesas.json\", 'w') as f:\n",
    "    json.dump(datos_completos, f, indent=2)\n",
    "    \"\"\""
   ],
   "metadata": {
    "collapsed": false,
    "ExecuteTime": {
     "end_time": "2023-07-02T06:37:46.538053Z",
     "start_time": "2023-07-02T06:37:46.533733Z"
    }
   }
  },
  {
   "cell_type": "code",
   "execution_count": 6,
   "outputs": [],
   "source": [
    "with open(\"/Users/rudikrompich/Git/recopilacion_y_analisis_elecciones_de_guatemala_2023/intermediate_data/centros_mesas.json\", 'r') as f:\n",
    "    data_completa_centros_mesas_numeros = json.load(f)"
   ],
   "metadata": {
    "collapsed": false,
    "ExecuteTime": {
     "end_time": "2023-07-02T06:37:47.561624Z",
     "start_time": "2023-07-02T06:37:47.555010Z"
    }
   }
  },
  {
   "cell_type": "code",
   "execution_count": 7,
   "outputs": [],
   "source": [
    "\n",
    "def get_acta_image(centro, mesa):\n",
    "    driver = driversetup()\n",
    "    driver.get(f\"https://trep.gt/#!/tc4/CAS/e0/m1/{centro}?casId=M{mesa}\")\n",
    "    sleep(2)\n",
    "    driver.find_element('xpath','//*[@id=\"ngview\"]/div/main/section[2]/div[1]/div[1]/button').click()\n",
    "    html = driver.page_source\n",
    "    soup = BeautifulSoup(html, \"html.parser\")\n",
    "    images= soup.find_all('img')\n",
    "    response = requests.get('https://trep.gt'+images[-1]['src'])\n",
    "    time.sleep(3)\n",
    "\n",
    "    with open(f'/Users/rudikrompich/dialogos_storage/elecciones_2023/corporacion_municipal/distrito_central/acta_centro_{centro}_mesa_{mesa}.jpg', 'wb') as f:\n",
    "        f.write(response.content)"
   ],
   "metadata": {
    "collapsed": false,
    "ExecuteTime": {
     "end_time": "2023-07-02T06:37:49.000178Z",
     "start_time": "2023-07-02T06:37:48.991440Z"
    }
   }
  },
  {
   "cell_type": "markdown",
   "source": [
    "# Obtener actas"
   ],
   "metadata": {
    "collapsed": false
   }
  },
  {
   "cell_type": "code",
   "execution_count": 8,
   "outputs": [
    {
     "data": {
      "text/plain": "[[70,\n  [886, 887, 888, 889, 890, 891, 892, 893, 894, 895, 896, 897, 898, 899, 900]],\n [71,\n  [901,\n   902,\n   903,\n   904,\n   905,\n   906,\n   907,\n   908,\n   909,\n   910,\n   911,\n   912,\n   913,\n   914,\n   915,\n   916,\n   917]],\n [72,\n  [918,\n   919,\n   920,\n   921,\n   922,\n   923,\n   924,\n   925,\n   926,\n   927,\n   928,\n   929,\n   930,\n   931,\n   932,\n   933,\n   934,\n   935,\n   936]],\n [73, [937, 938, 939, 940, 941, 942]],\n [74, [943, 944, 945, 946, 947, 948, 949]],\n [75, [950, 951, 952, 953, 954, 955, 956]],\n [76,\n  [957,\n   958,\n   959,\n   960,\n   961,\n   962,\n   963,\n   964,\n   965,\n   966,\n   967,\n   968,\n   969,\n   970,\n   971,\n   972]],\n [77, [973, 974, 975]],\n [78,\n  [976,\n   977,\n   978,\n   979,\n   980,\n   981,\n   982,\n   983,\n   984,\n   985,\n   986,\n   987,\n   988,\n   989,\n   990,\n   991,\n   992,\n   993]],\n [79,\n  [994,\n   995,\n   996,\n   997,\n   998,\n   999,\n   1000,\n   1001,\n   1002,\n   1003,\n   1004,\n   1005,\n   1006,\n   1007]],\n [80,\n  [1008,\n   1009,\n   1010,\n   1011,\n   1012,\n   1013,\n   1014,\n   1015,\n   1016,\n   1017,\n   1018,\n   1019,\n   1020,\n   1021,\n   1022,\n   1023,\n   1024,\n   1025,\n   1026,\n   1027,\n   1028]],\n [81,\n  [1029,\n   1030,\n   1031,\n   1032,\n   1033,\n   1034,\n   1035,\n   1036,\n   1037,\n   1038,\n   1039,\n   1040,\n   1041,\n   1042,\n   1043,\n   1044,\n   1045,\n   1046,\n   1047,\n   1048]],\n [82,\n  [1049,\n   1050,\n   1051,\n   1052,\n   1053,\n   1054,\n   1055,\n   1056,\n   1057,\n   1058,\n   1059,\n   1060,\n   1061,\n   1062,\n   1063,\n   1064,\n   1065,\n   1066,\n   1067,\n   1068,\n   1069,\n   1070,\n   1071,\n   1072,\n   1073,\n   1074,\n   1075,\n   1076,\n   1077]],\n [83,\n  [1078,\n   1079,\n   1080,\n   1081,\n   1082,\n   1083,\n   1084,\n   1085,\n   1086,\n   1087,\n   1088,\n   1089,\n   1090,\n   1091,\n   1092,\n   1093,\n   1094,\n   1095,\n   1096,\n   1097,\n   1098,\n   1099,\n   1100,\n   1101]],\n [84,\n  [1102,\n   1103,\n   1104,\n   1105,\n   1106,\n   1107,\n   1108,\n   1109,\n   1110,\n   1111,\n   1112,\n   1113,\n   1114,\n   1115,\n   1116,\n   1117,\n   1118,\n   1119,\n   1120,\n   1121,\n   1122]],\n [85,\n  [1123,\n   1124,\n   1125,\n   1126,\n   1127,\n   1128,\n   1129,\n   1130,\n   1131,\n   1132,\n   1133,\n   1134,\n   1135,\n   1136,\n   1137]],\n [86, [1138, 1139, 1140, 1141, 1142, 1143, 1144, 1145, 1146, 1147]],\n [87, [1148, 1149, 1150]],\n [88,\n  [1151, 1152, 1153, 1154, 1155, 1156, 1157, 1158, 1159, 1160, 1161, 1162]],\n [89,\n  [1163,\n   1164,\n   1165,\n   1166,\n   1167,\n   1168,\n   1169,\n   1170,\n   1171,\n   1172,\n   1173,\n   1174,\n   1175,\n   1176,\n   1177,\n   1178,\n   1179,\n   1180,\n   1181,\n   1182,\n   1183,\n   1184,\n   1185,\n   1186,\n   1187,\n   1188,\n   1189,\n   1190,\n   1191,\n   1192,\n   1193,\n   1194,\n   1195,\n   1196,\n   1197,\n   1198,\n   1199,\n   1200,\n   1201]],\n [90, [1202, 1203, 1204, 1205, 1206, 1207, 1208, 1209, 1210, 1211, 1212]],\n [91,\n  [1213,\n   1214,\n   1215,\n   1216,\n   1217,\n   1218,\n   1219,\n   1220,\n   1221,\n   1222,\n   1223,\n   1224,\n   1225,\n   1226,\n   1227,\n   1228,\n   1229,\n   1230,\n   1231,\n   1232,\n   1233,\n   1234,\n   1235]],\n [92,\n  [1236,\n   1237,\n   1238,\n   1239,\n   1240,\n   1241,\n   1242,\n   1243,\n   1244,\n   1245,\n   1246,\n   1247,\n   1248,\n   1249,\n   1250,\n   1251]],\n [93,\n  [1252, 1253, 1254, 1255, 1256, 1257, 1258, 1259, 1260, 1261, 1262, 1263]],\n [94,\n  [1264,\n   1265,\n   1266,\n   1267,\n   1268,\n   1269,\n   1270,\n   1271,\n   1272,\n   1273,\n   1274,\n   1275,\n   1276]],\n [95, [1277, 1278, 1279, 1280, 1281, 1282, 1283, 1284, 1285, 1286]],\n [96,\n  [1287,\n   1288,\n   1289,\n   1290,\n   1291,\n   1292,\n   1293,\n   1294,\n   1295,\n   1296,\n   1297,\n   1298,\n   1299,\n   1300,\n   1301]],\n [97, [1302, 1303, 1304, 1305]],\n [98, [1306, 1307, 1308]],\n [99, [1309, 1310, 1311, 1312, 1313, 1314, 1315, 1316, 1317, 1318]],\n [100, [1319, 1320, 1321, 1322, 1323, 1324, 1325, 1326, 1327, 1328]],\n [101, [1329, 1330, 1331, 1332]],\n [102,\n  [1333,\n   1334,\n   1335,\n   1336,\n   1337,\n   1338,\n   1339,\n   1340,\n   1341,\n   1342,\n   1343,\n   1344,\n   1345,\n   1346,\n   1347,\n   1348,\n   1349,\n   1350,\n   1351,\n   1352,\n   1353,\n   1354,\n   1355,\n   1356,\n   1357,\n   1358,\n   1359,\n   1360,\n   1361,\n   1362]],\n [103,\n  [1363,\n   1364,\n   1365,\n   1366,\n   1367,\n   1368,\n   1369,\n   1370,\n   1371,\n   1372,\n   1373,\n   1374,\n   1375,\n   1376,\n   1377,\n   1378,\n   1379,\n   1380,\n   1381,\n   1382,\n   1383,\n   1384,\n   1385,\n   1386]],\n [104,\n  [1387,\n   1388,\n   1389,\n   1390,\n   1391,\n   1392,\n   1393,\n   1394,\n   1395,\n   1396,\n   1397,\n   1398,\n   1399,\n   1400,\n   1401,\n   1402,\n   1403,\n   1404,\n   1405,\n   1406,\n   1407,\n   1408]],\n [105,\n  [1409,\n   1410,\n   1411,\n   1412,\n   1413,\n   1414,\n   1415,\n   1416,\n   1417,\n   1418,\n   1419,\n   1420,\n   1421,\n   1422,\n   1423,\n   1424,\n   1425,\n   1426]],\n [106,\n  [1427,\n   1428,\n   1429,\n   1430,\n   1431,\n   1432,\n   1433,\n   1434,\n   1435,\n   1436,\n   1437,\n   1438,\n   1439,\n   1440,\n   1441,\n   1442,\n   1443,\n   1444,\n   1445,\n   1446,\n   1447,\n   1448,\n   1449,\n   1450,\n   1451]],\n [107,\n  [1452,\n   1453,\n   1454,\n   1455,\n   1456,\n   1457,\n   1458,\n   1459,\n   1460,\n   1461,\n   1462,\n   1463,\n   1464,\n   1465,\n   1466,\n   1467,\n   1468,\n   1469,\n   1470,\n   1471,\n   1472]],\n [108, [1473, 1474, 1475, 1476, 1477, 1478, 1479]],\n [109, [1480, 1481, 1482, 1483, 1484, 1485, 1486, 1487]],\n [110, [1488, 1489, 1490, 1491, 1492, 1493, 1494, 1495, 1496]],\n [111,\n  [1497,\n   1498,\n   1499,\n   1500,\n   1501,\n   1502,\n   1503,\n   1504,\n   1505,\n   1506,\n   1507,\n   1508,\n   1509,\n   1510,\n   1511,\n   1512,\n   1513,\n   1514,\n   1515,\n   1516,\n   1517,\n   1518,\n   1519,\n   1520,\n   1521,\n   1522,\n   1523,\n   1524]],\n [112,\n  [1525,\n   1526,\n   1527,\n   1528,\n   1529,\n   1530,\n   1531,\n   1532,\n   1533,\n   1534,\n   1535,\n   1536,\n   1537,\n   1538,\n   1539]],\n [113, [1540, 1541, 1542, 1543, 1544, 1545]],\n [114,\n  [1546,\n   1547,\n   1548,\n   1549,\n   1550,\n   1551,\n   1552,\n   1553,\n   1554,\n   1555,\n   1556,\n   1557,\n   1558,\n   1559,\n   1560,\n   1561,\n   1562,\n   1563,\n   1564,\n   1565,\n   1566,\n   1567,\n   1568,\n   1569,\n   1570,\n   1571,\n   1572,\n   1573,\n   1574,\n   1575,\n   1576,\n   1577,\n   1578,\n   1579,\n   1580,\n   1581,\n   1582,\n   1583]],\n [115,\n  [1584,\n   1585,\n   1586,\n   1587,\n   1588,\n   1589,\n   1590,\n   1591,\n   1592,\n   1593,\n   1594,\n   1595,\n   1596,\n   1597]],\n [116,\n  [1598,\n   1599,\n   1600,\n   1601,\n   1602,\n   1603,\n   1604,\n   1605,\n   1606,\n   1607,\n   1608,\n   1609,\n   1610,\n   1611,\n   1612,\n   1613,\n   1614,\n   1615,\n   1616,\n   1617,\n   1618,\n   1619,\n   1620,\n   1621,\n   1622,\n   1623,\n   1624,\n   1625,\n   1626,\n   1627]],\n [117,\n  [1628,\n   1629,\n   1630,\n   1631,\n   1632,\n   1633,\n   1634,\n   1635,\n   1636,\n   1637,\n   1638,\n   1639,\n   1640,\n   1641,\n   1642,\n   1643,\n   1644,\n   1645,\n   1646,\n   1647,\n   1648]],\n [118,\n  [1649,\n   1650,\n   1651,\n   1652,\n   1653,\n   1654,\n   1655,\n   1656,\n   1657,\n   1658,\n   1659,\n   1660,\n   1661,\n   1662,\n   1663]],\n [119,\n  [1664,\n   1665,\n   1666,\n   1667,\n   1668,\n   1669,\n   1670,\n   1671,\n   1672,\n   1673,\n   1674,\n   1675,\n   1676,\n   1677,\n   1678,\n   1679]],\n [120, [1680, 1681, 1682, 1683, 1684, 1685, 1686, 1687, 1688]],\n [121,\n  [1689,\n   1690,\n   1691,\n   1692,\n   1693,\n   1694,\n   1695,\n   1696,\n   1697,\n   1698,\n   1699,\n   1700,\n   1701,\n   1702,\n   1703,\n   1704,\n   1705,\n   1706]],\n [122, [1707, 1708, 1709, 1710, 1711]],\n [123,\n  [1712,\n   1713,\n   1714,\n   1715,\n   1716,\n   1717,\n   1718,\n   1719,\n   1720,\n   1721,\n   1722,\n   1723,\n   1724,\n   1725,\n   1726,\n   1727,\n   1728,\n   1729,\n   1730,\n   1731]],\n [124, [1732, 1733, 1734, 1735, 1736, 1737, 1738, 1739, 1740, 1741]],\n [125,\n  [1742,\n   1743,\n   1744,\n   1745,\n   1746,\n   1747,\n   1748,\n   1749,\n   1750,\n   1751,\n   1752,\n   1753,\n   1754,\n   1755,\n   1756,\n   1757,\n   1758,\n   1759,\n   1760,\n   1761,\n   1762]],\n [126,\n  [1763,\n   1764,\n   1765,\n   1766,\n   1767,\n   1768,\n   1769,\n   1770,\n   1771,\n   1772,\n   1773,\n   1774,\n   1775,\n   1776,\n   1777,\n   1778,\n   1779,\n   1780,\n   1781,\n   1782,\n   1783,\n   1784,\n   1785,\n   1786,\n   1787,\n   1788]],\n [127,\n  [1789,\n   1790,\n   1791,\n   1792,\n   1793,\n   1794,\n   1795,\n   1796,\n   1797,\n   1798,\n   1799,\n   1800,\n   1801,\n   1802,\n   1803,\n   1804]],\n [128, [1805, 1806, 1807, 1808, 1809, 1810, 1811, 1812, 1813]],\n [129, [1814, 1815, 1816, 1817, 1818, 1819, 1820, 1821, 1822, 1823]],\n [130, [1824, 1825, 1826, 1827, 1828, 1829, 1830, 1831, 1832, 1833, 1834]],\n [131, [1835, 1836, 1837, 1838, 1839, 1840, 1841, 1842, 1843, 1844, 1845]],\n [132, [1846, 1847, 1848, 1849, 1850, 1851, 1852, 1853, 1854, 1855]],\n [133, [1856, 1857, 1858, 1859, 1860]],\n [134, [1861, 1862, 1863, 1864, 1865, 1866]],\n [135,\n  [1867, 1868, 1869, 1870, 1871, 1872, 1873, 1874, 1875, 1876, 1877, 1878]],\n [136,\n  [1879, 1880, 1881, 1882, 1883, 1884, 1885, 1886, 1887, 1888, 1889, 1890]],\n [137, [1891, 1892, 1893, 1894]],\n [138, [1895, 1896, 1897, 1898, 1899, 1900]],\n [139, [1901, 1902, 1903, 1904, 1905, 1906, 1907, 1908]],\n [140, [1909, 1910, 1911, 1912, 1913, 1914]],\n [141, [1915, 1916, 1917, 1918, 1919, 1920, 1921]],\n [142,\n  [1922,\n   1923,\n   1924,\n   1925,\n   1926,\n   1927,\n   1928,\n   1929,\n   1930,\n   1931,\n   1932,\n   1933,\n   1934,\n   1935,\n   1936]],\n [143, [1937, 1938, 1939, 1940, 1941, 1942]],\n [144, [1943, 1944, 1945, 1946, 1947, 1948]],\n [145, [1949, 1950, 1951, 1952, 1953]],\n [146, [1954, 1955, 1956, 1957, 1958, 1959]],\n [147,\n  [1960,\n   1961,\n   1962,\n   1963,\n   1964,\n   1965,\n   1966,\n   1967,\n   1968,\n   1969,\n   1970,\n   1971,\n   1972,\n   1973,\n   1974,\n   1975,\n   1976,\n   1977,\n   1978,\n   1979]],\n [148, [1980, 1981, 1982, 1983, 1984]],\n [149, [1985, 1986, 1987, 1988, 1989, 1990, 1991, 1992, 1993, 1994]],\n [150, [1995, 1996, 1997, 1998, 1999, 2000, 2001, 2002, 2003]],\n [151, [2004, 2005, 2006, 2007, 2008, 2009, 2010, 2011, 2012, 2013]],\n [152, [2014, 2015, 2016, 2017, 2018, 2019, 2020, 2021, 2022, 2023]]]"
     },
     "execution_count": 8,
     "metadata": {},
     "output_type": "execute_result"
    }
   ],
   "source": [
    "data_completa_centros_mesas_numeros[69:]"
   ],
   "metadata": {
    "collapsed": false,
    "ExecuteTime": {
     "end_time": "2023-07-02T06:37:51.002767Z",
     "start_time": "2023-07-02T06:37:50.994461Z"
    }
   }
  },
  {
   "cell_type": "code",
   "execution_count": 13,
   "outputs": [],
   "source": [
    "for dato in data_completa_centros_mesas_numeros[148:]:\n",
    "    centro = dato[0]\n",
    "    mesas = dato[1]\n",
    "    for mesa in mesas:\n",
    "        get_acta_image(centro, mesa)"
   ],
   "metadata": {
    "collapsed": false,
    "ExecuteTime": {
     "end_time": "2023-07-02T17:39:52.618678Z",
     "start_time": "2023-07-02T17:35:07.090088Z"
    }
   }
  },
  {
   "cell_type": "code",
   "execution_count": 40,
   "outputs": [],
   "source": [
    "get_acta_image(88, 1161)"
   ],
   "metadata": {
    "collapsed": false,
    "ExecuteTime": {
     "end_time": "2023-07-02T17:46:55.515758Z",
     "start_time": "2023-07-02T17:46:48.264123Z"
    }
   }
  },
  {
   "cell_type": "code",
   "execution_count": 18,
   "outputs": [],
   "source": [],
   "metadata": {
    "collapsed": false,
    "ExecuteTime": {
     "end_time": "2023-07-02T17:42:50.575913Z",
     "start_time": "2023-07-02T17:42:50.572673Z"
    }
   }
  },
  {
   "cell_type": "code",
   "execution_count": null,
   "outputs": [],
   "source": [],
   "metadata": {
    "collapsed": false
   }
  }
 ],
 "metadata": {
  "kernelspec": {
   "display_name": "Python 3",
   "language": "python",
   "name": "python3"
  },
  "language_info": {
   "codemirror_mode": {
    "name": "ipython",
    "version": 2
   },
   "file_extension": ".py",
   "mimetype": "text/x-python",
   "name": "python",
   "nbconvert_exporter": "python",
   "pygments_lexer": "ipython2",
   "version": "2.7.6"
  }
 },
 "nbformat": 4,
 "nbformat_minor": 0
}
