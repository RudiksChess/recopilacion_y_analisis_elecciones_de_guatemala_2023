{
 "cells": [
  {
   "cell_type": "code",
   "execution_count": 1,
   "metadata": {
    "collapsed": true,
    "ExecuteTime": {
     "end_time": "2023-07-02T06:36:33.076110Z",
     "start_time": "2023-07-02T06:36:32.625874Z"
    }
   },
   "outputs": [],
   "source": [
    "from bs4 import BeautifulSoup\n",
    "import os\n",
    "import pandas as pd\n",
    "from selenium import webdriver\n",
    "from selenium.webdriver.support.select import Select\n",
    "from selenium.webdriver.common.by import By\n",
    "from time import sleep\n",
    "from tqdm import tqdm\n",
    "import glob\n",
    "import unidecode\n",
    "import pandas_gbq\n",
    "from google.oauth2 import service_account\n",
    "from selenium.webdriver.chrome.service import Service as ChromeService\n",
    "from webdriver_manager.chrome import ChromeDriverManager\n",
    "import requests\n",
    "import json\n",
    "import time"
   ]
  },
  {
   "cell_type": "code",
   "execution_count": 2,
   "outputs": [],
   "source": [
    "def driversetup():\n",
    "    options = webdriver.ChromeOptions()\n",
    "    #run Selenium in headless mode\n",
    "    options.add_argument('--headless')\n",
    "    options.add_argument('--no-sandbox')\n",
    "    #overcome limited resource problems\n",
    "    ##options.add_argument('--disable-dev-shm-usage')\n",
    "    ##options.add_argument(\"lang=en\")\n",
    "    #open Browser in maximized mode\n",
    "    options.add_argument(\"start-maximized\")\n",
    "    #disable infobars\n",
    "    options.add_argument(\"disable-infobars\")\n",
    "    #disable extension\n",
    "    ##options.add_argument(\"--disable-extensions\")\n",
    "    options.add_argument(\"--incognito\")\n",
    "    ##options.add_argument(\"--disable-blink-features=AutomationControlled\")\n",
    "\n",
    "    driver = webdriver.Chrome(service=ChromeService(ChromeDriverManager().install()),options=options)\n",
    "\n",
    "    #driver.execute_script(\"Object.defineProperty(navigator, 'webdriver', {get: () => undefined});\")\n",
    "\n",
    "    return driver\n",
    "\n"
   ],
   "metadata": {
    "collapsed": false,
    "ExecuteTime": {
     "end_time": "2023-07-02T06:37:44.147940Z",
     "start_time": "2023-07-02T06:37:44.144124Z"
    }
   }
  },
  {
   "cell_type": "code",
   "execution_count": 3,
   "outputs": [],
   "source": [
    "def get_centros(link_a_seccion):\n",
    "    driver = driversetup()\n",
    "    driver.get(link_a_seccion)\n",
    "    sleep(2)\n",
    "    html = driver.page_source # get the page source\n",
    "    soup = BeautifulSoup(html, \"html.parser\")\n",
    "    valores = soup.find_all('option', {'ng-value': 'sec.num'})\n",
    "    centros = []\n",
    "    for linea in valores:\n",
    "        centros.append(int(linea.text))\n",
    "    return centros"
   ],
   "metadata": {
    "collapsed": false,
    "ExecuteTime": {
     "end_time": "2023-07-02T06:37:44.955144Z",
     "start_time": "2023-07-02T06:37:44.952527Z"
    }
   }
  },
  {
   "cell_type": "code",
   "execution_count": 4,
   "outputs": [],
   "source": [
    "def get_mesas(numero_centro):\n",
    "    driver = driversetup()\n",
    "    driver.get(f\"https://trep.gt/#!/tc4/SEC/e0/m1?secNum={numero_centro}\")\n",
    "    sleep(2)\n",
    "    html = driver.page_source\n",
    "    soup = BeautifulSoup(html, \"html.parser\")\n",
    "    valores = soup.find_all('option', {'ng-value': 'cas.tipoId'})\n",
    "\n",
    "    mesas_finales = []\n",
    "    for linea in valores:\n",
    "        mesas_finales.append(int(linea.text))\n",
    "\n",
    "    return mesas_finales\n"
   ],
   "metadata": {
    "collapsed": false,
    "ExecuteTime": {
     "end_time": "2023-07-02T06:37:45.569081Z",
     "start_time": "2023-07-02T06:37:45.562862Z"
    }
   }
  },
  {
   "cell_type": "markdown",
   "source": [
    "# Obtener datos de centros y mesas\n",
    "En esta sección se guardan en .json los datos de los centros y mesas"
   ],
   "metadata": {
    "collapsed": false
   }
  },
  {
   "cell_type": "code",
   "execution_count": 5,
   "outputs": [
    {
     "data": {
      "text/plain": "'\\ncentros = get_centros(\"https://trep.gt/#!/tc4/DIV/e0/m1\")\\ndatos_completos = []\\nfor centro in centros:\\n    mesas = get_mesas(centro)\\n    datos_completos.append([centro, mesas])\\n\\nwith open(\"/Users/rudikrompich/Git/recopilacion_y_analisis_elecciones_de_guatemala_2023/intermediate_data/centros_mesas.json\", \\'w\\') as f:\\n    json.dump(datos_completos, f, indent=2)\\n    '"
     },
     "execution_count": 5,
     "metadata": {},
     "output_type": "execute_result"
    }
   ],
   "source": [
    "\"\"\"\n",
    "centros = get_centros(\"https://trep.gt/#!/tc4/DIV/e0/m1\")\n",
    "datos_completos = []\n",
    "for centro in centros:\n",
    "    mesas = get_mesas(centro)\n",
    "    datos_completos.append([centro, mesas])\n",
    "\n",
    "with open(\"/Users/rudikrompich/Git/recopilacion_y_analisis_elecciones_de_guatemala_2023/intermediate_data/centros_mesas.json\", 'w') as f:\n",
    "    json.dump(datos_completos, f, indent=2)\n",
    "    \"\"\""
   ],
   "metadata": {
    "collapsed": false,
    "ExecuteTime": {
     "end_time": "2023-07-02T06:37:46.538053Z",
     "start_time": "2023-07-02T06:37:46.533733Z"
    }
   }
  },
  {
   "cell_type": "code",
   "execution_count": 6,
   "outputs": [],
   "source": [
    "with open(\"/Users/rudikrompich/Git/recopilacion_y_analisis_elecciones_de_guatemala_2023/intermediate_data/centros_mesas.json\", 'r') as f:\n",
    "    data_completa_centros_mesas_numeros = json.load(f)"
   ],
   "metadata": {
    "collapsed": false,
    "ExecuteTime": {
     "end_time": "2023-07-02T06:37:47.561624Z",
     "start_time": "2023-07-02T06:37:47.555010Z"
    }
   }
  },
  {
   "cell_type": "code",
   "execution_count": 7,
   "outputs": [],
   "source": [
    "\n",
    "def get_acta_image(centro, mesa):\n",
    "    driver = driversetup()\n",
    "    driver.get(f\"https://trep.gt/#!/tc4/CAS/e0/m1/{centro}?casId=M{mesa}\")\n",
    "    sleep(2)\n",
    "    driver.find_element('xpath','//*[@id=\"ngview\"]/div/main/section[2]/div[1]/div[1]/button').click()\n",
    "    html = driver.page_source\n",
    "    soup = BeautifulSoup(html, \"html.parser\")\n",
    "    images= soup.find_all('img')\n",
    "    response = requests.get('https://trep.gt'+images[-1]['src'])\n",
    "    time.sleep(3)\n",
    "\n",
    "    with open(f'/Users/rudikrompich/dialogos_storage/elecciones_2023/corporacion_municipal/distrito_central/acta_centro_{centro}_mesa_{mesa}.jpg', 'wb') as f:\n",
    "        f.write(response.content)"
   ],
   "metadata": {
    "collapsed": false,
    "ExecuteTime": {
     "end_time": "2023-07-02T06:37:49.000178Z",
     "start_time": "2023-07-02T06:37:48.991440Z"
    }
   }
  },
  {
   "cell_type": "markdown",
   "source": [
    "# Obtener actas"
   ],
   "metadata": {
    "collapsed": false
   }
  },
  {
   "cell_type": "code",
   "execution_count": null,
   "outputs": [],
   "source": [
    "data_completa_centros_mesas_numeros[69:]"
   ],
   "metadata": {
    "collapsed": false
   }
  },
  {
   "cell_type": "code",
   "execution_count": 13,
   "outputs": [],
   "source": [
    "for dato in data_completa_centros_mesas_numeros[148:]:\n",
    "    centro = dato[0]\n",
    "    mesas = dato[1]\n",
    "    for mesa in mesas:\n",
    "        get_acta_image(centro, mesa)"
   ],
   "metadata": {
    "collapsed": false,
    "ExecuteTime": {
     "end_time": "2023-07-02T17:39:52.618678Z",
     "start_time": "2023-07-02T17:35:07.090088Z"
    }
   }
  },
  {
   "cell_type": "code",
   "execution_count": 40,
   "outputs": [],
   "source": [
    "get_acta_image(88, 1161)"
   ],
   "metadata": {
    "collapsed": false,
    "ExecuteTime": {
     "end_time": "2023-07-02T17:46:55.515758Z",
     "start_time": "2023-07-02T17:46:48.264123Z"
    }
   }
  },
  {
   "cell_type": "code",
   "execution_count": 18,
   "outputs": [],
   "source": [],
   "metadata": {
    "collapsed": false,
    "ExecuteTime": {
     "end_time": "2023-07-02T17:42:50.575913Z",
     "start_time": "2023-07-02T17:42:50.572673Z"
    }
   }
  },
  {
   "cell_type": "code",
   "execution_count": null,
   "outputs": [],
   "source": [],
   "metadata": {
    "collapsed": false
   }
  }
 ],
 "metadata": {
  "kernelspec": {
   "display_name": "Python 3",
   "language": "python",
   "name": "python3"
  },
  "language_info": {
   "codemirror_mode": {
    "name": "ipython",
    "version": 2
   },
   "file_extension": ".py",
   "mimetype": "text/x-python",
   "name": "python",
   "nbconvert_exporter": "python",
   "pygments_lexer": "ipython2",
   "version": "2.7.6"
  }
 },
 "nbformat": 4,
 "nbformat_minor": 0
}
