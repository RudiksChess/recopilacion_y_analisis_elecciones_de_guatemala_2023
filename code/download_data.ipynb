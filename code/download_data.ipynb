{
 "cells": [
  {
   "cell_type": "code",
   "execution_count": 191,
   "metadata": {
    "collapsed": true,
    "ExecuteTime": {
     "end_time": "2023-07-02T02:27:26.122512Z",
     "start_time": "2023-07-02T02:27:26.118187Z"
    }
   },
   "outputs": [],
   "source": [
    "from bs4 import BeautifulSoup\n",
    "import os\n",
    "import pandas as pd\n",
    "from selenium import webdriver\n",
    "from selenium.webdriver.support.select import Select\n",
    "from selenium.webdriver.common.by import By\n",
    "from time import sleep\n",
    "from tqdm import tqdm\n",
    "import glob\n",
    "import unidecode\n",
    "import pandas_gbq\n",
    "from google.oauth2 import service_account\n",
    "from selenium.webdriver.chrome.service import Service as ChromeService\n",
    "from webdriver_manager.chrome import ChromeDriverManager\n",
    "import requests\n",
    "import json\n",
    "import time"
   ]
  },
  {
   "cell_type": "code",
   "execution_count": 170,
   "outputs": [],
   "source": [
    "def driversetup():\n",
    "    options = webdriver.ChromeOptions()\n",
    "    #run Selenium in headless mode\n",
    "    options.add_argument('--headless')\n",
    "    options.add_argument('--no-sandbox')\n",
    "    #overcome limited resource problems\n",
    "    ##options.add_argument('--disable-dev-shm-usage')\n",
    "    ##options.add_argument(\"lang=en\")\n",
    "    #open Browser in maximized mode\n",
    "    options.add_argument(\"start-maximized\")\n",
    "    #disable infobars\n",
    "    options.add_argument(\"disable-infobars\")\n",
    "    #disable extension\n",
    "    ##options.add_argument(\"--disable-extensions\")\n",
    "    options.add_argument(\"--incognito\")\n",
    "    ##options.add_argument(\"--disable-blink-features=AutomationControlled\")\n",
    "\n",
    "    driver = webdriver.Chrome(service=ChromeService(ChromeDriverManager().install()),options=options)\n",
    "\n",
    "    #driver.execute_script(\"Object.defineProperty(navigator, 'webdriver', {get: () => undefined});\")\n",
    "\n",
    "    return driver\n",
    "\n"
   ],
   "metadata": {
    "collapsed": false,
    "ExecuteTime": {
     "end_time": "2023-07-02T00:53:07.679974Z",
     "start_time": "2023-07-02T00:53:07.660661Z"
    }
   }
  },
  {
   "cell_type": "code",
   "execution_count": 171,
   "outputs": [],
   "source": [
    "def get_centros(link_a_seccion):\n",
    "    driver = driversetup()\n",
    "    driver.get(link_a_seccion)\n",
    "    sleep(2)\n",
    "    html = driver.page_source # get the page source\n",
    "    soup = BeautifulSoup(html, \"html.parser\")\n",
    "    valores = soup.find_all('option', {'ng-value': 'sec.num'})\n",
    "    centros = []\n",
    "    for linea in valores:\n",
    "        centros.append(int(linea.text))\n",
    "    return centros"
   ],
   "metadata": {
    "collapsed": false,
    "ExecuteTime": {
     "end_time": "2023-07-02T00:53:09.895139Z",
     "start_time": "2023-07-02T00:53:09.891841Z"
    }
   }
  },
  {
   "cell_type": "code",
   "execution_count": 172,
   "outputs": [],
   "source": [
    "def get_mesas(numero_centro):\n",
    "    driver = driversetup()\n",
    "    driver.get(f\"https://trep.gt/#!/tc4/SEC/e0/m1?secNum={numero_centro}\")\n",
    "    sleep(2)\n",
    "    html = driver.page_source\n",
    "    soup = BeautifulSoup(html, \"html.parser\")\n",
    "    valores = soup.find_all('option', {'ng-value': 'cas.tipoId'})\n",
    "\n",
    "    mesas_finales = []\n",
    "    for linea in valores:\n",
    "        mesas_finales.append(int(linea.text))\n",
    "\n",
    "    return mesas_finales\n"
   ],
   "metadata": {
    "collapsed": false,
    "ExecuteTime": {
     "end_time": "2023-07-02T00:53:10.061801Z",
     "start_time": "2023-07-02T00:53:10.059027Z"
    }
   }
  },
  {
   "cell_type": "markdown",
   "source": [
    "# Obtener datos de centros y mesas\n",
    "En esta sección se guardan en .json los datos de los centros y mesas"
   ],
   "metadata": {
    "collapsed": false
   }
  },
  {
   "cell_type": "code",
   "execution_count": 151,
   "outputs": [
    {
     "data": {
      "text/plain": "[1,\n 2,\n 3,\n 4,\n 5,\n 6,\n 7,\n 8,\n 9,\n 10,\n 11,\n 12,\n 13,\n 14,\n 15,\n 16,\n 17,\n 18,\n 19,\n 20,\n 21,\n 22,\n 23,\n 24,\n 25,\n 26,\n 27,\n 28,\n 29,\n 30,\n 31,\n 32,\n 33,\n 34,\n 35,\n 36,\n 37,\n 38,\n 39,\n 40,\n 41,\n 42,\n 43,\n 44,\n 45,\n 46,\n 47,\n 48,\n 49,\n 50,\n 51,\n 52,\n 53,\n 54,\n 55,\n 56,\n 57,\n 58,\n 59,\n 60,\n 61,\n 62,\n 63,\n 64,\n 65,\n 66,\n 67,\n 68,\n 69,\n 70,\n 71,\n 72,\n 73,\n 74,\n 75,\n 76,\n 77,\n 78,\n 79,\n 80,\n 81,\n 82,\n 83,\n 84,\n 85,\n 86,\n 87,\n 88,\n 89,\n 90,\n 91,\n 92,\n 93,\n 94,\n 95,\n 96,\n 97,\n 98,\n 99,\n 100,\n 101,\n 102,\n 103,\n 104,\n 105,\n 106,\n 107,\n 108,\n 109,\n 110,\n 111,\n 112,\n 113,\n 114,\n 115,\n 116,\n 117,\n 118,\n 119,\n 120,\n 121,\n 122,\n 123,\n 124,\n 125,\n 126,\n 127,\n 128,\n 129,\n 130,\n 131,\n 132,\n 133,\n 134,\n 135,\n 136,\n 137,\n 138,\n 139,\n 140,\n 141,\n 142,\n 143,\n 144,\n 145,\n 146,\n 147,\n 148,\n 149,\n 150,\n 151,\n 152]"
     },
     "execution_count": 151,
     "metadata": {},
     "output_type": "execute_result"
    }
   ],
   "source": [
    "centros = get_centros(\"https://trep.gt/#!/tc4/DIV/e0/m1\")\n",
    "datos_completos = []\n",
    "for centro in centros:\n",
    "    mesas = get_mesas(centro)\n",
    "    datos_completos.append([centro, mesas])\n",
    "\n",
    "with open(\"/Users/rudikrompich/Git/recopilacion_y_analisis_elecciones_de_guatemala_2023/intermediate_data/centros_mesas.json\", 'w') as f:\n",
    "    json.dump(datos_completos, f, indent=2)"
   ],
   "metadata": {
    "collapsed": false,
    "ExecuteTime": {
     "end_time": "2023-07-02T00:39:48.083125Z",
     "start_time": "2023-07-02T00:39:43.962386Z"
    }
   }
  },
  {
   "cell_type": "code",
   "execution_count": 183,
   "outputs": [],
   "source": [
    "with open(\"/Users/rudikrompich/Git/recopilacion_y_analisis_elecciones_de_guatemala_2023/intermediate_data/centros_mesas.json\", 'r') as f:\n",
    "    data_completa_centros_mesas_numeros = json.load(f)"
   ],
   "metadata": {
    "collapsed": false,
    "ExecuteTime": {
     "end_time": "2023-07-02T01:38:17.213188Z",
     "start_time": "2023-07-02T01:38:17.212134Z"
    }
   }
  },
  {
   "cell_type": "code",
   "execution_count": 192,
   "outputs": [],
   "source": [
    "\n",
    "def get_acta_image(centro, mesa):\n",
    "    driver = driversetup()\n",
    "    driver.get(f\"https://trep.gt/#!/tc4/CAS/e0/m1/{centro}?casId=M{mesa}\")\n",
    "    sleep(2)\n",
    "    driver.find_element('xpath','//*[@id=\"ngview\"]/div/main/section[2]/div[1]/div[1]/button').click()\n",
    "    html = driver.page_source\n",
    "    soup = BeautifulSoup(html, \"html.parser\")\n",
    "    images= soup.find_all('img')\n",
    "    response = requests.get('https://trep.gt'+images[-1]['src'])\n",
    "    time.sleep(3)\n",
    "\n",
    "    with open(f'/Users/rudikrompich/dialogos_storage/elecciones_2023/corporacion_municipal/distrito_central/acta_centro_{centro}_mesa_{mesa}.jpg', 'wb') as f:\n",
    "        f.write(response.content)"
   ],
   "metadata": {
    "collapsed": false,
    "ExecuteTime": {
     "end_time": "2023-07-02T02:30:27.199826Z",
     "start_time": "2023-07-02T02:30:27.197026Z"
    }
   }
  },
  {
   "cell_type": "markdown",
   "source": [
    "# Obtener actas"
   ],
   "metadata": {
    "collapsed": false
   }
  },
  {
   "cell_type": "code",
   "execution_count": 193,
   "outputs": [
    {
     "ename": "InvalidURL",
     "evalue": "Failed to parse: https://trep.gtdata:image/gif;base64,R0lGODlhAQABAAD/ACwAAAAAAQABAAACADs=",
     "output_type": "error",
     "traceback": [
      "\u001B[0;31m---------------------------------------------------------------------------\u001B[0m",
      "\u001B[0;31mLocationParseError\u001B[0m                        Traceback (most recent call last)",
      "File \u001B[0;32m~/enviroments/dialogos_python_general/lib/python3.10/site-packages/requests/models.py:434\u001B[0m, in \u001B[0;36mPreparedRequest.prepare_url\u001B[0;34m(self, url, params)\u001B[0m\n\u001B[1;32m    433\u001B[0m \u001B[38;5;28;01mtry\u001B[39;00m:\n\u001B[0;32m--> 434\u001B[0m     scheme, auth, host, port, path, query, fragment \u001B[38;5;241m=\u001B[39m \u001B[43mparse_url\u001B[49m\u001B[43m(\u001B[49m\u001B[43murl\u001B[49m\u001B[43m)\u001B[49m\n\u001B[1;32m    435\u001B[0m \u001B[38;5;28;01mexcept\u001B[39;00m LocationParseError \u001B[38;5;28;01mas\u001B[39;00m e:\n",
      "File \u001B[0;32m~/enviroments/dialogos_python_general/lib/python3.10/site-packages/urllib3/util/url.py:397\u001B[0m, in \u001B[0;36mparse_url\u001B[0;34m(url)\u001B[0m\n\u001B[1;32m    396\u001B[0m \u001B[38;5;28;01mexcept\u001B[39;00m (\u001B[38;5;167;01mValueError\u001B[39;00m, \u001B[38;5;167;01mAttributeError\u001B[39;00m):\n\u001B[0;32m--> 397\u001B[0m     \u001B[38;5;28;01mreturn\u001B[39;00m \u001B[43msix\u001B[49m\u001B[38;5;241;43m.\u001B[39;49m\u001B[43mraise_from\u001B[49m\u001B[43m(\u001B[49m\u001B[43mLocationParseError\u001B[49m\u001B[43m(\u001B[49m\u001B[43msource_url\u001B[49m\u001B[43m)\u001B[49m\u001B[43m,\u001B[49m\u001B[43m \u001B[49m\u001B[38;5;28;43;01mNone\u001B[39;49;00m\u001B[43m)\u001B[49m\n\u001B[1;32m    399\u001B[0m \u001B[38;5;66;03m# For the sake of backwards compatibility we put empty\u001B[39;00m\n\u001B[1;32m    400\u001B[0m \u001B[38;5;66;03m# string values for path if there are any defined values\u001B[39;00m\n\u001B[1;32m    401\u001B[0m \u001B[38;5;66;03m# beyond the path in the URL.\u001B[39;00m\n\u001B[1;32m    402\u001B[0m \u001B[38;5;66;03m# TODO: Remove this when we break backwards compatibility.\u001B[39;00m\n",
      "File \u001B[0;32m<string>:3\u001B[0m, in \u001B[0;36mraise_from\u001B[0;34m(value, from_value)\u001B[0m\n",
      "\u001B[0;31mLocationParseError\u001B[0m: Failed to parse: https://trep.gtdata:image/gif;base64,R0lGODlhAQABAAD/ACwAAAAAAQABAAACADs=",
      "\nDuring handling of the above exception, another exception occurred:\n",
      "\u001B[0;31mInvalidURL\u001B[0m                                Traceback (most recent call last)",
      "Cell \u001B[0;32mIn[193], line 5\u001B[0m\n\u001B[1;32m      3\u001B[0m mesas \u001B[38;5;241m=\u001B[39m dato[\u001B[38;5;241m1\u001B[39m]\n\u001B[1;32m      4\u001B[0m \u001B[38;5;28;01mfor\u001B[39;00m mesa \u001B[38;5;129;01min\u001B[39;00m mesas:\n\u001B[0;32m----> 5\u001B[0m     \u001B[43mget_acta_image\u001B[49m\u001B[43m(\u001B[49m\u001B[43mcentro\u001B[49m\u001B[43m,\u001B[49m\u001B[43m \u001B[49m\u001B[43mmesa\u001B[49m\u001B[43m)\u001B[49m\n",
      "Cell \u001B[0;32mIn[192], line 9\u001B[0m, in \u001B[0;36mget_acta_image\u001B[0;34m(centro, mesa)\u001B[0m\n\u001B[1;32m      7\u001B[0m soup \u001B[38;5;241m=\u001B[39m BeautifulSoup(html, \u001B[38;5;124m\"\u001B[39m\u001B[38;5;124mhtml.parser\u001B[39m\u001B[38;5;124m\"\u001B[39m)\n\u001B[1;32m      8\u001B[0m images\u001B[38;5;241m=\u001B[39m soup\u001B[38;5;241m.\u001B[39mfind_all(\u001B[38;5;124m'\u001B[39m\u001B[38;5;124mimg\u001B[39m\u001B[38;5;124m'\u001B[39m)\n\u001B[0;32m----> 9\u001B[0m response \u001B[38;5;241m=\u001B[39m \u001B[43mrequests\u001B[49m\u001B[38;5;241;43m.\u001B[39;49m\u001B[43mget\u001B[49m\u001B[43m(\u001B[49m\u001B[38;5;124;43m'\u001B[39;49m\u001B[38;5;124;43mhttps://trep.gt\u001B[39;49m\u001B[38;5;124;43m'\u001B[39;49m\u001B[38;5;241;43m+\u001B[39;49m\u001B[43mimages\u001B[49m\u001B[43m[\u001B[49m\u001B[38;5;241;43m-\u001B[39;49m\u001B[38;5;241;43m1\u001B[39;49m\u001B[43m]\u001B[49m\u001B[43m[\u001B[49m\u001B[38;5;124;43m'\u001B[39;49m\u001B[38;5;124;43msrc\u001B[39;49m\u001B[38;5;124;43m'\u001B[39;49m\u001B[43m]\u001B[49m\u001B[43m)\u001B[49m\n\u001B[1;32m     10\u001B[0m time\u001B[38;5;241m.\u001B[39msleep(\u001B[38;5;241m3\u001B[39m)\n\u001B[1;32m     12\u001B[0m \u001B[38;5;28;01mwith\u001B[39;00m \u001B[38;5;28mopen\u001B[39m(\u001B[38;5;124mf\u001B[39m\u001B[38;5;124m'\u001B[39m\u001B[38;5;124m/Users/rudikrompich/dialogos_storage/elecciones_2023/corporacion_municipal/distrito_central/acta_centro_\u001B[39m\u001B[38;5;132;01m{\u001B[39;00mcentro\u001B[38;5;132;01m}\u001B[39;00m\u001B[38;5;124m_mesa_\u001B[39m\u001B[38;5;132;01m{\u001B[39;00mmesa\u001B[38;5;132;01m}\u001B[39;00m\u001B[38;5;124m.jpg\u001B[39m\u001B[38;5;124m'\u001B[39m, \u001B[38;5;124m'\u001B[39m\u001B[38;5;124mwb\u001B[39m\u001B[38;5;124m'\u001B[39m) \u001B[38;5;28;01mas\u001B[39;00m f:\n",
      "File \u001B[0;32m~/enviroments/dialogos_python_general/lib/python3.10/site-packages/requests/api.py:73\u001B[0m, in \u001B[0;36mget\u001B[0;34m(url, params, **kwargs)\u001B[0m\n\u001B[1;32m     62\u001B[0m \u001B[38;5;28;01mdef\u001B[39;00m \u001B[38;5;21mget\u001B[39m(url, params\u001B[38;5;241m=\u001B[39m\u001B[38;5;28;01mNone\u001B[39;00m, \u001B[38;5;241m*\u001B[39m\u001B[38;5;241m*\u001B[39mkwargs):\n\u001B[1;32m     63\u001B[0m \u001B[38;5;250m    \u001B[39m\u001B[38;5;124mr\u001B[39m\u001B[38;5;124;03m\"\"\"Sends a GET request.\u001B[39;00m\n\u001B[1;32m     64\u001B[0m \n\u001B[1;32m     65\u001B[0m \u001B[38;5;124;03m    :param url: URL for the new :class:`Request` object.\u001B[39;00m\n\u001B[0;32m   (...)\u001B[0m\n\u001B[1;32m     70\u001B[0m \u001B[38;5;124;03m    :rtype: requests.Response\u001B[39;00m\n\u001B[1;32m     71\u001B[0m \u001B[38;5;124;03m    \"\"\"\u001B[39;00m\n\u001B[0;32m---> 73\u001B[0m     \u001B[38;5;28;01mreturn\u001B[39;00m \u001B[43mrequest\u001B[49m\u001B[43m(\u001B[49m\u001B[38;5;124;43m\"\u001B[39;49m\u001B[38;5;124;43mget\u001B[39;49m\u001B[38;5;124;43m\"\u001B[39;49m\u001B[43m,\u001B[49m\u001B[43m \u001B[49m\u001B[43murl\u001B[49m\u001B[43m,\u001B[49m\u001B[43m \u001B[49m\u001B[43mparams\u001B[49m\u001B[38;5;241;43m=\u001B[39;49m\u001B[43mparams\u001B[49m\u001B[43m,\u001B[49m\u001B[43m \u001B[49m\u001B[38;5;241;43m*\u001B[39;49m\u001B[38;5;241;43m*\u001B[39;49m\u001B[43mkwargs\u001B[49m\u001B[43m)\u001B[49m\n",
      "File \u001B[0;32m~/enviroments/dialogos_python_general/lib/python3.10/site-packages/requests/api.py:59\u001B[0m, in \u001B[0;36mrequest\u001B[0;34m(method, url, **kwargs)\u001B[0m\n\u001B[1;32m     55\u001B[0m \u001B[38;5;66;03m# By using the 'with' statement we are sure the session is closed, thus we\u001B[39;00m\n\u001B[1;32m     56\u001B[0m \u001B[38;5;66;03m# avoid leaving sockets open which can trigger a ResourceWarning in some\u001B[39;00m\n\u001B[1;32m     57\u001B[0m \u001B[38;5;66;03m# cases, and look like a memory leak in others.\u001B[39;00m\n\u001B[1;32m     58\u001B[0m \u001B[38;5;28;01mwith\u001B[39;00m sessions\u001B[38;5;241m.\u001B[39mSession() \u001B[38;5;28;01mas\u001B[39;00m session:\n\u001B[0;32m---> 59\u001B[0m     \u001B[38;5;28;01mreturn\u001B[39;00m \u001B[43msession\u001B[49m\u001B[38;5;241;43m.\u001B[39;49m\u001B[43mrequest\u001B[49m\u001B[43m(\u001B[49m\u001B[43mmethod\u001B[49m\u001B[38;5;241;43m=\u001B[39;49m\u001B[43mmethod\u001B[49m\u001B[43m,\u001B[49m\u001B[43m \u001B[49m\u001B[43murl\u001B[49m\u001B[38;5;241;43m=\u001B[39;49m\u001B[43murl\u001B[49m\u001B[43m,\u001B[49m\u001B[43m \u001B[49m\u001B[38;5;241;43m*\u001B[39;49m\u001B[38;5;241;43m*\u001B[39;49m\u001B[43mkwargs\u001B[49m\u001B[43m)\u001B[49m\n",
      "File \u001B[0;32m~/enviroments/dialogos_python_general/lib/python3.10/site-packages/requests/sessions.py:575\u001B[0m, in \u001B[0;36mSession.request\u001B[0;34m(self, method, url, params, data, headers, cookies, files, auth, timeout, allow_redirects, proxies, hooks, stream, verify, cert, json)\u001B[0m\n\u001B[1;32m    562\u001B[0m \u001B[38;5;66;03m# Create the Request.\u001B[39;00m\n\u001B[1;32m    563\u001B[0m req \u001B[38;5;241m=\u001B[39m Request(\n\u001B[1;32m    564\u001B[0m     method\u001B[38;5;241m=\u001B[39mmethod\u001B[38;5;241m.\u001B[39mupper(),\n\u001B[1;32m    565\u001B[0m     url\u001B[38;5;241m=\u001B[39murl,\n\u001B[0;32m   (...)\u001B[0m\n\u001B[1;32m    573\u001B[0m     hooks\u001B[38;5;241m=\u001B[39mhooks,\n\u001B[1;32m    574\u001B[0m )\n\u001B[0;32m--> 575\u001B[0m prep \u001B[38;5;241m=\u001B[39m \u001B[38;5;28;43mself\u001B[39;49m\u001B[38;5;241;43m.\u001B[39;49m\u001B[43mprepare_request\u001B[49m\u001B[43m(\u001B[49m\u001B[43mreq\u001B[49m\u001B[43m)\u001B[49m\n\u001B[1;32m    577\u001B[0m proxies \u001B[38;5;241m=\u001B[39m proxies \u001B[38;5;129;01mor\u001B[39;00m {}\n\u001B[1;32m    579\u001B[0m settings \u001B[38;5;241m=\u001B[39m \u001B[38;5;28mself\u001B[39m\u001B[38;5;241m.\u001B[39mmerge_environment_settings(\n\u001B[1;32m    580\u001B[0m     prep\u001B[38;5;241m.\u001B[39murl, proxies, stream, verify, cert\n\u001B[1;32m    581\u001B[0m )\n",
      "File \u001B[0;32m~/enviroments/dialogos_python_general/lib/python3.10/site-packages/requests/sessions.py:486\u001B[0m, in \u001B[0;36mSession.prepare_request\u001B[0;34m(self, request)\u001B[0m\n\u001B[1;32m    483\u001B[0m     auth \u001B[38;5;241m=\u001B[39m get_netrc_auth(request\u001B[38;5;241m.\u001B[39murl)\n\u001B[1;32m    485\u001B[0m p \u001B[38;5;241m=\u001B[39m PreparedRequest()\n\u001B[0;32m--> 486\u001B[0m \u001B[43mp\u001B[49m\u001B[38;5;241;43m.\u001B[39;49m\u001B[43mprepare\u001B[49m\u001B[43m(\u001B[49m\n\u001B[1;32m    487\u001B[0m \u001B[43m    \u001B[49m\u001B[43mmethod\u001B[49m\u001B[38;5;241;43m=\u001B[39;49m\u001B[43mrequest\u001B[49m\u001B[38;5;241;43m.\u001B[39;49m\u001B[43mmethod\u001B[49m\u001B[38;5;241;43m.\u001B[39;49m\u001B[43mupper\u001B[49m\u001B[43m(\u001B[49m\u001B[43m)\u001B[49m\u001B[43m,\u001B[49m\n\u001B[1;32m    488\u001B[0m \u001B[43m    \u001B[49m\u001B[43murl\u001B[49m\u001B[38;5;241;43m=\u001B[39;49m\u001B[43mrequest\u001B[49m\u001B[38;5;241;43m.\u001B[39;49m\u001B[43murl\u001B[49m\u001B[43m,\u001B[49m\n\u001B[1;32m    489\u001B[0m \u001B[43m    \u001B[49m\u001B[43mfiles\u001B[49m\u001B[38;5;241;43m=\u001B[39;49m\u001B[43mrequest\u001B[49m\u001B[38;5;241;43m.\u001B[39;49m\u001B[43mfiles\u001B[49m\u001B[43m,\u001B[49m\n\u001B[1;32m    490\u001B[0m \u001B[43m    \u001B[49m\u001B[43mdata\u001B[49m\u001B[38;5;241;43m=\u001B[39;49m\u001B[43mrequest\u001B[49m\u001B[38;5;241;43m.\u001B[39;49m\u001B[43mdata\u001B[49m\u001B[43m,\u001B[49m\n\u001B[1;32m    491\u001B[0m \u001B[43m    \u001B[49m\u001B[43mjson\u001B[49m\u001B[38;5;241;43m=\u001B[39;49m\u001B[43mrequest\u001B[49m\u001B[38;5;241;43m.\u001B[39;49m\u001B[43mjson\u001B[49m\u001B[43m,\u001B[49m\n\u001B[1;32m    492\u001B[0m \u001B[43m    \u001B[49m\u001B[43mheaders\u001B[49m\u001B[38;5;241;43m=\u001B[39;49m\u001B[43mmerge_setting\u001B[49m\u001B[43m(\u001B[49m\n\u001B[1;32m    493\u001B[0m \u001B[43m        \u001B[49m\u001B[43mrequest\u001B[49m\u001B[38;5;241;43m.\u001B[39;49m\u001B[43mheaders\u001B[49m\u001B[43m,\u001B[49m\u001B[43m \u001B[49m\u001B[38;5;28;43mself\u001B[39;49m\u001B[38;5;241;43m.\u001B[39;49m\u001B[43mheaders\u001B[49m\u001B[43m,\u001B[49m\u001B[43m \u001B[49m\u001B[43mdict_class\u001B[49m\u001B[38;5;241;43m=\u001B[39;49m\u001B[43mCaseInsensitiveDict\u001B[49m\n\u001B[1;32m    494\u001B[0m \u001B[43m    \u001B[49m\u001B[43m)\u001B[49m\u001B[43m,\u001B[49m\n\u001B[1;32m    495\u001B[0m \u001B[43m    \u001B[49m\u001B[43mparams\u001B[49m\u001B[38;5;241;43m=\u001B[39;49m\u001B[43mmerge_setting\u001B[49m\u001B[43m(\u001B[49m\u001B[43mrequest\u001B[49m\u001B[38;5;241;43m.\u001B[39;49m\u001B[43mparams\u001B[49m\u001B[43m,\u001B[49m\u001B[43m \u001B[49m\u001B[38;5;28;43mself\u001B[39;49m\u001B[38;5;241;43m.\u001B[39;49m\u001B[43mparams\u001B[49m\u001B[43m)\u001B[49m\u001B[43m,\u001B[49m\n\u001B[1;32m    496\u001B[0m \u001B[43m    \u001B[49m\u001B[43mauth\u001B[49m\u001B[38;5;241;43m=\u001B[39;49m\u001B[43mmerge_setting\u001B[49m\u001B[43m(\u001B[49m\u001B[43mauth\u001B[49m\u001B[43m,\u001B[49m\u001B[43m \u001B[49m\u001B[38;5;28;43mself\u001B[39;49m\u001B[38;5;241;43m.\u001B[39;49m\u001B[43mauth\u001B[49m\u001B[43m)\u001B[49m\u001B[43m,\u001B[49m\n\u001B[1;32m    497\u001B[0m \u001B[43m    \u001B[49m\u001B[43mcookies\u001B[49m\u001B[38;5;241;43m=\u001B[39;49m\u001B[43mmerged_cookies\u001B[49m\u001B[43m,\u001B[49m\n\u001B[1;32m    498\u001B[0m \u001B[43m    \u001B[49m\u001B[43mhooks\u001B[49m\u001B[38;5;241;43m=\u001B[39;49m\u001B[43mmerge_hooks\u001B[49m\u001B[43m(\u001B[49m\u001B[43mrequest\u001B[49m\u001B[38;5;241;43m.\u001B[39;49m\u001B[43mhooks\u001B[49m\u001B[43m,\u001B[49m\u001B[43m \u001B[49m\u001B[38;5;28;43mself\u001B[39;49m\u001B[38;5;241;43m.\u001B[39;49m\u001B[43mhooks\u001B[49m\u001B[43m)\u001B[49m\u001B[43m,\u001B[49m\n\u001B[1;32m    499\u001B[0m \u001B[43m\u001B[49m\u001B[43m)\u001B[49m\n\u001B[1;32m    500\u001B[0m \u001B[38;5;28;01mreturn\u001B[39;00m p\n",
      "File \u001B[0;32m~/enviroments/dialogos_python_general/lib/python3.10/site-packages/requests/models.py:368\u001B[0m, in \u001B[0;36mPreparedRequest.prepare\u001B[0;34m(self, method, url, headers, files, data, params, auth, cookies, hooks, json)\u001B[0m\n\u001B[1;32m    365\u001B[0m \u001B[38;5;250m\u001B[39m\u001B[38;5;124;03m\"\"\"Prepares the entire request with the given parameters.\"\"\"\u001B[39;00m\n\u001B[1;32m    367\u001B[0m \u001B[38;5;28mself\u001B[39m\u001B[38;5;241m.\u001B[39mprepare_method(method)\n\u001B[0;32m--> 368\u001B[0m \u001B[38;5;28;43mself\u001B[39;49m\u001B[38;5;241;43m.\u001B[39;49m\u001B[43mprepare_url\u001B[49m\u001B[43m(\u001B[49m\u001B[43murl\u001B[49m\u001B[43m,\u001B[49m\u001B[43m \u001B[49m\u001B[43mparams\u001B[49m\u001B[43m)\u001B[49m\n\u001B[1;32m    369\u001B[0m \u001B[38;5;28mself\u001B[39m\u001B[38;5;241m.\u001B[39mprepare_headers(headers)\n\u001B[1;32m    370\u001B[0m \u001B[38;5;28mself\u001B[39m\u001B[38;5;241m.\u001B[39mprepare_cookies(cookies)\n",
      "File \u001B[0;32m~/enviroments/dialogos_python_general/lib/python3.10/site-packages/requests/models.py:436\u001B[0m, in \u001B[0;36mPreparedRequest.prepare_url\u001B[0;34m(self, url, params)\u001B[0m\n\u001B[1;32m    434\u001B[0m     scheme, auth, host, port, path, query, fragment \u001B[38;5;241m=\u001B[39m parse_url(url)\n\u001B[1;32m    435\u001B[0m \u001B[38;5;28;01mexcept\u001B[39;00m LocationParseError \u001B[38;5;28;01mas\u001B[39;00m e:\n\u001B[0;32m--> 436\u001B[0m     \u001B[38;5;28;01mraise\u001B[39;00m InvalidURL(\u001B[38;5;241m*\u001B[39me\u001B[38;5;241m.\u001B[39margs)\n\u001B[1;32m    438\u001B[0m \u001B[38;5;28;01mif\u001B[39;00m \u001B[38;5;129;01mnot\u001B[39;00m scheme:\n\u001B[1;32m    439\u001B[0m     \u001B[38;5;28;01mraise\u001B[39;00m MissingSchema(\n\u001B[1;32m    440\u001B[0m         \u001B[38;5;124mf\u001B[39m\u001B[38;5;124m\"\u001B[39m\u001B[38;5;124mInvalid URL \u001B[39m\u001B[38;5;132;01m{\u001B[39;00murl\u001B[38;5;132;01m!r}\u001B[39;00m\u001B[38;5;124m: No scheme supplied. \u001B[39m\u001B[38;5;124m\"\u001B[39m\n\u001B[1;32m    441\u001B[0m         \u001B[38;5;124mf\u001B[39m\u001B[38;5;124m\"\u001B[39m\u001B[38;5;124mPerhaps you meant https://\u001B[39m\u001B[38;5;132;01m{\u001B[39;00murl\u001B[38;5;132;01m}\u001B[39;00m\u001B[38;5;124m?\u001B[39m\u001B[38;5;124m\"\u001B[39m\n\u001B[1;32m    442\u001B[0m     )\n",
      "\u001B[0;31mInvalidURL\u001B[0m: Failed to parse: https://trep.gtdata:image/gif;base64,R0lGODlhAQABAAD/ACwAAAAAAQABAAACADs="
     ]
    }
   ],
   "source": [
    "for dato in data_completa_centros_mesas_numeros:\n",
    "    centro = dato[0]\n",
    "    mesas = dato[1]\n",
    "    for mesa in mesas:\n",
    "        get_acta_image(centro, mesa)"
   ],
   "metadata": {
    "collapsed": false,
    "ExecuteTime": {
     "end_time": "2023-07-02T04:21:55.067052Z",
     "start_time": "2023-07-02T02:30:31.062969Z"
    }
   }
  },
  {
   "cell_type": "code",
   "execution_count": 190,
   "outputs": [],
   "source": [
    "get_acta_image(1, 1)"
   ],
   "metadata": {
    "collapsed": false,
    "ExecuteTime": {
     "end_time": "2023-07-02T02:25:18.175429Z",
     "start_time": "2023-07-02T02:25:09.681418Z"
    }
   }
  },
  {
   "cell_type": "code",
   "execution_count": null,
   "outputs": [],
   "source": [],
   "metadata": {
    "collapsed": false
   }
  }
 ],
 "metadata": {
  "kernelspec": {
   "display_name": "Python 3",
   "language": "python",
   "name": "python3"
  },
  "language_info": {
   "codemirror_mode": {
    "name": "ipython",
    "version": 2
   },
   "file_extension": ".py",
   "mimetype": "text/x-python",
   "name": "python",
   "nbconvert_exporter": "python",
   "pygments_lexer": "ipython2",
   "version": "2.7.6"
  }
 },
 "nbformat": 4,
 "nbformat_minor": 0
}
